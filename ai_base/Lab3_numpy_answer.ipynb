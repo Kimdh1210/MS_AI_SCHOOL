{
 "cells": [
  {
   "cell_type": "code",
   "execution_count": 1,
   "metadata": {},
   "outputs": [
    {
     "name": "stdout",
     "output_type": "stream",
     "text": [
      "[[0 0 0 1 0 0 0 0 0 0 0 0 0 0 0 0 0 0 0 0 0 0 0 0 0 0 0]\n",
      " [1 0 0 0 0 0 0 0 0 0 0 0 0 0 0 0 0 0 0 0 0 0 0 0 0 0 0]\n",
      " [0 0 0 0 0 0 0 0 0 0 0 0 0 0 0 0 0 0 0 1 0 0 0 0 0 0 0]\n",
      " [1 0 0 0 0 0 0 0 0 0 0 0 0 0 0 0 0 0 0 0 0 0 0 0 0 0 0]\n",
      " [0 0 0 0 0 0 0 0 0 0 0 0 0 0 0 0 0 0 0 0 0 0 0 0 0 0 1]\n",
      " [0 0 0 0 0 0 0 0 0 0 0 0 0 0 0 0 0 0 1 0 0 0 0 0 0 0 0]\n",
      " [0 0 1 0 0 0 0 0 0 0 0 0 0 0 0 0 0 0 0 0 0 0 0 0 0 0 0]\n",
      " [0 0 0 0 0 0 0 0 1 0 0 0 0 0 0 0 0 0 0 0 0 0 0 0 0 0 0]\n",
      " [0 0 0 0 1 0 0 0 0 0 0 0 0 0 0 0 0 0 0 0 0 0 0 0 0 0 0]\n",
      " [0 0 0 0 0 0 0 0 0 0 0 0 0 1 0 0 0 0 0 0 0 0 0 0 0 0 0]\n",
      " [0 0 0 0 0 0 0 0 0 0 0 0 0 0 0 0 0 0 0 1 0 0 0 0 0 0 0]\n",
      " [0 0 0 0 0 0 0 0 1 0 0 0 0 0 0 0 0 0 0 0 0 0 0 0 0 0 0]\n",
      " [0 0 0 0 0 0 0 0 0 0 0 0 0 0 0 0 0 0 1 0 0 0 0 0 0 0 0]\n",
      " [0 0 0 0 0 0 0 0 0 0 0 0 0 0 0 0 0 0 0 1 0 0 0 0 0 0 0]]\n"
     ]
    }
   ],
   "source": [
    "## one shot encoding\n",
    "import numpy as np\n",
    "\n",
    "# ========== EDIT HERE ==========\n",
    "alphabet = 'abcdefghijklmnopqrstuvwxyz ' # <- 빈칸이 있어야 빈칸도 처리 가능\n",
    "# ===============================\n",
    "\n",
    "def encoding(data):\n",
    "    ######################################\n",
    "    # TODO :  encoding 함수를 구현하시오.  \n",
    "    #         [Input]\n",
    "    #         - data : (type : string)  \n",
    "    #  \n",
    "    #         [output]\n",
    "    #         - encoded : (type : array, size of [len(data), len(alphabet)]) encoding result.  \n",
    "    # ========== EDIT HERE ==========\n",
    "\n",
    "    char_to_int = dict((c,i) for i,c in enumerate(alphabet))\n",
    "    encoded = np.zeros([len(data), len(alphabet)], dtype = int)\n",
    "    for i,j in enumerate(data):\n",
    "        encoded[i, char_to_int[j]] = 1\n",
    "\n",
    "    # ===============================\n",
    "    return encoded\n",
    "\n",
    "def decoding(data):\n",
    "    ######################################\n",
    "    # TODO :  decoding 함수를 구현하시오.  \n",
    "    #         [Input]\n",
    "    #         - data : (type : array, size : [len(data), len(alphabet)])  \n",
    "    #  \n",
    "    #         [output]\n",
    "    #         - decoded : (type : string) decoding result.  \n",
    "    # ========== EDIT HERE ==========\n",
    "    int_to_char = dict((i,c) for i,c in enumerate(alphabet))\n",
    "    decoded = ''\n",
    "    for v in data:\n",
    "        decoded += int_to_char[np.argmax(v)]\n",
    "    # ===============================\n",
    "    \n",
    "    return decoded\n",
    "    \n",
    "if __name__ == '__main__':\n",
    "    data = 'data scientist'\n",
    "    \n",
    "    encoded = encoding(data)\n",
    "    decoded = decoding(encoded)\n",
    "\n",
    "    print(encoded)\n",
    "\n"
   ]
  },
  {
   "cell_type": "code",
   "execution_count": null,
   "metadata": {},
   "outputs": [],
   "source": []
  }
 ],
 "metadata": {
  "kernelspec": {
   "display_name": "Python 3 (ipykernel)",
   "language": "python",
   "name": "python3"
  },
  "language_info": {
   "codemirror_mode": {
    "name": "ipython",
    "version": 3
   },
   "file_extension": ".py",
   "mimetype": "text/x-python",
   "name": "python",
   "nbconvert_exporter": "python",
   "pygments_lexer": "ipython3",
   "version": "3.10.9"
  }
 },
 "nbformat": 4,
 "nbformat_minor": 2
}
