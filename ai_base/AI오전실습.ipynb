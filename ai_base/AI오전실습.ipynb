{
 "cells": [
  {
   "cell_type": "code",
   "execution_count": 2,
   "metadata": {
    "colab": {
     "base_uri": "https://localhost:8080/",
     "height": 34
    },
    "colab_type": "code",
    "id": "4jFX_7j67HYh",
    "outputId": "a40b558b-c098-4061-adb0-d3019723af55"
   },
   "outputs": [
    {
     "name": "stdout",
     "output_type": "stream",
     "text": [
      "네가 생각한 답은 4197971.0 원이야!\n"
     ]
    }
   ],
   "source": [
    "#'Num1'이라는 변수를 하나 선언하고, 숫자 23571를 넣어줍시다.\n",
    "Num1 = 23571\n",
    "#'Num2'이라는 변수를 하나 선언하고, 이전 값에 1024를 곱한 값을 넣어줍시다.\n",
    "Num2 = Num1 * 1024\n",
    "#'Num3'이라는 변수를 하나 선언하고, 이전 값에 243을 나눈 값을 넣어줍시다.\n",
    "Num3 = Num2 / 243\n",
    "#'Num4'이라는 변수를 하나 선언하고, 이전 값에 4927819을 더한 값을 넣어줍시다.\n",
    "Num4 = Num3 + 4927819\n",
    "#'Answer'이라는 변수를 하나 선언하고, 이전 값에 829176을 뺀 값을 넣어줍시다.\n",
    "Answer = Num4 - 829176\n",
    "#지효에게 외쳐봅시다. '너가 생각한 답은 Answer원이야!'\n",
    "print(\"네가 생각한 답은\", Answer, \"원이야!\")"
   ]
  },
  {
   "cell_type": "code",
   "execution_count": 23,
   "metadata": {
    "colab": {
     "base_uri": "https://localhost:8080/",
     "height": 52
    },
    "colab_type": "code",
    "id": "tLRXqiJp7M-4",
    "outputId": "f758bab3-7a77-4eb1-9a2d-736670203e38"
   },
   "outputs": [
    {
     "name": "stdout",
     "output_type": "stream",
     "text": [
      "2\n",
      "입력받은수 2 짝수입니다.\n"
     ]
    }
   ],
   "source": [
    "# input()을 이용해서 숫자(정수) 입력을 받고, 변수 num에 이를 넣어봅시다.\n",
    "num = int(input())\n",
    "\n",
    "# if-else문을 이용해서 만약 입력받은 수가 홀수면 \"(입력받은 수) 홀수입니다.\"\n",
    "if num % 2 == 0:\n",
    "    print (\"입력받은수\", num, \"짝수입니다.\")\n",
    "else:\n",
    "    print(\"입력받은수 %d 홀수입니다.\" %num)\n",
    "    # 짝수면 \"(입력받은 수) 짝수입니다.\"를 출력해봅시다"
   ]
  },
  {
   "cell_type": "code",
   "execution_count": 11,
   "metadata": {
    "colab": {
     "base_uri": "https://localhost:8080/",
     "height": 106
    },
    "colab_type": "code",
    "id": "4JVa88QxlZer",
    "outputId": "8f5e112a-ba90-4b1c-f580-9998d42e0713"
   },
   "outputs": [
    {
     "name": "stdout",
     "output_type": "stream",
     "text": [
      "서울역 도착.  //  ['Seongjin', 'Chankyung', 'Junyong', 'Jonghwan']\n",
      "대전역 도착. //  ['Dongbin', 'Seongjin', 'Chankyung', 'Junyong', 'Jonghwan']\n",
      "동대구역 도착. //  ['Dongbin', 'Chankyung', 'Junyong', 'Jonghwan']\n",
      "부산역 도착. //  ['Chankyung', 'Dongbin', 'Jonghwan', 'Junyong']\n",
      "오늘도 빠르고 편안한 기차을 이용해주셔서 감사합니다.\n"
     ]
    }
   ],
   "source": [
    "#현재 기차에는 3명의 승객이 탑승하고 있습니다.\n",
    "train =['Seongjin', 'Chankyung', \"Junyong\"]\n",
    "# 서울역에 정차했습니다. \n",
    "# 승객 'Jonghwan'을 맨 뒷칸에 태우세요.\n",
    "train.append('Jonghwan')\n",
    "\n",
    "print('서울역 도착.  // ', train)\n",
    "# 대전역에 정차했습니다. \n",
    "# 1등석 승객 'Dongbin'이 탑승했습니다. 이분을 맨 앞에 태우세요.\n",
    "train.insert(0,'Dongbin')\n",
    "\n",
    "print('대전역 도착. // ', train)\n",
    "# 동대구역에 정차했습니다. \n",
    "# 승객 'Seongjin'님이 내린다고 합니다. 이분을 하차시켜주세요.\n",
    "train.remove('Seongjin')\n",
    "\n",
    "print('동대구역 도착. // ', train)\n",
    "# 마지막 역인 부산역에 정차했습니다. \n",
    "# 원활한 하차를 위해 손님들을 자리를 사전순으로 다시 지정해주세요.\n",
    "train.sort()\n",
    "\n",
    "print('부산역 도착. // ', train)\n",
    "print('오늘도 빠르고 편안한 기차을 이용해주셔서 감사합니다.')\n"
   ]
  },
  {
   "cell_type": "code",
   "execution_count": 12,
   "metadata": {
    "colab": {},
    "colab_type": "code",
    "id": "A8333Mm3sC1L"
   },
   "outputs": [
    {
     "name": "stdout",
     "output_type": "stream",
     "text": [
      "dahyun로부터 훔쳐온 보석은 다이아몬드\n",
      "tzuyu로부터 훔쳐온 보석은 ['금', '금', '금', '금', '금', '금', '금', '금', '금', '금', '금', '금', '금']\n"
     ]
    }
   ],
   "source": [
    "#dahyun의 가방 안에서 '다이아몬드'를 훔쳐볼까요?\n",
    "dahyun = ['은', '은', '은', '은', '은', '은', '은', '은', '은', '은', '은', '은', '은', '은', '은', '은', '은', '은', '은', '은', '은', '은', '은', '은', '은', '은', '은', '은', '은', '은', '은', '은', '은', '은', '은', '은', '은', '은', '은', '은', '은', '은', '다이아몬드', '은']\n",
    "\n",
    "#이 가방에 한번 넣어봅시다!\n",
    "stealBag1 = dahyun[-2]\n",
    "\n",
    "#tzuyu는 가방 안 깊숙히 금을 13개 가지고 있네요! 이것들도 한번 훔쳐볼까요?\n",
    "tzuyu = ['은', '은', '은', '은', '은', '은', '은', '은', '은', '은', '은', '은', '은', '은', '은', '은', '은', '은','금', '금', '금', '금', '금', '금', '금', '금', '금', '금', '금', '금', '금' ]\n",
    "\n",
    "#이 가방에 한번 넣어봅시다!\n",
    "stealBag2 = tzuyu[18:]\n",
    "\n",
    "#여러분이 훔쳐온 보석은 무엇인지 print()를 이용해서 한번 확인해보세요!\n",
    "print('dahyun로부터 훔쳐온 보석은', stealBag1)\n",
    "print('tzuyu로부터 훔쳐온 보석은', stealBag2)"
   ]
  },
  {
   "cell_type": "code",
   "execution_count": 18,
   "metadata": {
    "colab": {},
    "colab_type": "code",
    "id": "cata-Oj3sDC2"
   },
   "outputs": [
    {
     "name": "stdout",
     "output_type": "stream",
     "text": [
      "['ring', 'ding', 'dong']\n",
      "['ring', 'ding', 'dong', 'ring', 'ding', 'dong']\n",
      "['ring', 'ding', 'dong', 'ring', 'ding', 'dong'] ['ring', 'diggi', 'ding', 'diggi', 'ding', 'ding', 'ding']\n"
     ]
    }
   ],
   "source": [
    "a = ['ring']\n",
    "b = ['ding']\n",
    "c = ['dong']\n",
    "d = ['diggi']\n",
    "\n",
    "# 연결 연산자를 이용해서 ['ring', 'ding', 'dong']를 lyric에 대입해봅시다.\n",
    "lyric = a + b + c\n",
    "print(lyric)\n",
    "\n",
    "# 수능을 하루 앞둔 친구에게 수능 금지곡을 들려줍시다!\n",
    "# 변수 shinee에 다음 리스트를 담아봅시다.\n",
    "# ['ring', 'ding', 'dong', 'ring', 'ding', 'dong']\n",
    "shinee1 = (a + b + c) * 2\n",
    "\n",
    "print(shinee1)\n",
    "\n",
    "# 노래가 좀 짧네요! 뒷부분도 불러봅시다!\n",
    "#['ring','diggi','ding','diggi','ding','ding','ding']\n",
    "shinee2 = a + d + b + d + 3 * b\n",
    "print(shinee1,shinee2)"
   ]
  },
  {
   "cell_type": "code",
   "execution_count": 27,
   "metadata": {
    "colab": {},
    "colab_type": "code",
    "id": "48HUKg-S50ir"
   },
   "outputs": [
    {
     "name": "stdout",
     "output_type": "stream",
     "text": [
      "300\n"
     ]
    }
   ],
   "source": [
    "## 변수 mix에서 쌀의 개수가 몇 개가 있는지 확인해보고, 이를 출력해봅시다.\n",
    "mix = \"쌀씰쌀쌀씰쌀씰쌀씰쌀쌀씰쌀씰쌀씰쌀쌀씰쌀씰쌀씰쌀쌀씰쌀씰쌀씰쌀쌀씰쌀씰쌀씰쌀쌀씰쌀씰쌀씰쌀쌀씰쌀씰쌀씰쌀쌀씰쌀씰쌀씰쌀쌀씰쌀씰쌀씰쌀쌀씰쌀씰쌀씰쌀쌀씰쌀씰쌀씰쌀쌀씰쌀씰쌀씰쌀쌀씰쌀씰쌀씰쌀쌀씰쌀씰쌀씰쌀쌀씰쌀씰쌀씰쌀쌀씰쌀씰쌀씰쌀쌀씰쌀씰쌀씰쌀쌀씰쌀씰쌀씰쌀쌀씰쌀씰쌀씰쌀쌀씰쌀씰쌀씰쌀쌀씰쌀씰쌀씰쌀쌀씰쌀씰쌀씰쌀쌀씰쌀씰쌀씰쌀쌀씰쌀씰쌀씰쌀쌀씰쌀씰쌀씰쌀쌀씰쌀씰쌀씰쌀쌀씰쌀씰쌀씰쌀쌀씰쌀씰쌀씰쌀쌀씰쌀씰쌀씰쌀쌀씰쌀씰쌀씰쌀쌀씰쌀씰쌀씰쌀쌀씰쌀씰쌀씰쌀쌀씰쌀씰쌀씰쌀쌀씰쌀씰쌀씰쌀쌀씰쌀씰쌀씰쌀쌀씰쌀씰쌀씰쌀쌀씰쌀씰쌀씰쌀쌀씰쌀씰쌀씰쌀쌀씰쌀씰쌀씰쌀쌀씰쌀씰쌀씰쌀쌀씰쌀씰쌀씰쌀쌀씰쌀씰쌀씰쌀쌀씰쌀씰쌀씰쌀쌀씰쌀씰쌀씰쌀쌀씰쌀씰쌀씰쌀쌀씰쌀씰쌀씰쌀쌀씰쌀씰쌀씰쌀쌀씰쌀씰쌀씰쌀쌀씰쌀씰쌀씰쌀쌀씰쌀씰쌀씰쌀쌀씰쌀씰쌀씰쌀쌀씰쌀씰쌀씰쌀쌀씰쌀씰쌀씰쌀쌀씰쌀씰쌀씰쌀쌀씰쌀씰쌀씰쌀쌀씰쌀씰쌀씰쌀쌀씰쌀씰쌀씰쌀쌀씰쌀씰쌀씰쌀쌀씰쌀씰쌀씰쌀쌀씰쌀씰쌀씰쌀쌀씰쌀씰쌀씰쌀쌀씰쌀씰쌀씰쌀쌀씰쌀씰쌀씰쌀쌀씰쌀씰쌀씰쌀쌀씰쌀씰쌀씰쌀쌀씰쌀씰쌀씰쌀쌀씰쌀씰쌀씰쌀쌀씰쌀씰쌀씰쌀쌀씰쌀씰쌀씰쌀쌀씰쌀씰쌀씰쌀쌀씰쌀씰쌀씰쌀쌀씰쌀씰쌀씰쌀쌀씰쌀씰쌀씰쌀쌀씰쌀씰쌀씰쌀쌀씰쌀씰\"\n",
    "count= 0\n",
    "\n",
    "for i in mix:\n",
    "    if i == \"쌀\":\n",
    "        count += 1\n",
    "\n",
    "print(count)"
   ]
  },
  {
   "cell_type": "code",
   "execution_count": 25,
   "metadata": {},
   "outputs": [
    {
     "name": "stdout",
     "output_type": "stream",
     "text": [
      "19 * 1 = 19\n",
      "19 * 2 = 38\n",
      "19 * 3 = 57\n",
      "19 * 4 = 76\n",
      "19 * 5 = 95\n",
      "19 * 6 = 114\n",
      "19 * 7 = 133\n",
      "19 * 8 = 152\n",
      "19 * 9 = 171\n",
      "19 * 10 = 190\n",
      "19 * 11 = 209\n",
      "19 * 12 = 228\n",
      "19 * 13 = 247\n",
      "19 * 14 = 266\n",
      "19 * 15 = 285\n",
      "19 * 16 = 304\n",
      "19 * 17 = 323\n",
      "19 * 18 = 342\n",
      "19 * 19 = 361\n"
     ]
    }
   ],
   "source": [
    "#for-range()를 이용해서 19단을 전부 출력해봅시다!\n",
    "for i in range(1, 20):\n",
    "        print(\"19 *\", i, \"=\", 19 * i)"
   ]
  },
  {
   "cell_type": "code",
   "execution_count": 29,
   "metadata": {},
   "outputs": [
    {
     "name": "stdout",
     "output_type": "stream",
     "text": [
      "서울 : 밥 먹었어요?\n",
      "밥 뭇나?\n"
     ]
    }
   ],
   "source": [
    "# 다음은 표준어로 \"밥 먹었어요?\"가 담긴 변수 greeting입니다.\n",
    "\n",
    "greeting = \"밥 먹었어요?\"\n",
    "# 이를 print로 출력하면 다음과 같습니다.\n",
    "print(\"서울 :\",greeting)\n",
    "\n",
    "# 함수 busan을 선언하고, 그 안에 변수 greeting에 \"밥 뭇나?\"를 넣어봅시다.\n",
    "def busan():\n",
    "    greeting = \"밥 뭇나?\"\n",
    "    return greeting\n",
    "# 함수 busan을 실행해보세요.\n",
    "greeting = busan()\n",
    "# 변수 greeting을 출력해보세요.\n",
    "print(greeting)"
   ]
  },
  {
   "cell_type": "code",
   "execution_count": null,
   "metadata": {},
   "outputs": [],
   "source": []
  }
 ],
 "metadata": {
  "colab": {
   "collapsed_sections": [],
   "name": "Lecture#1.ipynb",
   "provenance": []
  },
  "kernelspec": {
   "display_name": "Python 3 (ipykernel)",
   "language": "python",
   "name": "python3"
  },
  "language_info": {
   "codemirror_mode": {
    "name": "ipython",
    "version": 3
   },
   "file_extension": ".py",
   "mimetype": "text/x-python",
   "name": "python",
   "nbconvert_exporter": "python",
   "pygments_lexer": "ipython3",
   "version": "3.10.9"
  }
 },
 "nbformat": 4,
 "nbformat_minor": 1
}
