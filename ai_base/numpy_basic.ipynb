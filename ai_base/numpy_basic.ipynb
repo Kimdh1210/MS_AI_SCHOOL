{
 "cells": [
  {
   "cell_type": "code",
   "execution_count": 22,
   "metadata": {},
   "outputs": [
    {
     "name": "stdout",
     "output_type": "stream",
     "text": [
      "1차원 array\n",
      "[0 1 2 3 4 5 6 7 8 9]\n",
      "<class 'numpy.ndarray'>\n",
      "1\n",
      "(10,)\n",
      "10\n",
      "int32\n",
      "4\n",
      "[3 4 5]\n"
     ]
    }
   ],
   "source": [
    "import numpy as np\n",
    "def main():\n",
    "    print(\"1차원 array\")\n",
    "    array = np.arange(10)\n",
    "    print(array)\n",
    "    # Q1. array의 자료형을 출력해보세요.\n",
    "    print(type(array))\n",
    "    # Q2. array의 차원을 출력해보세요.\n",
    "    print(array.ndim)\n",
    "    # Q3. array의 모양을 출력해보세요.\n",
    "    print(array.shape)\n",
    "    # Q4. array의 크기를 출력해보세요.\n",
    "    print(array.size)\n",
    "    # Q5. array의 dtype(data type)을 출력해보세요.\n",
    "    print(array.dtype)\n",
    "    # Q6. array의 5번째 요소를 출력해보세요.\n",
    "    print(array[4])\n",
    "    # Q7. array의 4번째 요소부터 5번째 요소까지 출력해보세요.\n",
    "    print(array[3:6])\n",
    "if __name__ == \"__main__\":\n",
    "    main()"
   ]
  },
  {
   "cell_type": "code",
   "execution_count": 21,
   "metadata": {},
   "outputs": [
    {
     "name": "stdout",
     "output_type": "stream",
     "text": [
      "[1 2 3 4 5]\n",
      "[ 6  7  8  9 10]\n",
      "[-4 -3 -2 -1  0]\n",
      "[ 5 10 15 20 25]\n",
      "[0.2 0.4 0.6 0.8 1. ]\n",
      "배열끼리의 덧셈 :  [6 6 6 6 6]\n",
      "배열끼리의 뺄셈 :  [-4 -2  0  2  4]\n"
     ]
    }
   ],
   "source": [
    "def main():\n",
    "    array = np.array([1,2,3,4,5])\n",
    "    array2 = np.array([5,4,3,2,1])\n",
    "    print(array)\n",
    "    # Q1. array에 5를 더한 값을 출력해보세요.\n",
    "    print(array + 5)\n",
    "    # Q2. array에 5를 뺀 값을 출력해보세요.\n",
    "    print(array - 5)\n",
    "    # Q3. array에 5를 곱한 값을 출력해보세요.\n",
    "    print(array * 5)\n",
    "    # Q4. array를 5로 나눈 값을 출력해보세요.\n",
    "    print(array / 5)\n",
    "    # Q5. array에 array2를 더한 값을 출력해보세요.    \n",
    "    print(\"배열끼리의 덧셈 : \", array + array2)\n",
    "    \n",
    "    # Q6. array에 array2를 뺀 값을 출력해보세요.\n",
    "    print(\"배열끼리의 뺄셈 : \", array - array2)\n",
    "    \n",
    "if __name__ == \"__main__\":\n",
    "    main()"
   ]
  },
  {
   "cell_type": "code",
   "execution_count": null,
   "metadata": {},
   "outputs": [],
   "source": []
  }
 ],
 "metadata": {
  "kernelspec": {
   "display_name": "Python 3 (ipykernel)",
   "language": "python",
   "name": "python3"
  },
  "language_info": {
   "codemirror_mode": {
    "name": "ipython",
    "version": 3
   },
   "file_extension": ".py",
   "mimetype": "text/x-python",
   "name": "python",
   "nbconvert_exporter": "python",
   "pygments_lexer": "ipython3",
   "version": "3.10.9"
  }
 },
 "nbformat": 4,
 "nbformat_minor": 2
}
