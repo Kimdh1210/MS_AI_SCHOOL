{
 "cells": [
  {
   "cell_type": "code",
   "execution_count": 4,
   "metadata": {},
   "outputs": [
    {
     "ename": "TypeError",
     "evalue": "unsupported operand type(s) for -: 'str' and 'str'",
     "output_type": "error",
     "traceback": [
      "\u001b[1;31m---------------------------------------------------------------------------\u001b[0m",
      "\u001b[1;31mTypeError\u001b[0m                                 Traceback (most recent call last)",
      "Cell \u001b[1;32mIn[4], line 43\u001b[0m\n\u001b[0;32m     40\u001b[0m \u001b[38;5;28;01mif\u001b[39;00m \u001b[38;5;18m__name__\u001b[39m \u001b[38;5;241m==\u001b[39m \u001b[38;5;124m'\u001b[39m\u001b[38;5;124m__main__\u001b[39m\u001b[38;5;124m'\u001b[39m:\n\u001b[0;32m     41\u001b[0m     data \u001b[38;5;241m=\u001b[39m \u001b[38;5;124m'\u001b[39m\u001b[38;5;124mdata scientist\u001b[39m\u001b[38;5;124m'\u001b[39m\n\u001b[1;32m---> 43\u001b[0m     encoded \u001b[38;5;241m=\u001b[39m \u001b[43mencoding\u001b[49m\u001b[43m(\u001b[49m\u001b[43mdata\u001b[49m\u001b[43m)\u001b[49m\n\u001b[0;32m     44\u001b[0m     \u001b[38;5;66;03m#decoded = decoding(encoded)\u001b[39;00m\n\u001b[0;32m     45\u001b[0m     \u001b[38;5;28mprint\u001b[39m(encoded)\n",
      "Cell \u001b[1;32mIn[4], line 21\u001b[0m, in \u001b[0;36mencoding\u001b[1;34m(data)\u001b[0m\n\u001b[0;32m     19\u001b[0m \u001b[38;5;28;01mfor\u001b[39;00m i \u001b[38;5;129;01min\u001b[39;00m data:\n\u001b[0;32m     20\u001b[0m     data_list \u001b[38;5;241m=\u001b[39m np\u001b[38;5;241m.\u001b[39mzeros(\u001b[38;5;241m27\u001b[39m)\n\u001b[1;32m---> 21\u001b[0m     data_list[\u001b[43mi\u001b[49m\u001b[43m \u001b[49m\u001b[38;5;241;43m-\u001b[39;49m\u001b[43m \u001b[49m\u001b[38;5;28;43mstr\u001b[39;49m\u001b[43m(\u001b[49m\u001b[38;5;241;43m96\u001b[39;49m\u001b[43m)\u001b[49m] \u001b[38;5;241m=\u001b[39m \u001b[38;5;241m0\u001b[39m\n\u001b[0;32m     22\u001b[0m     encoded \u001b[38;5;241m=\u001b[39m np\u001b[38;5;241m.\u001b[39mvstack((encoded,data_list))\n\u001b[0;32m     23\u001b[0m \u001b[38;5;66;03m# ===============================\u001b[39;00m\n",
      "\u001b[1;31mTypeError\u001b[0m: unsupported operand type(s) for -: 'str' and 'str'"
     ]
    }
   ],
   "source": [
    "## 알파벳 소문자와 빈칸만 iuput으로 주어진다 가정합니다.\n",
    "import numpy as np\n",
    "\n",
    "# ========== EDIT HERE ==========\n",
    "# TODO : 인코딩, 디코딩 할때 쓸 자료형\n",
    "\n",
    "# ===============================\n",
    "\n",
    "def encoding(data):\n",
    "    ######################################\n",
    "    # TODO :  encoding 함수를 구현하시오.  \n",
    "    #         [Input]\n",
    "    #         - data : (type : string)  \n",
    "    #  \n",
    "    #         [output]\n",
    "    #         - encoded : (type : array, size of [len(data), len(alphabet)]) encoding result.  \n",
    "    # ========== EDIT HERE ==========\n",
    "    encoded = []\n",
    "    for i in data:\n",
    "        data_list = np.zeros(27)\n",
    "        data_list[i - str(96)] = 0\n",
    "        encoded = np.vstack((encoded,data_list))\n",
    "    # ===============================\n",
    "    return encoded\n",
    "\n",
    "def decoding(data):\n",
    "    ######################################\n",
    "    # TODO :  decoding 함수를 구현하시오.  \n",
    "    #         [Input]\n",
    "    #         - data : (type : array, size : [len(data), len(alphabet)])  \n",
    "    #  \n",
    "    #         [output]\n",
    "    #         - decoded : (type : string) decoding result.  \n",
    "    # ========== EDIT HERE ==========\n",
    "  \n",
    "    # ===============================\n",
    "    \n",
    "    return decoded\n",
    "    \n",
    "if __name__ == '__main__':\n",
    "    data = 'data scientist'\n",
    "    \n",
    "    encoded = encoding(data)\n",
    "    #decoded = decoding(encoded)\n",
    "    print(encoded)\n",
    "\n"
   ]
  },
  {
   "cell_type": "code",
   "execution_count": null,
   "metadata": {},
   "outputs": [],
   "source": []
  }
 ],
 "metadata": {
  "kernelspec": {
   "display_name": "Python 3 (ipykernel)",
   "language": "python",
   "name": "python3"
  },
  "language_info": {
   "codemirror_mode": {
    "name": "ipython",
    "version": 3
   },
   "file_extension": ".py",
   "mimetype": "text/x-python",
   "name": "python",
   "nbconvert_exporter": "python",
   "pygments_lexer": "ipython3",
   "version": "3.10.9"
  }
 },
 "nbformat": 4,
 "nbformat_minor": 2
}
