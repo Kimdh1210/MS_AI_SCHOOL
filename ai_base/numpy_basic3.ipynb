{
 "cells": [
  {
   "cell_type": "code",
   "execution_count": 31,
   "metadata": {},
   "outputs": [
    {
     "data": {
      "text/plain": [
       "array([[0., 1., 2., 3., 4.],\n",
       "       [5., 6., 7., 8., 9.],\n",
       "       [1., 1., 1., 1., 1.],\n",
       "       [1., 1., 1., 1., 1.]])"
      ]
     },
     "execution_count": 31,
     "metadata": {},
     "output_type": "execute_result"
    }
   ],
   "source": [
    "import numpy as np\n",
    "import seaborn as sns\n",
    "import pandas as pd\n",
    "# problem 1 \n",
    "# input : 배열을 직접 입력하지 말고, numpy의 함수를 써서 아래와 같이 생성 (a,b 모두)\n",
    "\n",
    "# a = array([[0, 1, 2, 3, 4],\n",
    "#       [5, 6, 7, 8, 9]])\n",
    "a = np.arange(10).reshape(2,5)\n",
    "# b = array([[1, 1, 1, 1, 1],\n",
    "#       [1, 1, 1, 1, 1]])\n",
    "b = np.ones((2,5))\n",
    "# output : \n",
    "# array([[0, 1, 2, 3, 4],\n",
    "#       [5, 6, 7, 8, 9],\n",
    "#       [1, 1, 1, 1, 1],\n",
    "#       [1, 1, 1, 1, 1]])\n",
    "np.vstack((a,b))"
   ]
  },
  {
   "cell_type": "code",
   "execution_count": 34,
   "metadata": {},
   "outputs": [
    {
     "data": {
      "text/plain": [
       "array([[3, 3, 3],\n",
       "       [3, 3, 3],\n",
       "       [3, 3, 3]])"
      ]
     },
     "execution_count": 34,
     "metadata": {},
     "output_type": "execute_result"
    }
   ],
   "source": [
    "# problem 2 \n",
    "# input : \n",
    "a_2d = np.array([[4,4,4],[5,5,5],[6,6,6]])\n",
    "b_1d = np.array([1,2,3])\n",
    "\n",
    "# output :\n",
    "# array([[3, 3, 3],\n",
    "#       [3, 3, 3],\n",
    "#       [3, 3, 3]])\n",
    "b = b_1d.reshape(3,-1)\n",
    "c = a_2d - b\n",
    "c"
   ]
  },
  {
   "cell_type": "code",
   "execution_count": null,
   "metadata": {},
   "outputs": [],
   "source": []
  }
 ],
 "metadata": {
  "kernelspec": {
   "display_name": "Python 3 (ipykernel)",
   "language": "python",
   "name": "python3"
  },
  "language_info": {
   "codemirror_mode": {
    "name": "ipython",
    "version": 3
   },
   "file_extension": ".py",
   "mimetype": "text/x-python",
   "name": "python",
   "nbconvert_exporter": "python",
   "pygments_lexer": "ipython3",
   "version": "3.10.9"
  }
 },
 "nbformat": 4,
 "nbformat_minor": 2
}
