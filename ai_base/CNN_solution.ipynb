{
 "cells": [
  {
   "cell_type": "code",
   "execution_count": null,
   "metadata": {},
   "outputs": [],
   "source": [
    "import numpy as np\n",
    "\n",
    "def convolution2d(x, kernel, stride=1):\n",
    "    \"\"\"\n",
    "    Convolution 2D : Do Convolution on 'x' with filter = 'kernel', stride = 'stride'\n",
    "    입력 x에 대해 'kernel'을 filter로 사용하여 2D Convolution을 수행하시오.\n",
    "    [Input]\n",
    "    x: 2D array\n",
    "    - Shape : (Height, Width)\n",
    "    kernel : 2D convolution filter\n",
    "    - Shape : (Kernel size, Kernel size)\n",
    "    stride : Stride size (default = 1)\n",
    "    - dtype : int\n",
    "    [Output]\n",
    "    conv_out : convolution result\n",
    "    - Shape : (Conv_Height, Conv_Width)\n",
    "    - Conv_Height & Conv_Width can be calculated using 'Height', 'Width', 'Kernel size', 'Stride'\n",
    "    \"\"\"\n",
    "    height, width = x.shape\n",
    "    kernel_size = kernel.shape[0]\n",
    "    conv_out = None\n",
    "    # =============================== EDIT HERE ===============================\n",
    "    m, n = height + 1 - kernel_size, width + 1 - kernel_size\n",
    "    conv_out = np.zeros((int((height-kernel_size)/ stride)+1, int((width-kernel_size) / stride)+1))\n",
    "    k = 0\n",
    "    for i in range(0, m, stride):\n",
    "        l = 0\n",
    "        for j in range(0, n, stride):\n",
    "            conv_out[k][l] = np.sum(x[i:i + kernel_size, j:j + kernel_size] * kernel)\n",
    "            l = l + 1\n",
    "        k = k + 1\n",
    "    # =========================================================================\n",
    "    return conv_out\n",
    "\n",
    "\n",
    "if __name__ == '__main__':\n",
    "    x = np.array([[1,0,0,0], [1,1,1,1], [0,1,0,0], [1,1,0,1]])\n",
    "    kernel = np.array([[1,0,0], [0,1,1], [1,1,1]])\n",
    "\n",
    "    x_ = np.array([[1,1,0,1,1], [0,1,0,0,1], [1,1,0,1,0], [0,0,1,1,1], [1,1,1,1,1]])\n",
    "    kernel_ = np.array([[1,0,1], [1,1,1], [0,1,0]])\n",
    "\n",
    "    y = convolution2d(x_,kernel_,stride=2)\n",
    "    print(y)"
   ]
  }
 ],
 "metadata": {
  "kernelspec": {
   "display_name": "Python 3",
   "language": "python",
   "name": "python3"
  }
 },
 "nbformat": 4,
 "nbformat_minor": 2
}
