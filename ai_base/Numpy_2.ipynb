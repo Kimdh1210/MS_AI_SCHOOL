{
 "cells": [
  {
   "cell_type": "code",
   "execution_count": 53,
   "metadata": {},
   "outputs": [
    {
     "name": "stdout",
     "output_type": "stream",
     "text": [
      "3\n",
      "3\n"
     ]
    }
   ],
   "source": [
    "import numpy as np\n",
    "\n",
    "\n",
    "def make_cards(array):\n",
    "    ######################################\n",
    "    # TODO :  1~25 1차원 array를 (5,5)의 숫자가 random하게 들어있는 2D array로 만든다.\n",
    "    #         [Input]\n",
    "    #         - array : (N,) 1-d array  \n",
    "    #  \n",
    "    #         [output]\n",
    "    #         - cards :  (number of people=5, 5) reshaped of array \n",
    "    # ========== EDIT HERE ==========\n",
    "    np.random.shuffle(array)\n",
    "    cards = array.reshape(5,5)\n",
    "\n",
    "    # ===============================\n",
    "    return cards\n",
    "\n",
    "def get_winner1(cards): \n",
    "    i = np.eye(5)\n",
    "    diagonal_matrix = cards * i\n",
    "    result = diagonal_matrix - cards + diagonal_matrix\n",
    "    winner1 = np.argmax(result.sum(axis=1)) + 1\n",
    "    return winner1\n",
    "\n",
    "def get_winner(cards): \n",
    "    ######################################\n",
    "    # TODO :  여러가지 numpy 연산을 통해서 승자의 인덱스를 구해준다.\n",
    "    #         (예시를 보면 이해할 수 있음)\n",
    "    #         주의사항 : loop을 쓰지 않고 구현.\n",
    "    #         [Input]\n",
    "    #         - cards : (number of people=5, 5)  \n",
    "    #  \n",
    "    #         [output]\n",
    "    #         - winner :  합이 가장 큰 사람 (index가 0인 사람이 첫번째 사람)\n",
    "    # ========== EDIT HERE ==========\n",
    "    i = np.eye(5)\n",
    "    diagonal_matrix = np.multiply(cards, i)\n",
    "    u = np.ones((5,5))\n",
    "    i_minus_u = i - u\n",
    "    negative_diagonal_matrix = np.multiply(cards, i_minus_u)\n",
    "    combined_matrix = np.add(diagonal_matrix,negative_diagonal_matrix)\n",
    "    sum_matrix = combined_matrix.sum(axis=1)\n",
    "    winner = np.argmax(sum_matrix) + 1\n",
    "    # ===============================\n",
    "    return winner\n",
    "\n",
    "if __name__ == '__main__':\n",
    "    # ========== EDIT HERE ==========\n",
    "    # TODO : 1~25의 numpy array를 만든다.\n",
    "    array = np.arange(1,26)\n",
    "    # ===============================\n",
    "    cards = make_cards(array)\n",
    "    winner = get_winner(cards) #강사님이한거\n",
    "    winner1 = get_winner1(cards) #내가한거\n",
    "\n",
    "    print(winner)\n",
    "    print(winner1)"
   ]
  },
  {
   "cell_type": "code",
   "execution_count": 54,
   "metadata": {},
   "outputs": [],
   "source": [
    "t=np.array([14.2, 16.4, 11.9, 15.2, 18.5, 22.1, 19.4, 25.1, 23.4, 18.1, 22.6, 17.2])\n",
    "s=np.array([215, 325, 185, 332, 406, 522, 412, 614, 544, 421, 445, 408])"
   ]
  },
  {
   "cell_type": "code",
   "execution_count": 58,
   "metadata": {},
   "outputs": [
    {
     "data": {
      "text/plain": [
       "<matplotlib.collections.PathCollection at 0x20f597d2710>"
      ]
     },
     "execution_count": 58,
     "metadata": {},
     "output_type": "execute_result"
    },
    {
     "data": {
      "image/png": "[encoded data removed]",
      "text/plain": [
       "<Figure size 300x200 with 1 Axes>"
      ]
     },
     "metadata": {},
     "output_type": "display_data"
    }
   ],
   "source": [
    "import matplotlib.pyplot as plt\n",
    "plt.figure(figsize = (3,2))\n",
    "plt.scatter(t,s)"
   ]
  },
  {
   "cell_type": "code",
   "execution_count": 59,
   "metadata": {},
   "outputs": [
    {
     "name": "stdout",
     "output_type": "stream",
     "text": [
      "[[   16.08931818   484.09318182]\n",
      " [  484.09318182 15886.81060606]]\n"
     ]
    }
   ],
   "source": [
    "C = np.cov(t,s)\n",
    "print(C)"
   ]
  },
  {
   "cell_type": "code",
   "execution_count": 60,
   "metadata": {},
   "outputs": [
    {
     "data": {
      "text/plain": [
       "array([[1.        , 0.95750662],\n",
       "       [0.95750662, 1.        ]])"
      ]
     },
     "execution_count": 60,
     "metadata": {},
     "output_type": "execute_result"
    }
   ],
   "source": [
    "R = np.corrcoef([t,s])\n",
    "R"
   ]
  },
  {
   "cell_type": "code",
   "execution_count": null,
   "metadata": {},
   "outputs": [],
   "source": []
  }
 ],
 "metadata": {
  "kernelspec": {
   "display_name": "Python 3 (ipykernel)",
   "language": "python",
   "name": "python3"
  },
  "language_info": {
   "codemirror_mode": {
    "name": "ipython",
    "version": 3
   },
   "file_extension": ".py",
   "mimetype": "text/x-python",
   "name": "python",
   "nbconvert_exporter": "python",
   "pygments_lexer": "ipython3",
   "version": "3.10.9"
  }
 },
 "nbformat": 4,
 "nbformat_minor": 2
}
