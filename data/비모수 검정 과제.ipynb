{
 "cells": [
  {
   "cell_type": "code",
   "execution_count": 12,
   "metadata": {},
   "outputs": [
    {
     "name": "stdout",
     "output_type": "stream",
     "text": [
      "윌콕슨 부호 순위 검정 결과 통계량 : 2015.5\n",
      "p-value : 0.10873302348944544\n",
      "귀무가설 채택 가능성 : True\n"
     ]
    }
   ],
   "source": [
    "import numpy as np\n",
    "from scipy import stats\n",
    "\n",
    "group1 = np.random.randint(1, 100, size=100)\n",
    "group2 = np.random.randint(1, 100, size=100)\n",
    "\n",
    "wilcoxon_stat, p_value = stats.wilcoxon(group1, group2)\n",
    "\n",
    "print(f'윌콕슨 부호 순위 검정 결과 통계량 : {wilcoxon_stat}')\n",
    "print(f'p-value : {p_value}')\n",
    "\n",
    "print(f'귀무가설 채택 가능성 : {p_value > 0.05}')"
   ]
  },
  {
   "cell_type": "code",
   "execution_count": null,
   "metadata": {},
   "outputs": [],
   "source": []
  },
  {
   "cell_type": "code",
   "execution_count": null,
   "metadata": {},
   "outputs": [],
   "source": []
  }
 ],
 "metadata": {
  "kernelspec": {
   "display_name": "Python 3",
   "language": "python",
   "name": "python3"
  },
  "language_info": {
   "codemirror_mode": {
    "name": "ipython",
    "version": 3
   },
   "file_extension": ".py",
   "mimetype": "text/x-python",
   "name": "python",
   "nbconvert_exporter": "python",
   "pygments_lexer": "ipython3",
   "version": "3.11.4"
  },
  "orig_nbformat": 4
 },
 "nbformat": 4,
 "nbformat_minor": 2
}
