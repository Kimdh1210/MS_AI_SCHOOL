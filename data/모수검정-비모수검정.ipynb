{
 "cells": [
  {
   "cell_type": "code",
   "execution_count": 1,
   "metadata": {},
   "outputs": [],
   "source": [
    "import numpy as np\n",
    "from scipy import stats\n",
    "\n",
    "# 모수 검정에 사용할 데이터\n",
    "# 평균값\n",
    "mu1 , mu2 = 0, 0.5\n",
    "sigma = 1\n",
    "# 평균에만 0.5 가량의 차이가 있는 정규분포 데이터 2그룹\n",
    "data1 = np.random.normal(mu1, sigma, 100)\n",
    "data2 = np.random.normal(mu2, sigma, 100)\n",
    "\n",
    "# 비모수 검정에 사용할 데이터\n",
    "m =30\n",
    "data3 = np.random.uniform(0, 1, m)\n",
    "data4 = np.random.uniform(0.5, 1.5, m)"
   ]
  },
  {
   "cell_type": "code",
   "execution_count": 2,
   "metadata": {},
   "outputs": [
    {
     "name": "stdout",
     "output_type": "stream",
     "text": [
      "t_stat : -2.6455895330440846, p_val : 0.008809822444373748\n"
     ]
    }
   ],
   "source": [
    "t_stat, p_val = stats.ttest_ind(data1, data2)\n",
    "print(f't_stat : {t_stat}, p_val : {p_val}')"
   ]
  },
  {
   "cell_type": "code",
   "execution_count": 3,
   "metadata": {},
   "outputs": [
    {
     "name": "stdout",
     "output_type": "stream",
     "text": [
      "u_stat: 73.0, p_val: 2.6015113749963406e-08\n"
     ]
    }
   ],
   "source": [
    "from scipy import stats\n",
    "u_stat, p_val = stats.mannwhitneyu(data3, data4)\n",
    "print(f'u_stat: {u_stat}, p_val: {p_val}')"
   ]
  },
  {
   "cell_type": "code",
   "execution_count": 4,
   "metadata": {},
   "outputs": [
    {
     "data": {
      "image/png": "[encoded data removed]",
      "text/plain": [
       "<Figure size 640x480 with 1 Axes>"
      ]
     },
     "metadata": {},
     "output_type": "display_data"
    }
   ],
   "source": [
    "import matplotlib.pyplot as plt\n",
    "plt.hist(data3)\n",
    "plt.show()"
   ]
  },
  {
   "cell_type": "code",
   "execution_count": null,
   "metadata": {},
   "outputs": [],
   "source": []
  }
 ],
 "metadata": {
  "kernelspec": {
   "display_name": "Python 3",
   "language": "python",
   "name": "python3"
  },
  "language_info": {
   "codemirror_mode": {
    "name": "ipython",
    "version": 3
   },
   "file_extension": ".py",
   "mimetype": "text/x-python",
   "name": "python",
   "nbconvert_exporter": "python",
   "pygments_lexer": "ipython3",
   "version": "3.11.4"
  },
  "orig_nbformat": 4
 },
 "nbformat": 4,
 "nbformat_minor": 2
}
