{
 "cells": [
  {
   "cell_type": "code",
   "execution_count": 16,
   "metadata": {},
   "outputs": [
    {
     "name": "stdout",
     "output_type": "stream",
     "text": [
      "13\n"
     ]
    }
   ],
   "source": [
    "import numpy as np\n",
    "from scipy import stats\n",
    "\n",
    "data = np.random.normal(9, size=20)\n",
    "\n",
    "mu0 = 9\n",
    "\n",
    "# 기준값 (9) 보다 큰 요소들의 개수\n",
    "n_above_mu0 = sum(data > mu0)\n",
    "\n",
    "print(n_above_mu0)"
   ]
  },
  {
   "cell_type": "code",
   "execution_count": 17,
   "metadata": {},
   "outputs": [
    {
     "name": "stdout",
     "output_type": "stream",
     "text": [
      "Binom test result : 0.2632\n"
     ]
    },
    {
     "name": "stderr",
     "output_type": "stream",
     "text": [
      "C:\\Users\\김동현\\AppData\\Local\\Temp\\ipykernel_27340\\1979702896.py:3: DeprecationWarning: 'binom_test' is deprecated in favour of 'binomtest' from version 1.7.0 and will be removed in Scipy 1.12.0.\n",
      "  p_value = stats.binom_test(n_above_mu0, 20)\n"
     ]
    }
   ],
   "source": [
    "# 첫번째 인자 : 부호 테스트를 통과한 개수\n",
    "# 두번째 인자 : 부호 테스트의 시행 횟수 (이 경우 행렬 크기)\n",
    "p_value = stats.binom_test(n_above_mu0, 20)\n",
    "\n",
    "# p_value는 모집단이 실제로 평균이 mu0 라는 것을 귀무가설로 상정한 확률\n",
    "print(f'Binom test result : {p_value:.4f}')"
   ]
  },
  {
   "cell_type": "code",
   "execution_count": null,
   "metadata": {},
   "outputs": [],
   "source": []
  }
 ],
 "metadata": {
  "kernelspec": {
   "display_name": "Python 3",
   "language": "python",
   "name": "python3"
  },
  "language_info": {
   "codemirror_mode": {
    "name": "ipython",
    "version": 3
   },
   "file_extension": ".py",
   "mimetype": "text/x-python",
   "name": "python",
   "nbconvert_exporter": "python",
   "pygments_lexer": "ipython3",
   "version": "3.11.4"
  },
  "orig_nbformat": 4
 },
 "nbformat": 4,
 "nbformat_minor": 2
}
