{
 "cells": [
  {
   "cell_type": "code",
   "execution_count": 1,
   "metadata": {},
   "outputs": [
    {
     "data": {
      "text/html": [
       "<div>\n",
       "<style scoped>\n",
       "    .dataframe tbody tr th:only-of-type {\n",
       "        vertical-align: middle;\n",
       "    }\n",
       "\n",
       "    .dataframe tbody tr th {\n",
       "        vertical-align: top;\n",
       "    }\n",
       "\n",
       "    .dataframe thead th {\n",
       "        text-align: right;\n",
       "    }\n",
       "</style>\n",
       "<table border=\"1\" class=\"dataframe\">\n",
       "  <thead>\n",
       "    <tr style=\"text-align: right;\">\n",
       "      <th></th>\n",
       "      <th>Date</th>\n",
       "      <th>Open</th>\n",
       "      <th>High</th>\n",
       "      <th>Low</th>\n",
       "      <th>Close</th>\n",
       "      <th>Adj Close</th>\n",
       "      <th>Volume</th>\n",
       "    </tr>\n",
       "  </thead>\n",
       "  <tbody>\n",
       "    <tr>\n",
       "      <th>0</th>\n",
       "      <td>1997-07-01</td>\n",
       "      <td>744.979980</td>\n",
       "      <td>760.520020</td>\n",
       "      <td>744.669983</td>\n",
       "      <td>758.030029</td>\n",
       "      <td>758.030029</td>\n",
       "      <td>0</td>\n",
       "    </tr>\n",
       "    <tr>\n",
       "      <th>1</th>\n",
       "      <td>1997-07-02</td>\n",
       "      <td>763.390015</td>\n",
       "      <td>777.289978</td>\n",
       "      <td>763.390015</td>\n",
       "      <td>777.289978</td>\n",
       "      <td>777.289978</td>\n",
       "      <td>0</td>\n",
       "    </tr>\n",
       "    <tr>\n",
       "      <th>2</th>\n",
       "      <td>1997-07-03</td>\n",
       "      <td>778.820007</td>\n",
       "      <td>782.169983</td>\n",
       "      <td>773.270020</td>\n",
       "      <td>775.260010</td>\n",
       "      <td>775.260010</td>\n",
       "      <td>0</td>\n",
       "    </tr>\n",
       "    <tr>\n",
       "      <th>3</th>\n",
       "      <td>1997-07-04</td>\n",
       "      <td>776.020020</td>\n",
       "      <td>783.239990</td>\n",
       "      <td>773.900024</td>\n",
       "      <td>781.700012</td>\n",
       "      <td>781.700012</td>\n",
       "      <td>0</td>\n",
       "    </tr>\n",
       "    <tr>\n",
       "      <th>4</th>\n",
       "      <td>1997-07-07</td>\n",
       "      <td>781.500000</td>\n",
       "      <td>783.109985</td>\n",
       "      <td>772.140015</td>\n",
       "      <td>773.510010</td>\n",
       "      <td>773.510010</td>\n",
       "      <td>0</td>\n",
       "    </tr>\n",
       "    <tr>\n",
       "      <th>...</th>\n",
       "      <td>...</td>\n",
       "      <td>...</td>\n",
       "      <td>...</td>\n",
       "      <td>...</td>\n",
       "      <td>...</td>\n",
       "      <td>...</td>\n",
       "      <td>...</td>\n",
       "    </tr>\n",
       "    <tr>\n",
       "      <th>4933</th>\n",
       "      <td>2017-06-28</td>\n",
       "      <td>2382.909912</td>\n",
       "      <td>2390.889893</td>\n",
       "      <td>2380.750000</td>\n",
       "      <td>2382.560059</td>\n",
       "      <td>2382.560059</td>\n",
       "      <td>361200</td>\n",
       "    </tr>\n",
       "    <tr>\n",
       "      <th>4934</th>\n",
       "      <td>2017-06-29</td>\n",
       "      <td>2396.810059</td>\n",
       "      <td>2402.800049</td>\n",
       "      <td>2393.570068</td>\n",
       "      <td>2395.659912</td>\n",
       "      <td>2395.659912</td>\n",
       "      <td>445100</td>\n",
       "    </tr>\n",
       "    <tr>\n",
       "      <th>4935</th>\n",
       "      <td>2017-07-03</td>\n",
       "      <td>2397.659912</td>\n",
       "      <td>2399.899902</td>\n",
       "      <td>2384.550049</td>\n",
       "      <td>2394.479980</td>\n",
       "      <td>2394.479980</td>\n",
       "      <td>311000</td>\n",
       "    </tr>\n",
       "    <tr>\n",
       "      <th>4936</th>\n",
       "      <td>2017-07-04</td>\n",
       "      <td>2395.239990</td>\n",
       "      <td>2398.020020</td>\n",
       "      <td>2376.409912</td>\n",
       "      <td>2380.520020</td>\n",
       "      <td>2380.520020</td>\n",
       "      <td>411800</td>\n",
       "    </tr>\n",
       "    <tr>\n",
       "      <th>4937</th>\n",
       "      <td>2017-07-07</td>\n",
       "      <td>2376.290039</td>\n",
       "      <td>2385.020020</td>\n",
       "      <td>2376.290039</td>\n",
       "      <td>2379.719971</td>\n",
       "      <td>2379.719971</td>\n",
       "      <td>141728</td>\n",
       "    </tr>\n",
       "  </tbody>\n",
       "</table>\n",
       "<p>4938 rows × 7 columns</p>\n",
       "</div>"
      ],
      "text/plain": [
       "            Date         Open         High          Low        Close  \\\n",
       "0     1997-07-01   744.979980   760.520020   744.669983   758.030029   \n",
       "1     1997-07-02   763.390015   777.289978   763.390015   777.289978   \n",
       "2     1997-07-03   778.820007   782.169983   773.270020   775.260010   \n",
       "3     1997-07-04   776.020020   783.239990   773.900024   781.700012   \n",
       "4     1997-07-07   781.500000   783.109985   772.140015   773.510010   \n",
       "...          ...          ...          ...          ...          ...   \n",
       "4933  2017-06-28  2382.909912  2390.889893  2380.750000  2382.560059   \n",
       "4934  2017-06-29  2396.810059  2402.800049  2393.570068  2395.659912   \n",
       "4935  2017-07-03  2397.659912  2399.899902  2384.550049  2394.479980   \n",
       "4936  2017-07-04  2395.239990  2398.020020  2376.409912  2380.520020   \n",
       "4937  2017-07-07  2376.290039  2385.020020  2376.290039  2379.719971   \n",
       "\n",
       "        Adj Close  Volume  \n",
       "0      758.030029       0  \n",
       "1      777.289978       0  \n",
       "2      775.260010       0  \n",
       "3      781.700012       0  \n",
       "4      773.510010       0  \n",
       "...           ...     ...  \n",
       "4933  2382.560059  361200  \n",
       "4934  2395.659912  445100  \n",
       "4935  2394.479980  311000  \n",
       "4936  2380.520020  411800  \n",
       "4937  2379.719971  141728  \n",
       "\n",
       "[4938 rows x 7 columns]"
      ]
     },
     "execution_count": 1,
     "metadata": {},
     "output_type": "execute_result"
    }
   ],
   "source": [
    "import pandas as pd\n",
    "import matplotlib.pyplot as plt\n",
    "\n",
    "data = pd.read_csv(\"kospi.csv\")"
   ]
  },
  {
   "cell_type": "code",
   "execution_count": 3,
   "metadata": {},
   "outputs": [
    {
     "name": "stdout",
     "output_type": "stream",
     "text": [
      "After to_datetime : type of 1997-07-01 00:00:00 is <class 'pandas._libs.tslibs.timestamps.Timestamp'>\n"
     ]
    }
   ],
   "source": [
    "data['Date'] = pd.to_datetime(data['Date'])\n",
    "\n",
    "print(f\"After to_datetime : type of {data['Date'][0]} is {type(data['Date'][0])}\")\n"
   ]
  },
  {
   "cell_type": "code",
   "execution_count": null,
   "metadata": {},
   "outputs": [],
   "source": [
    "data.set_index('Date', inplace=True)"
   ]
  },
  {
   "cell_type": "code",
   "execution_count": 4,
   "metadata": {},
   "outputs": [
    {
     "data": {
      "image/png": "[encoded data removed]",
      "text/plain": [
       "<Figure size 640x480 with 1 Axes>"
      ]
     },
     "metadata": {},
     "output_type": "display_data"
    }
   ],
   "source": [
    "plt.plot(data.index, data['Close'])\n",
    "plt.xlabel('Time')\n",
    "plt.ylabel('Close')\n",
    "plt.show()"
   ]
  },
  {
   "cell_type": "code",
   "execution_count": null,
   "metadata": {},
   "outputs": [],
   "source": []
  }
 ],
 "metadata": {
  "kernelspec": {
   "display_name": "base",
   "language": "python",
   "name": "python3"
  },
  "language_info": {
   "codemirror_mode": {
    "name": "ipython",
    "version": 3
   },
   "file_extension": ".py",
   "mimetype": "text/x-python",
   "name": "python",
   "nbconvert_exporter": "python",
   "pygments_lexer": "ipython3",
   "version": "3.10.9"
  },
  "orig_nbformat": 4
 },
 "nbformat": 4,
 "nbformat_minor": 2
}
