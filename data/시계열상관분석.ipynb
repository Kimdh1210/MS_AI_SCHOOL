{
 "cells": [
  {
   "cell_type": "code",
   "execution_count": 5,
   "metadata": {},
   "outputs": [],
   "source": [
    "import pandas as pd\n",
    "import numpy as np\n",
    "\n",
    "# 시계열 데이터의 모의 데이터를 작성\n",
    "# 시계열 데이터에는 반드시 시간값이 들어가야 함\n",
    "dates = pd.date_range(start='2021-01-04', periods=100, freq='D')\n",
    "\n",
    "samsung_prices = np.random.randint(80000, 90000, 100)\n",
    "samsung_data = {'Date' : dates, '005930.KS' : samsung_prices}\n",
    "samsung_df = pd.DataFrame(samsung_data)\n",
    "samsung_df.set_index('Date', inplace=True)\n"
   ]
  },
  {
   "cell_type": "code",
   "execution_count": 4,
   "metadata": {},
   "outputs": [],
   "source": [
    "lg_prices = np.random.randint(140000, 160000, 100)\n",
    "lg_data = {'Date' : dates, '066570.KS' : lg_prices}\n",
    "lg_df = pd.DataFrame(lg_data)\n",
    "lg_df.set_index('Date', inplace=True)"
   ]
  },
  {
   "cell_type": "code",
   "execution_count": 13,
   "metadata": {},
   "outputs": [
    {
     "data": {
      "text/html": [
       "<div>\n",
       "<style scoped>\n",
       "    .dataframe tbody tr th:only-of-type {\n",
       "        vertical-align: middle;\n",
       "    }\n",
       "\n",
       "    .dataframe tbody tr th {\n",
       "        vertical-align: top;\n",
       "    }\n",
       "\n",
       "    .dataframe thead th {\n",
       "        text-align: right;\n",
       "    }\n",
       "</style>\n",
       "<table border=\"1\" class=\"dataframe\">\n",
       "  <thead>\n",
       "    <tr style=\"text-align: right;\">\n",
       "      <th></th>\n",
       "      <th>Samsung</th>\n",
       "      <th>LG</th>\n",
       "    </tr>\n",
       "    <tr>\n",
       "      <th>Date</th>\n",
       "      <th></th>\n",
       "      <th></th>\n",
       "    </tr>\n",
       "  </thead>\n",
       "  <tbody>\n",
       "    <tr>\n",
       "      <th>2021-01-04</th>\n",
       "      <td>86313</td>\n",
       "      <td>148397</td>\n",
       "    </tr>\n",
       "    <tr>\n",
       "      <th>2021-01-05</th>\n",
       "      <td>84560</td>\n",
       "      <td>141485</td>\n",
       "    </tr>\n",
       "    <tr>\n",
       "      <th>2021-01-06</th>\n",
       "      <td>81514</td>\n",
       "      <td>154382</td>\n",
       "    </tr>\n",
       "    <tr>\n",
       "      <th>2021-01-07</th>\n",
       "      <td>85181</td>\n",
       "      <td>150024</td>\n",
       "    </tr>\n",
       "    <tr>\n",
       "      <th>2021-01-08</th>\n",
       "      <td>81702</td>\n",
       "      <td>151750</td>\n",
       "    </tr>\n",
       "    <tr>\n",
       "      <th>...</th>\n",
       "      <td>...</td>\n",
       "      <td>...</td>\n",
       "    </tr>\n",
       "    <tr>\n",
       "      <th>2021-04-09</th>\n",
       "      <td>89255</td>\n",
       "      <td>158232</td>\n",
       "    </tr>\n",
       "    <tr>\n",
       "      <th>2021-04-10</th>\n",
       "      <td>87417</td>\n",
       "      <td>153446</td>\n",
       "    </tr>\n",
       "    <tr>\n",
       "      <th>2021-04-11</th>\n",
       "      <td>84646</td>\n",
       "      <td>147701</td>\n",
       "    </tr>\n",
       "    <tr>\n",
       "      <th>2021-04-12</th>\n",
       "      <td>81497</td>\n",
       "      <td>157526</td>\n",
       "    </tr>\n",
       "    <tr>\n",
       "      <th>2021-04-13</th>\n",
       "      <td>89821</td>\n",
       "      <td>141384</td>\n",
       "    </tr>\n",
       "  </tbody>\n",
       "</table>\n",
       "<p>100 rows × 2 columns</p>\n",
       "</div>"
      ],
      "text/plain": [
       "            Samsung      LG\n",
       "Date                       \n",
       "2021-01-04    86313  148397\n",
       "2021-01-05    84560  141485\n",
       "2021-01-06    81514  154382\n",
       "2021-01-07    85181  150024\n",
       "2021-01-08    81702  151750\n",
       "...             ...     ...\n",
       "2021-04-09    89255  158232\n",
       "2021-04-10    87417  153446\n",
       "2021-04-11    84646  147701\n",
       "2021-04-12    81497  157526\n",
       "2021-04-13    89821  141384\n",
       "\n",
       "[100 rows x 2 columns]"
      ]
     },
     "execution_count": 13,
     "metadata": {},
     "output_type": "execute_result"
    }
   ],
   "source": [
    "total_df = pd.concat([samsung_df, lg_df], axis=1)\n",
    "\n",
    "total_df = total_df.loc[:, ['005930.KS', '066570.KS']]\n",
    "total_df.columns = ['Samsung', 'LG']\n",
    "total_df"
   ]
  },
  {
   "cell_type": "code",
   "execution_count": 15,
   "metadata": {},
   "outputs": [],
   "source": [
    "total_df.to_csv('stock_price.csv', encoding='utf-8')"
   ]
  },
  {
   "cell_type": "code",
   "execution_count": 22,
   "metadata": {},
   "outputs": [
    {
     "name": "stdout",
     "output_type": "stream",
     "text": [
      "stock_data['Date'][0] : 2021-01-04 00:00:00, type : <class 'pandas._libs.tslibs.timestamps.Timestamp'>\n",
      "            Samsung      LG\n",
      "Date                       \n",
      "2021-01-04    86313  148397\n",
      "2021-01-05    84560  141485\n",
      "2021-01-06    81514  154382\n",
      "2021-01-07    85181  150024\n",
      "2021-01-08    81702  151750\n",
      "...             ...     ...\n",
      "2021-04-09    89255  158232\n",
      "2021-04-10    87417  153446\n",
      "2021-04-11    84646  147701\n",
      "2021-04-12    81497  157526\n",
      "2021-04-13    89821  141384\n",
      "\n",
      "[100 rows x 2 columns]\n"
     ]
    }
   ],
   "source": [
    "import matplotlib.pyplot as plt\n",
    "import seaborn as sns\n",
    "\n",
    "stock_data = pd.read_csv('stock_price.csv')\n",
    "stock_data['Date'] = pd.to_datetime(stock_data['Date'])\n",
    "print(f\"stock_data['Date'][0] : {stock_data['Date'][0]}, type : {type(stock_data['Date'][0])}\")\n",
    "stock_data.set_index('Date', inplace=True)\n",
    "print(stock_data)"
   ]
  },
  {
   "cell_type": "code",
   "execution_count": 23,
   "metadata": {},
   "outputs": [
    {
     "name": "stdout",
     "output_type": "stream",
     "text": [
      "             Samsung        LG\n",
      "Date                          \n",
      "2021-01-04       NaN       NaN\n",
      "2021-01-05 -0.020310 -0.046578\n",
      "2021-01-06 -0.036022  0.091155\n",
      "2021-01-07  0.044986 -0.028229\n",
      "2021-01-08 -0.040842  0.011505\n",
      "...              ...       ...\n",
      "2021-04-09  0.010083  0.058918\n",
      "2021-04-10 -0.020593 -0.030247\n",
      "2021-04-11 -0.031699 -0.037440\n",
      "2021-04-12 -0.037202  0.066520\n",
      "2021-04-13  0.102139 -0.102472\n",
      "\n",
      "[100 rows x 2 columns]\n"
     ]
    }
   ],
   "source": [
    "# pct_change : 각 행에 대해 자기 자신과 자기 이전 행 사이의 변화량 계산\n",
    "# 첫 행은 이전 행이 없으므로 무조건 Nan으로 나옴\n",
    "# 이번 데이터는 주가를 모방한 데이터이므로, 이 경우 변동치가 될 것\n",
    "returns = stock_data.pct_change()\n",
    "print(returns)"
   ]
  },
  {
   "cell_type": "code",
   "execution_count": 24,
   "metadata": {},
   "outputs": [
    {
     "name": "stdout",
     "output_type": "stream",
     "text": [
      "          Samsung        LG\n",
      "Samsung  1.000000  0.045354\n",
      "LG       0.045354  1.000000\n"
     ]
    }
   ],
   "source": [
    "corr_matrix = returns.corr()\n",
    "print(corr_matrix)"
   ]
  },
  {
   "cell_type": "code",
   "execution_count": 25,
   "metadata": {},
   "outputs": [
    {
     "data": {
      "image/png": "[encoded data removed]",
      "text/plain": [
       "<Figure size 640x480 with 2 Axes>"
      ]
     },
     "metadata": {},
     "output_type": "display_data"
    }
   ],
   "source": [
    "sns.heatmap(corr_matrix, annot=True, cmap='coolwarm')\n",
    "plt.title('Stock returns Corr')\n",
    "plt.show()"
   ]
  },
  {
   "cell_type": "code",
   "execution_count": null,
   "metadata": {},
   "outputs": [],
   "source": []
  }
 ],
 "metadata": {
  "kernelspec": {
   "display_name": "Python 3",
   "language": "python",
   "name": "python3"
  },
  "language_info": {
   "codemirror_mode": {
    "name": "ipython",
    "version": 3
   },
   "file_extension": ".py",
   "mimetype": "text/x-python",
   "name": "python",
   "nbconvert_exporter": "python",
   "pygments_lexer": "ipython3",
   "version": "3.11.4"
  },
  "orig_nbformat": 4
 },
 "nbformat": 4,
 "nbformat_minor": 2
}
