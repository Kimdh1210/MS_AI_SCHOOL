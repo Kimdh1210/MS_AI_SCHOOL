{
 "cells": [
  {
   "cell_type": "code",
   "execution_count": 11,
   "metadata": {},
   "outputs": [
    {
     "name": "stdout",
     "output_type": "stream",
     "text": [
      "p-value : 1.0000\n",
      "귀무가설 채택\n"
     ]
    }
   ],
   "source": [
    "import pandas as pd\n",
    "from scipy import stats\n",
    "\n",
    "data = {\n",
    "    'Gender' : ['M', 'M', 'M', 'M', 'F', 'F', 'F', 'F'],\n",
    "    'Smoker' : ['Yes', 'No', 'No', 'Yes', 'Yes', 'No', 'No', 'Yes'],\n",
    "    'Count' : [20, 80, 40, 60, 40, 160, 80, 120],\n",
    "}\n",
    "\n",
    "df = pd.DataFrame(data)\n",
    "\n",
    "# 데이터프레임을 이용한 분할표 생성\n",
    "table = pd.pivot_table(df, index='Gender', columns='Smoker', values='Count')\n",
    "\n",
    "stat, p, dof, expected = stats.chi2_contingency(table)\n",
    "print(f'p-value : {p:.4f}')\n",
    "\n",
    "alpha = 0.05\n",
    "if p < alpha:\n",
    "    print('귀무가설 기각')\n",
    "else:\n",
    "    print('귀무가설 채택')"
   ]
  },
  {
   "cell_type": "code",
   "execution_count": null,
   "metadata": {},
   "outputs": [],
   "source": []
  }
 ],
 "metadata": {
  "kernelspec": {
   "display_name": "base",
   "language": "python",
   "name": "python3"
  },
  "language_info": {
   "codemirror_mode": {
    "name": "ipython",
    "version": 3
   },
   "file_extension": ".py",
   "mimetype": "text/x-python",
   "name": "python",
   "nbconvert_exporter": "python",
   "pygments_lexer": "ipython3",
   "version": "3.10.9"
  },
  "orig_nbformat": 4
 },
 "nbformat": 4,
 "nbformat_minor": 2
}
