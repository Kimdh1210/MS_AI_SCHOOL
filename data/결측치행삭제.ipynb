{
 "cells": [
  {
   "cell_type": "code",
   "execution_count": 2,
   "metadata": {},
   "outputs": [
    {
     "name": "stdout",
     "output_type": "stream",
     "text": [
      "         Date     Value\n",
      "0  2023-01-01  0.219906\n",
      "1  2023-01-02 -0.574262\n",
      "2  2023-01-03 -0.523384\n",
      "3  2023-01-04 -1.379419\n",
      "4  2023-01-05 -0.286157\n",
      "5  2023-01-06  0.148415\n",
      "6  2023-01-07 -1.380545\n",
      "7  2023-01-08  1.620218\n",
      "8  2023-01-09  0.703411\n",
      "9  2023-01-10  2.119006\n",
      "10 2023-01-11       NaN\n",
      "11 2023-01-12  1.192683\n",
      "12 2023-01-13 -0.730359\n",
      "13 2023-01-14 -0.865077\n",
      "14 2023-01-15  0.001517\n"
     ]
    }
   ],
   "source": [
    "import pandas as pd\n",
    "import numpy as np\n",
    "\n",
    "dates = pd.date_range(start='20230101', periods=100)\n",
    "values = np.random.randn(100)\n",
    "values[10] = np.nan\n",
    "\n",
    "data = pd.DataFrame({\n",
    "    'Date': dates,\n",
    "    'Value': values\n",
    "})\n",
    "print(data.head(15))"
   ]
  },
  {
   "cell_type": "code",
   "execution_count": 5,
   "metadata": {},
   "outputs": [
    {
     "name": "stdout",
     "output_type": "stream",
     "text": [
      "         Date     Value\n",
      "0  2023-01-01  0.219906\n",
      "1  2023-01-02 -0.574262\n",
      "2  2023-01-03 -0.523384\n",
      "3  2023-01-04 -1.379419\n",
      "4  2023-01-05 -0.286157\n",
      "5  2023-01-06  0.148415\n",
      "6  2023-01-07 -1.380545\n",
      "7  2023-01-08  1.620218\n",
      "8  2023-01-09  0.703411\n",
      "9  2023-01-10  2.119006\n",
      "11 2023-01-12  1.192683\n",
      "12 2023-01-13 -0.730359\n",
      "13 2023-01-14 -0.865077\n",
      "14 2023-01-15  0.001517\n",
      "15 2023-01-16  0.280211\n",
      "Date     0\n",
      "Value    0\n",
      "dtype: int64\n"
     ]
    }
   ],
   "source": [
    "# dropna : 결측치가 포함된 행(axis=0) 또는 열(axis=1)을 제거\n",
    "# pandas DataFrame에서 얻은 하나의 카테고리를 의미하므로 열을 제거할 일은 거의 없음\n",
    "data_dropped = data.dropna(axis=0)\n",
    "print(data_dropped.head(15))\n",
    "print(data_dropped.isnull().sum())"
   ]
  },
  {
   "cell_type": "code",
   "execution_count": null,
   "metadata": {},
   "outputs": [],
   "source": []
  }
 ],
 "metadata": {
  "kernelspec": {
   "display_name": "Python 3",
   "language": "python",
   "name": "python3"
  },
  "language_info": {
   "codemirror_mode": {
    "name": "ipython",
    "version": 3
   },
   "file_extension": ".py",
   "mimetype": "text/x-python",
   "name": "python",
   "nbconvert_exporter": "python",
   "pygments_lexer": "ipython3",
   "version": "3.11.4"
  },
  "orig_nbformat": 4
 },
 "nbformat": 4,
 "nbformat_minor": 2
}
