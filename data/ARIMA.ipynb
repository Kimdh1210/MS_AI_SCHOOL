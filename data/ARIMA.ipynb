{
 "cells": [
  {
   "cell_type": "code",
   "execution_count": 1,
   "metadata": {},
   "outputs": [
    {
     "name": "stdout",
     "output_type": "stream",
     "text": [
      "        Date     Value\n",
      "0 2023-01-01  0.000000\n",
      "1 2023-01-02  0.000000\n",
      "2 2023-01-03  1.278922\n",
      "3 2023-01-04  3.197743\n",
      "4 2023-01-05  1.858207\n",
      "5 2023-01-06 -0.943887\n",
      "6 2023-01-07 -1.558164\n",
      "7 2023-01-08  0.243265\n",
      "8 2023-01-09  2.046011\n",
      "9 2023-01-10  2.081751\n"
     ]
    }
   ],
   "source": [
    "import pandas as pd\n",
    "import numpy as np\n",
    "import matplotlib.pyplot as plt\n",
    "from data_utils import create_date_df\n",
    "\n",
    "size = 100\n",
    "ar_params = [0.7]\n",
    "ma_params = [0.4, -0.2]\n",
    "residuals = np.random.normal(0, 1, size)\n",
    "\n",
    "# ARIMA(1, 2) == AR(1) + MA(2)\n",
    "data = [0, 0]\n",
    "for i in range(2, size):\n",
    "    # AR(1) (I(1)): 자기 자신의 직전 항 값을 통해 예측값 생성\n",
    "    ar_term = ar_params[0] * (data[i-1] - data[i-2])\n",
    "    # MA(2) : 현재 항 이전의 2개 항의 오차값을 통해 예측값 생성\n",
    "    # I(1)은 해당 항에 영향을 끼치지 않음 -> data[] 형태로 표현되는 데이터값과 별개 항이기 때문\n",
    "    ma_term = ma_params[0] * residuals[i-1] + ma_params[1] * residuals[i-2]\n",
    "    # 예측값을 data에 밀어넣음\n",
    "    # 위의 ar_term + ma_term으로 계산되는 값이 현재 항의 차분이기 때문에\n",
    "    # data[i] - data[i-1] = ar_term + ma_term + residuals[i] 형태가 됨\n",
    "    # 따라서 현재 추가해야 할 data[i] = data[i-1] + ar_term + ma_term + residuals[i]\n",
    "    data.append(data[-1] + (ar_term + ma_term + residuals[i]))\n",
    "\n",
    "df = create_date_df(size, data)\n",
    "print(df.head(10))"
   ]
  },
  {
   "cell_type": "code",
   "execution_count": 2,
   "metadata": {},
   "outputs": [
    {
     "name": "stdout",
     "output_type": "stream",
     "text": [
      "                               SARIMAX Results                                \n",
      "==============================================================================\n",
      "Dep. Variable:                  Value   No. Observations:                  100\n",
      "Model:                 ARIMA(1, 1, 2)   Log Likelihood                -172.575\n",
      "Date:                Fri, 18 Aug 2023   AIC                            353.150\n",
      "Time:                        16:22:33   BIC                            363.530\n",
      "Sample:                             0   HQIC                           357.350\n",
      "                                - 100                                         \n",
      "Covariance Type:                  opg                                         \n",
      "==============================================================================\n",
      "                 coef    std err          z      P>|z|      [0.025      0.975]\n",
      "------------------------------------------------------------------------------\n",
      "ar.L1          0.2811      0.143      1.968      0.049       0.001       0.561\n",
      "ma.L1         -0.1768      8.929     -0.020      0.984     -17.677      17.323\n",
      "ma.L2         -0.8229      7.328     -0.112      0.911     -15.186      13.541\n",
      "sigma2         1.8301     16.337      0.112      0.911     -30.190      33.850\n",
      "===================================================================================\n",
      "Ljung-Box (L1) (Q):                   1.94   Jarque-Bera (JB):                 0.06\n",
      "Prob(Q):                              0.16   Prob(JB):                         0.97\n",
      "Heteroskedasticity (H):               2.23   Skew:                            -0.06\n",
      "Prob(H) (two-sided):                  0.02   Kurtosis:                         2.97\n",
      "===================================================================================\n",
      "\n",
      "Warnings:\n",
      "[1] Covariance matrix calculated using the outer product of gradients (complex-step).\n"
     ]
    },
    {
     "name": "stderr",
     "output_type": "stream",
     "text": [
      "C:\\Users\\김동현\\AppData\\Roaming\\Python\\Python311\\site-packages\\statsmodels\\tsa\\statespace\\sarimax.py:978: UserWarning: Non-invertible starting MA parameters found. Using zeros as starting parameters.\n",
      "  warn('Non-invertible starting MA parameters found.'\n"
     ]
    }
   ],
   "source": [
    "from statsmodels.tsa.arima.model import ARIMA\n",
    "\n",
    "model = ARIMA(df['Value'], order=(1, 1, 2)) # 차분의 차수를 1로 설정한 ARIMA\n",
    "results = model.fit()\n",
    "print(results.summary())"
   ]
  },
  {
   "cell_type": "code",
   "execution_count": null,
   "metadata": {},
   "outputs": [],
   "source": []
  }
 ],
 "metadata": {
  "kernelspec": {
   "display_name": "Python 3",
   "language": "python",
   "name": "python3"
  },
  "language_info": {
   "codemirror_mode": {
    "name": "ipython",
    "version": 3
   },
   "file_extension": ".py",
   "mimetype": "text/x-python",
   "name": "python",
   "nbconvert_exporter": "python",
   "pygments_lexer": "ipython3",
   "version": "3.11.4"
  },
  "orig_nbformat": 4
 },
 "nbformat": 4,
 "nbformat_minor": 2
}
