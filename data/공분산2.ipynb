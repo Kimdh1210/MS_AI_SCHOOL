{
 "cells": [
  {
   "cell_type": "code",
   "execution_count": 1,
   "metadata": {},
   "outputs": [],
   "source": [
    "import numpy as np\n",
    "\n",
    "x = np.array([1, 2, 3, 4, 5])\n",
    "y = np.array([2, 4, 6, 8, 10])\n",
    "z = np.array([3, 6, 9, 12, 15])"
   ]
  },
  {
   "cell_type": "code",
   "execution_count": 5,
   "metadata": {},
   "outputs": [
    {
     "name": "stdout",
     "output_type": "stream",
     "text": [
      "공분산 행렬 : \n",
      "[[ 2.5  5.   7.5]\n",
      " [ 5.  10.  15. ]\n",
      " [ 7.5 15.  22.5]]\n",
      "\n",
      "상관 행렬 : \n",
      "[[1. 1. 1.]\n",
      " [1. 1. 1.]\n",
      " [1. 1. 1.]]\n"
     ]
    }
   ],
   "source": [
    "cov_mat = np.cov([x, y, z])\n",
    "print(f'공분산 행렬 : \\n{cov_mat}\\n')\n",
    "\n",
    "corr_mat = np.corrcoef([x, y, z])\n",
    "print(f'상관 행렬 : \\n{corr_mat}')"
   ]
  },
  {
   "cell_type": "code",
   "execution_count": 10,
   "metadata": {},
   "outputs": [
    {
     "name": "stdout",
     "output_type": "stream",
     "text": [
      "다중 공선성 판단 : \n",
      "변수 1과 변수 2 사이에 다중 공선성 존재\n",
      "변수 1과 변수 3 사이에 다중 공선성 존재\n",
      "변수 2과 변수 3 사이에 다중 공선성 존재\n"
     ]
    }
   ],
   "source": [
    "# 다중공선성 판단\n",
    "threshold = 0.7\n",
    "\n",
    "print('다중 공선성 판단 : ')\n",
    "for i in range(corr_mat.shape[0]):  # 세로 방향 순회\n",
    "    for j in range(i + 1, corr_mat.shape[1]):  # 가로 방향 순회\n",
    "        # i번째 행을 순회할 때 i번째 열 이전의 모든 값은 대각선 왼쪽에 해당하는 값이므로\n",
    "        # i번째 열 이후 값들을 순회하도록 범위를 제한\n",
    "        if abs(corr_mat[i, j])> threshold:\n",
    "            print(f'변수 {i + 1}과 변수 {j + 1} 사이에 다중 공선성 존재')"
   ]
  },
  {
   "cell_type": "code",
   "execution_count": null,
   "metadata": {},
   "outputs": [],
   "source": []
  }
 ],
 "metadata": {
  "kernelspec": {
   "display_name": "Python 3",
   "language": "python",
   "name": "python3"
  },
  "language_info": {
   "codemirror_mode": {
    "name": "ipython",
    "version": 3
   },
   "file_extension": ".py",
   "mimetype": "text/x-python",
   "name": "python",
   "nbconvert_exporter": "python",
   "pygments_lexer": "ipython3",
   "version": "3.11.4"
  },
  "orig_nbformat": 4
 },
 "nbformat": 4,
 "nbformat_minor": 2
}
