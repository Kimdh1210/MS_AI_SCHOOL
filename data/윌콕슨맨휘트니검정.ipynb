{
 "cells": [
  {
   "cell_type": "code",
   "execution_count": 1,
   "metadata": {},
   "outputs": [
    {
     "name": "stdout",
     "output_type": "stream",
     "text": [
      "Stat : 32.5, P-Value : 0.19622288836173518\n"
     ]
    },
    {
     "name": "stderr",
     "output_type": "stream",
     "text": [
      "C:\\Users\\김동현\\AppData\\Roaming\\Python\\Python311\\site-packages\\seaborn\\categorical.py:166: FutureWarning: Setting a gradient palette using color= is deprecated and will be removed in version 0.13. Set `palette='dark:.3'` for same effect.\n",
      "  warnings.warn(msg, FutureWarning)\n"
     ]
    },
    {
     "data": {
      "image/png": "[encoded data removed]",
      "text/plain": [
       "<Figure size 640x480 with 1 Axes>"
      ]
     },
     "metadata": {},
     "output_type": "display_data"
    }
   ],
   "source": [
    "import pandas as pd\n",
    "import seaborn as sns\n",
    "from scipy import stats\n",
    "import matplotlib.pyplot as plt\n",
    "\n",
    "data = pd.DataFrame({\n",
    "    \"group1\": [3, 2, 5, 1, 4, 2, 6, 7, 9, 8],\n",
    "    \"group2\": [6, 4, 7, 2, 6, 3, 7, 9, 10, 11]\n",
    "})\n",
    "data.to_csv(\"Mann-Whitney-test_sample_data.csv\", index=False)\n",
    "\n",
    "stat, p_val = stats.mannwhitneyu(data['group1'],data['group2'])\n",
    "print(f'Stat : {stat}, P-Value : {p_val}')\n",
    "\n",
    "sns.boxplot(data=data[['group1','group2']])\n",
    "sns.stripplot(data=data[['group1','group2']], color='.3', size=4)\n",
    "sns.despine(trim=True)\n",
    "plt.title('Same dist' if p_val > 0.05 else 'Diff dist')\n",
    "plt.show()"
   ]
  },
  {
   "cell_type": "code",
   "execution_count": 2,
   "metadata": {},
   "outputs": [
    {
     "name": "stdout",
     "output_type": "stream",
     "text": [
      "Levene 검정 P-Value : 1.0\n",
      "Stat : 32.5, P-Value : 0.19622288836173518\n"
     ]
    }
   ],
   "source": [
    "# 등분산성을 검증하기 위한 Levene 테스트\n",
    "stat, p_levene = stats.levene(data['group1'],data['group2'])\n",
    "# P-Levene > 0.05 라는 말은 현재 선택된 데이터 샘플들이 등분산성조건을 만족한다는 뜻 (같은 분산임)\n",
    "print(f'Levene 검정 P-Value : {p_levene}')\n",
    "\n",
    "stat, p_val = stats.mannwhitneyu(data['group1'],data['group2'])\n",
    "print(f'Stat : {stat}, P-Value : {p_val}')"
   ]
  },
  {
   "cell_type": "code",
   "execution_count": 3,
   "metadata": {},
   "outputs": [
    {
     "name": "stdout",
     "output_type": "stream",
     "text": [
      "[ 3  2  5  1  4  2  6  7  9  8  6  4  7  2  6  3  7  9 10 11]\n",
      "[ 3  1  5 13  0 15  4 11  2  6 10 14  7 16 12  9  8 17 18 19]\n",
      "Stat : 32.5, P-value : 0.19622288836173518\n"
     ]
    }
   ],
   "source": [
    "import numpy as np\n",
    "\n",
    "group1 = data['group1'].to_numpy()\n",
    "group2 = data['group2'].to_numpy()\n",
    "\n",
    "total_group = np.concatenate((group1, group2))\n",
    "print(total_group)\n",
    "print(np.argsort(total_group))\n",
    "stat, p_val = stats.mannwhitneyu(data['group1'], data['group2'])\n",
    "\n",
    "print(f'Stat : {stat}, P-value : {p_val}')"
   ]
  },
  {
   "cell_type": "code",
   "execution_count": null,
   "metadata": {},
   "outputs": [],
   "source": []
  }
 ],
 "metadata": {
  "kernelspec": {
   "display_name": "Python 3",
   "language": "python",
   "name": "python3"
  },
  "language_info": {
   "codemirror_mode": {
    "name": "ipython",
    "version": 3
   },
   "file_extension": ".py",
   "mimetype": "text/x-python",
   "name": "python",
   "nbconvert_exporter": "python",
   "pygments_lexer": "ipython3",
   "version": "3.11.4"
  },
  "orig_nbformat": 4
 },
 "nbformat": 4,
 "nbformat_minor": 2
}
