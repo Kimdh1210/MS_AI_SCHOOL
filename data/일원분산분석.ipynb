{
 "cells": [
  {
   "cell_type": "code",
   "execution_count": 4,
   "metadata": {},
   "outputs": [
    {
     "name": "stdout",
     "output_type": "stream",
     "text": [
      "One-way ANOVA\n",
      "============\n",
      "F-statistic: 2.2966\n",
      "p-value: 0.1199\n",
      "귀무가설 채택\n"
     ]
    }
   ],
   "source": [
    "import pandas as pd\n",
    "import numpy as np\n",
    "from scipy import stats\n",
    "\n",
    "np.random.seed(1)\n",
    "data = {\n",
    "    'A' : np.random.randint(1, 6, 10),\n",
    "    'B' : np.random.randint(1, 6, 10),\n",
    "    'C' : np.random.randint(1, 6, 10),\n",
    "}\n",
    "df = pd.DataFrame(data)\n",
    "\n",
    "anova_stat, p_val = stats.f_oneway(df['A'], df['B'], df['C'])\n",
    "print('One-way ANOVA')\n",
    "print('============')\n",
    "print(f'F-statistic: {anova_stat:.4f}')\n",
    "print(f'p-value: {p_val:.4f}')\n",
    "\n",
    "alpha = 0.05\n",
    "if p_val < alpha:\n",
    "    print('귀무가설 기각')\n",
    "else:\n",
    "    print('귀무가설 채택')"
   ]
  },
  {
   "cell_type": "code",
   "execution_count": null,
   "metadata": {},
   "outputs": [],
   "source": []
  }
 ],
 "metadata": {
  "kernelspec": {
   "display_name": "base",
   "language": "python",
   "name": "python3"
  },
  "language_info": {
   "codemirror_mode": {
    "name": "ipython",
    "version": 3
   },
   "file_extension": ".py",
   "mimetype": "text/x-python",
   "name": "python",
   "nbconvert_exporter": "python",
   "pygments_lexer": "ipython3",
   "version": "3.10.9"
  },
  "orig_nbformat": 4
 },
 "nbformat": 4,
 "nbformat_minor": 2
}
