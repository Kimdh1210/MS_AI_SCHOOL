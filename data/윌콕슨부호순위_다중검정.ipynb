{
 "cells": [
  {
   "cell_type": "code",
   "execution_count": 5,
   "metadata": {},
   "outputs": [
    {
     "name": "stdout",
     "output_type": "stream",
     "text": [
      "Sample 1, 귀무가설 기각 여부 : False\n",
      "Sample 2, 귀무가설 기각 여부 : False\n",
      "Sample 3, 귀무가설 기각 여부 : False\n",
      "Sample 4, 귀무가설 기각 여부 : False\n",
      "Sample 5, 귀무가설 기각 여부 : False\n",
      "Sample 6, 귀무가설 기각 여부 : False\n",
      "Sample 7, 귀무가설 기각 여부 : False\n",
      "Sample 8, 귀무가설 기각 여부 : True\n",
      "Sample 9, 귀무가설 기각 여부 : False\n",
      "Sample 10, 귀무가설 기각 여부 : False\n"
     ]
    },
    {
     "name": "stderr",
     "output_type": "stream",
     "text": [
      "C:\\Users\\김동현\\AppData\\Roaming\\Python\\Python311\\site-packages\\scipy\\stats\\_morestats.py:4088: UserWarning: Exact p-value calculation does not work if there are zeros. Switching to normal approximation.\n",
      "  warnings.warn(\"Exact p-value calculation does not work if there are \"\n",
      "C:\\Users\\김동현\\AppData\\Roaming\\Python\\Python311\\site-packages\\scipy\\stats\\_morestats.py:4102: UserWarning: Sample size too small for normal approximation.\n",
      "  warnings.warn(\"Sample size too small for normal approximation.\")\n"
     ]
    }
   ],
   "source": [
    "import numpy as np\n",
    "import pandas as pd\n",
    "from scipy import stats\n",
    "\n",
    "before_medicine = np.random.randint(1, 10, size=20)\n",
    "after_medicine = before_medicine + np.random.randint(-3, 4, size=20)\n",
    "\n",
    "data = pd.DataFrame({\n",
    "    \"before_medicine\": before_medicine,\n",
    "    \"after_medicine\": after_medicine\n",
    "})\n",
    "\n",
    "p_vals_list = []\n",
    "for i in range(10):\n",
    "    # data에서 랜덤으로 데이터를 선정해서 윌콕슨 부호 순위 검정 진행\n",
    "    sample = data.sample(frac=0.5)\n",
    "\n",
    "    _, p_value = stats.wilcoxon(sample['before_medicine'], sample['after_medicine'])\n",
    "    p_vals_list.append(p_value)\n",
    "    print(f'Sample {i + 1}, 귀무가설 기각 여부 : {p_value < 0.05}')\n"
   ]
  },
  {
   "cell_type": "code",
   "execution_count": 12,
   "metadata": {},
   "outputs": [
    {
     "name": "stdout",
     "output_type": "stream",
     "text": [
      "Bonferroni 보정에 사용될 유의수준 : 0.005\n",
      "1 : P_Value 1.0,귀무가설 채택됨\n",
      "2 : P_Value 1.0,귀무가설 채택됨\n",
      "3 : P_Value 1.0,귀무가설 채택됨\n",
      "4 : P_Value 1.0,귀무가설 채택됨\n",
      "5 : P_Value 1.0,귀무가설 채택됨\n",
      "6 : P_Value 1.0,귀무가설 채택됨\n",
      "7 : P_Value 1.0,귀무가설 채택됨\n",
      "8 : P_Value 0.474368928248654,귀무가설 채택됨\n",
      "9 : P_Value 1.0,귀무가설 채택됨\n",
      "10 : P_Value 1.0,귀무가설 채택됨\n"
     ]
    }
   ],
   "source": [
    "from statsmodels.stats.multitest import multipletests\n",
    "\n",
    "# multipletests : 다중 검정으로 얻은 P-Value 집합을 넣어 보정을 진행\n",
    "# alpha 인자는 기본적으로 0.05 (유의수준 5%)로 설정되어 있음) \n",
    "rejected_bool, corrected_p, _, bonferroni_alpha = multipletests(p_vals_list, method='bonferroni')\n",
    "\n",
    "print(f'Bonferroni 보정에 사용될 유의수준 : {bonferroni_alpha}')\n",
    "for i, item in enumerate(rejected_bool):\n",
    "    if item:\n",
    "        print(f\"{i + 1} : P_Value {corrected_p[i]}, 귀무가설 기각됨\")\n",
    "    else:\n",
    "        print(f\"{i + 1} : P_Value {corrected_p[i]},귀무가설 채택됨\")\n",
    "    "
   ]
  },
  {
   "cell_type": "code",
   "execution_count": 14,
   "metadata": {},
   "outputs": [
    {
     "name": "stdout",
     "output_type": "stream",
     "text": [
      "1 : P_Value 0.6310566191660882,귀무가설 채택됨\n",
      "2 : P_Value 0.6310566191660882,귀무가설 채택됨\n",
      "3 : P_Value 0.6310566191660882,귀무가설 채택됨\n",
      "4 : P_Value 0.6310566191660882,귀무가설 채택됨\n",
      "5 : P_Value 0.6310566191660882,귀무가설 채택됨\n",
      "6 : P_Value 0.5107288041009415,귀무가설 채택됨\n",
      "7 : P_Value 0.6310566191660882,귀무가설 채택됨\n",
      "8 : P_Value 0.47436892824865395,귀무가설 채택됨\n",
      "9 : P_Value 0.6310566191660882,귀무가설 채택됨\n",
      "10 : P_Value 0.6310566191660882,귀무가설 채택됨\n"
     ]
    }
   ],
   "source": [
    "# Bonfeffoni 보정에서는 모든 검정에 대해 똑같이 n배 엄격한 유의수준을 일괄적으로 적용\n",
    "# 그러나 Benjamoni-Hochberg 보정에서는 P-Value 크기 순으로 유예를 주기 때문에 단일 유의수준을 반환하지 않음\n",
    "# 따라서 Bonferroni 보정의 유의수준에 해당하는 4번째 인자까지 생략\n",
    "rejectes_bool, corrected_p, _, _ = multipletests(p_vals_list, method='fdr_bh')\n",
    "\n",
    "for i, item in enumerate(rejected_bool):\n",
    "    if item:\n",
    "        print(f\"{i + 1} : P_Value {corrected_p[i]}, 귀무가설 기각됨\")\n",
    "    else:\n",
    "        print(f\"{i + 1} : P_Value {corrected_p[i]},귀무가설 채택됨\")\n",
    "    \n"
   ]
  },
  {
   "cell_type": "code",
   "execution_count": null,
   "metadata": {},
   "outputs": [],
   "source": []
  }
 ],
 "metadata": {
  "kernelspec": {
   "display_name": "Python 3",
   "language": "python",
   "name": "python3"
  },
  "language_info": {
   "codemirror_mode": {
    "name": "ipython",
    "version": 3
   },
   "file_extension": ".py",
   "mimetype": "text/x-python",
   "name": "python",
   "nbconvert_exporter": "python",
   "pygments_lexer": "ipython3",
   "version": "3.11.4"
  },
  "orig_nbformat": 4
 },
 "nbformat": 4,
 "nbformat_minor": 2
}
