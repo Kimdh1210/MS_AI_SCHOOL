{
 "cells": [
  {
   "cell_type": "code",
   "execution_count": 1,
   "metadata": {},
   "outputs": [
    {
     "name": "stdout",
     "output_type": "stream",
     "text": [
      "원본 데이터셋 크기 : (100, 5)\n",
      "인자 개수 2개에 대한 분석 결과 : \n",
      "[[-1.11913528  0.6994462 ]\n",
      " [ 1.4156213   0.7174975 ]\n",
      " [ 0.06154155 -0.45572318]\n",
      " [-0.49390053  0.555509  ]\n",
      " [ 0.24735746 -0.56058135]]\n",
      "인자의 총 갯수 : 100\n"
     ]
    }
   ],
   "source": [
    "import numpy as np\n",
    "from sklearn.decomposition import FactorAnalysis\n",
    "\n",
    "n_sample = 100\n",
    "n_features = 5\n",
    "\n",
    "data = np.random.randn(n_sample, n_features)\n",
    "\n",
    "n_components = 2\n",
    "factor_analysis = FactorAnalysis(n_components=n_components, random_state=0)\n",
    "data_factors = factor_analysis.fit_transform(data)\n",
    "\n",
    "print(f'원본 데이터셋 크기 : {data.shape}')\n",
    "print(f'인자 개수 {n_components}개에 대한 분석 결과 : \\n{data_factors[:5]}')\n",
    "print(f'인자의 총 갯수 : {len(data_factors)}')"
   ]
  },
  {
   "cell_type": "code",
   "execution_count": null,
   "metadata": {},
   "outputs": [],
   "source": []
  }
 ],
 "metadata": {
  "kernelspec": {
   "display_name": "Python 3",
   "language": "python",
   "name": "python3"
  },
  "language_info": {
   "codemirror_mode": {
    "name": "ipython",
    "version": 3
   },
   "file_extension": ".py",
   "mimetype": "text/x-python",
   "name": "python",
   "nbconvert_exporter": "python",
   "pygments_lexer": "ipython3",
   "version": "3.11.4"
  },
  "orig_nbformat": 4
 },
 "nbformat": 4,
 "nbformat_minor": 2
}
