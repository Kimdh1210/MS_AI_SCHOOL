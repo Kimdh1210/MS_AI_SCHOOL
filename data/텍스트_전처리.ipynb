{
 "cells": [
  {
   "cell_type": "code",
   "execution_count": 12,
   "metadata": {},
   "outputs": [
    {
     "name": "stdout",
     "output_type": "stream",
     "text": [
      "토큰화 완료된 문장 : I am a student. I am studyng computer vision\n",
      "['i', 'me', 'my', 'myself', 'we', 'our', 'ours', 'ourselves', 'you', \"you're\", \"you've\", \"you'll\", \"you'd\", 'your', 'yours', 'yourself', 'yourselves', 'he', 'him', 'his', 'himself', 'she', \"she's\", 'her', 'hers', 'herself', 'it', \"it's\", 'its', 'itself', 'they', 'them', 'their', 'theirs', 'themselves', 'what', 'which', 'who', 'whom', 'this', 'that', \"that'll\", 'these', 'those', 'am', 'is', 'are', 'was', 'were', 'be', 'been', 'being', 'have', 'has', 'had', 'having', 'do', 'does', 'did', 'doing', 'a', 'an', 'the', 'and', 'but', 'if', 'or', 'because', 'as', 'until', 'while', 'of', 'at', 'by', 'for', 'with', 'about', 'against', 'between', 'into', 'through', 'during', 'before', 'after', 'above', 'below', 'to', 'from', 'up', 'down', 'in', 'out', 'on', 'off', 'over', 'under', 'again', 'further', 'then', 'once', 'here', 'there', 'when', 'where', 'why', 'how', 'all', 'any', 'both', 'each', 'few', 'more', 'most', 'other', 'some', 'such', 'no', 'nor', 'not', 'only', 'own', 'same', 'so', 'than', 'too', 'very', 's', 't', 'can', 'will', 'just', 'don', \"don't\", 'should', \"should've\", 'now', 'd', 'll', 'm', 'o', 're', 've', 'y', 'ain', 'aren', \"aren't\", 'couldn', \"couldn't\", 'didn', \"didn't\", 'doesn', \"doesn't\", 'hadn', \"hadn't\", 'hasn', \"hasn't\", 'haven', \"haven't\", 'isn', \"isn't\", 'ma', 'mightn', \"mightn't\", 'mustn', \"mustn't\", 'needn', \"needn't\", 'shan', \"shan't\", 'shouldn', \"shouldn't\", 'wasn', \"wasn't\", 'weren', \"weren't\", 'won', \"won't\", 'wouldn', \"wouldn't\"]\n",
      "불용어 처리된 토큰 : ['student', '.', 'studyng', 'computer', 'vision']\n",
      "정규화 완료된 토큰 : ['student', '.', 'studyng', 'comput', 'vision']\n"
     ]
    },
    {
     "name": "stderr",
     "output_type": "stream",
     "text": [
      "[nltk_data] Downloading package punkt to\n",
      "[nltk_data]     C:\\Users\\김동현\\AppData\\Roaming\\nltk_data...\n",
      "[nltk_data]   Package punkt is already up-to-date!\n",
      "[nltk_data] Downloading package stopwords to\n",
      "[nltk_data]     C:\\Users\\김동현\\AppData\\Roaming\\nltk_data...\n",
      "[nltk_data]   Package stopwords is already up-to-date!\n"
     ]
    }
   ],
   "source": [
    "import nltk\n",
    "from nltk.corpus import stopwords\n",
    "from nltk.tokenize import word_tokenize\n",
    "from nltk.stem import PorterStemmer\n",
    "\n",
    "# nlkt 라이브러리 사용을 위한 데잉터 다운로드\n",
    "nltk.download('punkt')\n",
    "# 텍스트 전처리를 진행할 예제 문장\n",
    "text = \"I am a student. I am studyng computer vision\"\n",
    "\n",
    "# 토큰화\n",
    "tokens = word_tokenize(text)\n",
    "print(f\"토큰화 완료된 문장 : {text}\")\n",
    "\n",
    "# 영문 기준 불용어\n",
    "nltk.download('stopwords')\n",
    "stop_words = stopwords.words('english')\n",
    "print(stop_words)\n",
    "\n",
    "filtered_tokens = []\n",
    "# [token for token in tokens...] : tokens 안에 있는 내부 요소를 token이라 지정하고, 해당 요소들을 list로 담을 것\n",
    "# [...if token not in stop_words] : stop_words 안에 앞서 선언한 token이 없는 경우에만 위의 동작을 실행 \n",
    "#filtered_tokens_in_one_line = [token for token in tokens if token.lower() not in stop_words]\n",
    "for token in tokens:\n",
    "    if token.lower()  not in stop_words:\n",
    "        filtered_tokens.append(token)\n",
    "print(f\"불용어 처리된 토큰 : {filtered_tokens}\")\n",
    "\n",
    "# 정규화 필터\n",
    "stemmer = PorterStemmer()\n",
    "normalized_tokens = []\n",
    "for token in filtered_tokens:\n",
    "    normalized_tokens.append(stemmer.stem(token))\n",
    "print(f\"정규화 완료된 토큰 : {normalized_tokens}\")"
   ]
  },
  {
   "cell_type": "code",
   "execution_count": null,
   "metadata": {},
   "outputs": [],
   "source": []
  }
 ],
 "metadata": {
  "kernelspec": {
   "display_name": "base",
   "language": "python",
   "name": "python3"
  },
  "language_info": {
   "codemirror_mode": {
    "name": "ipython",
    "version": 3
   },
   "file_extension": ".py",
   "mimetype": "text/x-python",
   "name": "python",
   "nbconvert_exporter": "python",
   "pygments_lexer": "ipython3",
   "version": "3.10.9"
  },
  "orig_nbformat": 4
 },
 "nbformat": 4,
 "nbformat_minor": 2
}
