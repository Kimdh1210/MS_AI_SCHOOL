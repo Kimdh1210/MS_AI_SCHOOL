{
 "cells": [
  {
   "cell_type": "code",
   "execution_count": 7,
   "metadata": {},
   "outputs": [
    {
     "name": "stdout",
     "output_type": "stream",
     "text": [
      "P-Value : 0.0000\n",
      "귀무가설 기각\n"
     ]
    }
   ],
   "source": [
    "import pandas as pd\n",
    "from scipy import stats\n",
    "\n",
    "titanic_df = pd.read_csv(\"titanic_data.csv\")\n",
    "\n",
    "# 남성 탑승객 DataFrame\n",
    "male_df = titanic_df[titanic_df['Sex'] == 'male']\n",
    "# 여성 탑승객 DataFrame\n",
    "female_df = titanic_df[titanic_df['Sex'] == 'female']\n",
    "\n",
    "male_survival_rate = male_df['Survived'].mean()\n",
    "female_survival_rate = male_df['Survived'].mean()\n",
    "\n",
    "# 두 독립 샘플에 대한 T-검정\n",
    "# t_test_result = stats.ttest_ind(male_df['Survived'], female_df['Survived'])\n",
    "# p_value = t_test_result.pvalue\n",
    "\n",
    "t, p = stats.ttest_ind(male_df['Survived'], female_df['Survived'])\n",
    "print(f\"P-Value : {p:.4f}\")\n",
    "\n",
    "# 유의수준\n",
    "alpha = 0.05\n",
    "if p < alpha:\n",
    "    print(\"귀무가설 기각\")\n",
    "else:\n",
    "    print(\"귀무가설 채택\")"
   ]
  },
  {
   "cell_type": "code",
   "execution_count": null,
   "metadata": {},
   "outputs": [],
   "source": []
  }
 ],
 "metadata": {
  "kernelspec": {
   "display_name": "base",
   "language": "python",
   "name": "python3"
  },
  "language_info": {
   "codemirror_mode": {
    "name": "ipython",
    "version": 3
   },
   "file_extension": ".py",
   "mimetype": "text/x-python",
   "name": "python",
   "nbconvert_exporter": "python",
   "pygments_lexer": "ipython3",
   "version": "3.10.9"
  },
  "orig_nbformat": 4
 },
 "nbformat": 4,
 "nbformat_minor": 2
}
