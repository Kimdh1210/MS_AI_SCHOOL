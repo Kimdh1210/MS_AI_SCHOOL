{
 "cells": [
  {
   "cell_type": "code",
   "execution_count": 1,
   "metadata": {},
   "outputs": [
    {
     "name": "stdout",
     "output_type": "stream",
     "text": [
      "      group1    group2\n",
      "0   4.963582  7.821365\n",
      "1   6.469980  7.963917\n",
      "2   2.412445  9.438357\n",
      "3   6.214543  7.239369\n",
      "4   4.525891  9.664745\n",
      "..       ...       ...\n",
      "95  6.868633  5.564887\n",
      "96  5.316825  5.393820\n",
      "97  6.651156  7.837278\n",
      "98  7.708036  7.149649\n",
      "99  3.771712  6.266438\n",
      "\n",
      "[100 rows x 2 columns]\n"
     ]
    }
   ],
   "source": [
    "import pandas as pd\n",
    "import numpy as np\n",
    "from scipy import stats\n",
    "\n",
    "group1 = np.random.normal(loc=6, scale=1.5, size=100)\n",
    "group2 = np.random.normal(loc=7, scale=1.5, size=100)\n",
    "\n",
    "data = pd.DataFrame({'group1': group1, 'group2': group2})\n",
    "data.to_csv('sleep_data.csv', index=False)\n",
    "\n",
    "data = pd.read_csv('sleep_data.csv')\n",
    "print(data)"
   ]
  },
  {
   "cell_type": "code",
   "execution_count": 7,
   "metadata": {},
   "outputs": [
    {
     "name": "stdout",
     "output_type": "stream",
     "text": [
      "Mann-Whitney U statistic: 3039.0\n",
      "p-value: 1.6656209392878138e-06\n",
      "두 집단이 유의한 차이가 있음\n"
     ]
    }
   ],
   "source": [
    "stat, p_val = stats.mannwhitneyu(group1, group2)\n",
    "\n",
    "print(f'Mann-Whitney U statistic: {stat}')\n",
    "print(f'p-value: {p_val}')\n",
    "print('두 집단이 유의한 차이가 없음' if p_val > 0.05 else '두 집단이 유의한 차이가 있음')"
   ]
  },
  {
   "cell_type": "code",
   "execution_count": null,
   "metadata": {},
   "outputs": [],
   "source": []
  }
 ],
 "metadata": {
  "kernelspec": {
   "display_name": "Python 3",
   "language": "python",
   "name": "python3"
  },
  "language_info": {
   "codemirror_mode": {
    "name": "ipython",
    "version": 3
   },
   "file_extension": ".py",
   "mimetype": "text/x-python",
   "name": "python",
   "nbconvert_exporter": "python",
   "pygments_lexer": "ipython3",
   "version": "3.11.4"
  },
  "orig_nbformat": 4
 },
 "nbformat": 4,
 "nbformat_minor": 2
}
