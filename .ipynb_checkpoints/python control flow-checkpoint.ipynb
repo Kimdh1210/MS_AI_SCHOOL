{
 "cells": [
  {
   "cell_type": "code",
   "execution_count": 1,
   "id": "1283fc8c",
   "metadata": {},
   "outputs": [
    {
     "name": "stdout",
     "output_type": "stream",
     "text": [
      "당신은 미성년자입니다.\n"
     ]
    }
   ],
   "source": [
    "adult = 18\n",
    "age = 17\n",
    "if age<adult :\n",
    " print('당신은 미성년자입니다.')\n",
    "else :\n",
    " print('당신은 성인입니다.')"
   ]
  },
  {
   "cell_type": "code",
   "execution_count": 2,
   "id": "ad07e631",
   "metadata": {},
   "outputs": [
    {
     "name": "stdout",
     "output_type": "stream",
     "text": [
      "당신은 미성년 남자입니다.\n",
      "당신은 남자입니다.\n"
     ]
    }
   ],
   "source": [
    "gender = 'male'\n",
    "if age<adult :\n",
    " print('당신은 미성년 남자입니다.')\n",
    "else :\n",
    " print('당신은 성인입니다.')\n",
    " \n",
    "if gender == 'male' :\n",
    " print('당신은 남자입니다.')\n",
    "else :\n",
    " print('당신은 남자가 아닙니다.')"
   ]
  },
  {
   "cell_type": "code",
   "execution_count": 3,
   "id": "acf61f0c",
   "metadata": {},
   "outputs": [
    {
     "name": "stdout",
     "output_type": "stream",
     "text": [
      "A\n"
     ]
    }
   ],
   "source": [
    "score = 90\n",
    "if score >= 90:\n",
    " result = 'A'\n",
    "elif score >= 80:\n",
    " result = 'B'\n",
    "elif score >= 70:\n",
    " result = 'C'\n",
    "elif score >= 60: \n",
    " result = 'D'\n",
    "else : \n",
    " result = 'F'\n",
    "print(result)"
   ]
  },
  {
   "cell_type": "code",
   "execution_count": 4,
   "id": "d7708c50",
   "metadata": {},
   "outputs": [
    {
     "name": "stdout",
     "output_type": "stream",
     "text": [
      "D\n"
     ]
    }
   ],
   "source": [
    "score = 90\n",
    "if score >= 90:\n",
    " result = 'A'\n",
    "if score >= 80:\n",
    " result = 'B'\n",
    "if score >= 70:\n",
    " result = 'C'\n",
    "if score >= 60:\n",
    " result = 'D'\n",
    "else :\n",
    " result = 'F'\n",
    "print(result)\n"
   ]
  },
  {
   "cell_type": "code",
   "execution_count": 5,
   "id": "8b2808f0",
   "metadata": {},
   "outputs": [
    {
     "name": "stdout",
     "output_type": "stream",
     "text": [
      "1\n",
      "2\n",
      "3\n",
      "4\n",
      "5\n",
      "6\n",
      "7\n",
      "8\n",
      "9\n",
      "10\n",
      "apple\n",
      "orange\n",
      "grape\n",
      "1\n",
      "2\n",
      "3\n",
      "4\n",
      "5\n",
      "6\n",
      "7\n",
      "8\n",
      "9\n",
      "10\n"
     ]
    }
   ],
   "source": [
    "list1 = [1, 2, 3, 4, 5, 6, 7, 8, 9, 10]\n",
    "for num in list1:\n",
    " print(num)\n",
    "fruits = ('apple', 'orange', 'grape')\n",
    "for fruit in fruits:\n",
    " print(fruit)\n",
    "tuple1 = (1, 2, 3, 4, 5, 6, 7, 8, 9, 10)\n",
    "for num in tuple1:\n",
    " print(num)"
   ]
  },
  {
   "cell_type": "code",
   "execution_count": 1,
   "id": "e723d0b2",
   "metadata": {},
   "outputs": [
    {
     "name": "stdout",
     "output_type": "stream",
     "text": [
      "1\n",
      "2\n",
      "3\n",
      "4\n",
      "5\n",
      "6\n",
      "7\n",
      "8\n",
      "9\n",
      "10\n",
      "apple\n",
      "orange\n",
      "grape\n",
      "1\n",
      "2\n",
      "3\n",
      "4\n",
      "5\n",
      "6\n",
      "7\n",
      "8\n",
      "9\n",
      "10\n"
     ]
    }
   ],
   "source": [
    "list1 = [1, 2, 3, 4, 5, 6, 7, 8, 9, 10]\n",
    "for num in list1:\n",
    "    print(num)\n",
    "fruits = ('apple', 'orange', 'grape')\n",
    "for fruit in fruits:\n",
    "    print(fruit)\n",
    "tuple1 = (1, 2, 3, 4, 5, 6, 7, 8, 9, 10)\n",
    "for num in tuple1:\n",
    "    print(num)"
   ]
  },
  {
   "cell_type": "code",
   "execution_count": 2,
   "id": "476d1e7d",
   "metadata": {},
   "outputs": [
    {
     "name": "stdout",
     "output_type": "stream",
     "text": [
      "5\n",
      "5 * 1 = 5\n",
      "5 * 2 = 10\n",
      "5 * 3 = 15\n",
      "5 * 4 = 20\n",
      "5 * 5 = 25\n",
      "5 * 6 = 30\n",
      "5 * 7 = 35\n",
      "5 * 8 = 40\n",
      "5 * 9 = 45\n"
     ]
    }
   ],
   "source": [
    "n = int(input())\n",
    "for i in range(1,10):\n",
    "    print(n,'*',i,'=',n*i)"
   ]
  },
  {
   "cell_type": "code",
   "execution_count": 6,
   "id": "9054989c",
   "metadata": {},
   "outputs": [
    {
     "name": "stdout",
     "output_type": "stream",
     "text": [
      "1 * 1 = 1  1 * 2 = 2  1 * 3 = 3  1 * 4 = 4  1 * 5 = 5  1 * 6 = 6  1 * 7 = 7  1 * 8 = 8  1 * 9 = 9  \n",
      "2 * 1 = 2  2 * 2 = 4  2 * 3 = 6  2 * 4 = 8  2 * 5 = 10  2 * 6 = 12  2 * 7 = 14  2 * 8 = 16  2 * 9 = 18  \n",
      "3 * 1 = 3  3 * 2 = 6  3 * 3 = 9  3 * 4 = 12  3 * 5 = 15  3 * 6 = 18  3 * 7 = 21  3 * 8 = 24  3 * 9 = 27  \n",
      "4 * 1 = 4  4 * 2 = 8  4 * 3 = 12  4 * 4 = 16  4 * 5 = 20  4 * 6 = 24  4 * 7 = 28  4 * 8 = 32  4 * 9 = 36  \n",
      "5 * 1 = 5  5 * 2 = 10  5 * 3 = 15  5 * 4 = 20  5 * 5 = 25  5 * 6 = 30  5 * 7 = 35  5 * 8 = 40  5 * 9 = 45  \n",
      "6 * 1 = 6  6 * 2 = 12  6 * 3 = 18  6 * 4 = 24  6 * 5 = 30  6 * 6 = 36  6 * 7 = 42  6 * 8 = 48  6 * 9 = 54  \n",
      "7 * 1 = 7  7 * 2 = 14  7 * 3 = 21  7 * 4 = 28  7 * 5 = 35  7 * 6 = 42  7 * 7 = 49  7 * 8 = 56  7 * 9 = 63  \n",
      "8 * 1 = 8  8 * 2 = 16  8 * 3 = 24  8 * 4 = 32  8 * 5 = 40  8 * 6 = 48  8 * 7 = 56  8 * 8 = 64  8 * 9 = 72  \n",
      "9 * 1 = 9  9 * 2 = 18  9 * 3 = 27  9 * 4 = 36  9 * 5 = 45  9 * 6 = 54  9 * 7 = 63  9 * 8 = 72  9 * 9 = 81  \n"
     ]
    }
   ],
   "source": [
    "for i in range(1,10):\n",
    "    for j in range(1,10):\n",
    "        print(i,'*',j,'=',i*j,' ', end=\"\")\n",
    "    print()"
   ]
  },
  {
   "cell_type": "code",
   "execution_count": 7,
   "id": "cb6bbb62",
   "metadata": {},
   "outputs": [
    {
     "name": "stdout",
     "output_type": "stream",
     "text": [
      "1\n",
      "3\n",
      "5\n",
      "7\n",
      "9\n"
     ]
    }
   ],
   "source": [
    "for i in range(11):\n",
    "    if i%2==1:\n",
    "        print(i)\n",
    "        continue"
   ]
  },
  {
   "cell_type": "code",
   "execution_count": null,
   "id": "99d36847",
   "metadata": {},
   "outputs": [],
   "source": []
  }
 ],
 "metadata": {
  "kernelspec": {
   "display_name": "Python 3 (ipykernel)",
   "language": "python",
   "name": "python3"
  },
  "language_info": {
   "codemirror_mode": {
    "name": "ipython",
    "version": 3
   },
   "file_extension": ".py",
   "mimetype": "text/x-python",
   "name": "python",
   "nbconvert_exporter": "python",
   "pygments_lexer": "ipython3",
   "version": "3.10.9"
  }
 },
 "nbformat": 4,
 "nbformat_minor": 5
}
