{
 "cells": [
  {
   "cell_type": "code",
   "execution_count": 1,
   "id": "c8a8729a",
   "metadata": {},
   "outputs": [],
   "source": [
    "from tkinter import *"
   ]
  },
  {
   "cell_type": "code",
   "execution_count": 9,
   "id": "7cb24f32",
   "metadata": {},
   "outputs": [],
   "source": [
    "def change_lang():\n",
    "    if label.cget('text') == 'hello python':\n",
    "        label.config(text = '안녕 파이썬')\n",
    "    else:\n",
    "        label.config(text = 'hello python')\n",
    "\n",
    "window = Tk()\n",
    "label = Label(window, text = 'hello python')\n",
    "label.pack()\n",
    "\n",
    "button = Button(window, text = '한영전환', command = change_lang)\n",
    "button.pack()\n",
    "\n",
    "window.mainloop()"
   ]
  },
  {
   "cell_type": "code",
   "execution_count": null,
   "id": "37d1c327",
   "metadata": {},
   "outputs": [],
   "source": []
  }
 ],
 "metadata": {
  "kernelspec": {
   "display_name": "Python 3 (ipykernel)",
   "language": "python",
   "name": "python3"
  },
  "language_info": {
   "codemirror_mode": {
    "name": "ipython",
    "version": 3
   },
   "file_extension": ".py",
   "mimetype": "text/x-python",
   "name": "python",
   "nbconvert_exporter": "python",
   "pygments_lexer": "ipython3",
   "version": "3.10.9"
  }
 },
 "nbformat": 4,
 "nbformat_minor": 5
}
