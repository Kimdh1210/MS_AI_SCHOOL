{
 "cells": [
  {
   "cell_type": "code",
   "execution_count": 1,
   "id": "c6d88cd2",
   "metadata": {},
   "outputs": [],
   "source": [
    "import pymysql"
   ]
  },
  {
   "cell_type": "code",
   "execution_count": 3,
   "id": "42dc0146",
   "metadata": {},
   "outputs": [],
   "source": [
    "conn = pymysql.connect(host='localhost', user='root',\n",
    "                      password='Pa$$w0rd1234', db='school', charset='utf8')\n",
    "try:\n",
    "    curs = conn.cursor()\n",
    "    sql = '''CREATE TABLE user (\n",
    "        id int(11) NOT NULL AUTO_INCREMENT PRIMARY KEY,\n",
    "        name varchar(255),\n",
    "        email varchar(255)\n",
    "        )'''\n",
    "    curs.execute(sql)\n",
    "    conn.commit()\n",
    "finally:\n",
    "    conn.close()"
   ]
  },
  {
   "cell_type": "code",
   "execution_count": 5,
   "id": "802d570d",
   "metadata": {},
   "outputs": [],
   "source": [
    "conn = pymysql.connect(host='localhost', user='root',\n",
    "                      password='Pa$$w0rd1234', db='school', charset='utf8')\n",
    "try:\n",
    "    curs = conn.cursor()\n",
    "    sql = \"INSERT INTO user VALUES (%s, %s, %s)\"\n",
    "    val = (1, \"랩몬\", \"rm@naver.com\")\n",
    "    curs.execute(sql, val)\n",
    "    conn.commit()\n",
    "finally:\n",
    "    conn.close()"
   ]
  },
  {
   "cell_type": "code",
   "execution_count": 7,
   "id": "e8482c9a",
   "metadata": {},
   "outputs": [],
   "source": [
    "conn = pymysql.connect(host='localhost', user='root',\n",
    "                      password='Pa$$w0rd1234', db='school', charset='utf8')\n",
    "try:\n",
    "    curs = conn.cursor()\n",
    "    sql = \"INSERT INTO user VALUES (%s, %s, %s)\"\n",
    "    curs.execute(sql, (2, \"제이홉\", \"jh@naver.com\"))\n",
    "    curs.execute(sql, (3, \"슈가\", \"sugar@naver.com\"))\n",
    "    curs.execute(sql, (4, \"정국\", \"jg@naver.com\"))\n",
    "    conn.commit()\n",
    "finally:\n",
    "    conn.close()"
   ]
  },
  {
   "cell_type": "code",
   "execution_count": 8,
   "id": "b3a7d907",
   "metadata": {},
   "outputs": [
    {
     "name": "stdout",
     "output_type": "stream",
     "text": [
      "(1, '랩몬', 'rm@naver.com')\n",
      "(2, '제이홉', 'jh@naver.com')\n",
      "(3, '슈가', 'sugar@naver.com')\n",
      "(4, '정국', 'jg@naver.com')\n"
     ]
    }
   ],
   "source": [
    "import pymysql\n",
    "conn = pymysql.connect(host='localhost', user='root',\n",
    " password='Pa$$w0rd1234', db='school', \n",
    "charset='utf8')\n",
    "try:\n",
    "    curs = conn.cursor()\n",
    "    sql = \"SELECT * FROM user\"\n",
    "    curs.execute(sql)\n",
    "    data = curs.fetchall()\n",
    "    conn.commit()\n",
    "    for member in data:\n",
    "        print(member)\n",
    "finally:\n",
    "    conn.close()"
   ]
  },
  {
   "cell_type": "code",
   "execution_count": 26,
   "id": "497b4989",
   "metadata": {},
   "outputs": [
    {
     "name": "stdout",
     "output_type": "stream",
     "text": [
      "(2, '제이홉', 'jh@naver.com')\n"
     ]
    }
   ],
   "source": [
    "import pymysql\n",
    "conn = pymysql.connect(host='localhost', user='root',\n",
    "     password='Pa$$w0rd1234', db='school', \n",
    "     charset='utf8')\n",
    "try:\n",
    "    curs = conn.cursor()\n",
    "    sql = 'SELECT * FROM user WHERE name = %s'\n",
    "    val = ('제이홉')\n",
    "    curs.execute(sql,val)\n",
    "    data = curs.fetchall()\n",
    "    conn.commit()\n",
    "    for member in data:\n",
    "        print(member)\n",
    "finally:\n",
    "    conn.close()"
   ]
  },
  {
   "cell_type": "code",
   "execution_count": 31,
   "id": "9b2e8c2b",
   "metadata": {},
   "outputs": [
    {
     "name": "stdout",
     "output_type": "stream",
     "text": [
      "(2, '제이홉', '컴퓨터공학과', 3, '남', None, '2011', '소나타', 2)\n",
      "(1, '랩몬', '정보통신', 2, '남', None, '5387', '그랜져', 1)\n"
     ]
    }
   ],
   "source": [
    "import pymysql\n",
    "conn = pymysql.connect(host='localhost', user='root',\n",
    "     password='Pa$$w0rd1234', db='school', \n",
    "     charset='utf8')\n",
    "\n",
    "try:\n",
    "    curs = conn.cursor()\n",
    "    sql = 'select * from students s inner join cars c where s.id = c.students_id'\n",
    "    curs.execute(sql)\n",
    "    data = curs.fetchall()\n",
    "    for member in data:\n",
    "        print(member)\n",
    "finally:\n",
    "    conn.close()"
   ]
  },
  {
   "cell_type": "code",
   "execution_count": null,
   "id": "f299763a",
   "metadata": {},
   "outputs": [],
   "source": []
  }
 ],
 "metadata": {
  "kernelspec": {
   "display_name": "Python 3 (ipykernel)",
   "language": "python",
   "name": "python3"
  },
  "language_info": {
   "codemirror_mode": {
    "name": "ipython",
    "version": 3
   },
   "file_extension": ".py",
   "mimetype": "text/x-python",
   "name": "python",
   "nbconvert_exporter": "python",
   "pygments_lexer": "ipython3",
   "version": "3.10.9"
  }
 },
 "nbformat": 4,
 "nbformat_minor": 5
}
