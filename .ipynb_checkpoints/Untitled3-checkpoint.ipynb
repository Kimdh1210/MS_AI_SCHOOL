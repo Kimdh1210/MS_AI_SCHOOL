{
 "cells": [
  {
   "cell_type": "code",
   "execution_count": 4,
   "id": "9e8ffd39",
   "metadata": {},
   "outputs": [
    {
     "name": "stdout",
     "output_type": "stream",
     "text": [
      "안녕하세요. MS AI SCHOOL\n",
      "파일을 열어봅니다.\n"
     ]
    },
    {
     "data": {
      "text/plain": [
       "<function TextIOWrapper.close()>"
      ]
     },
     "execution_count": 4,
     "metadata": {},
     "output_type": "execute_result"
    }
   ],
   "source": [
    "f = open('test.txt','r',encoding='utf8')\n",
    "text = f.read()\n",
    "print(text)\n",
    "f.close"
   ]
  },
  {
   "cell_type": "code",
   "execution_count": 5,
   "id": "43ee8ee3",
   "metadata": {},
   "outputs": [
    {
     "name": "stdout",
     "output_type": "stream",
     "text": [
      "안녕하세요. MS AI SCHOOL\n",
      "파일을 열어봅니다.\n"
     ]
    }
   ],
   "source": [
    "with open('test.txt', 'r+', encoding='utf8') as f:\n",
    "    text = f.read()\n",
    "    print(text)"
   ]
  },
  {
   "cell_type": "code",
   "execution_count": 8,
   "id": "1392d2a0",
   "metadata": {},
   "outputs": [
    {
     "name": "stdout",
     "output_type": "stream",
     "text": [
      "안녕하세요. MS AI SCHOOL\n",
      "파일을 열어봅니다."
     ]
    }
   ],
   "source": [
    "with open('test.txt', 'r+', encoding='utf8') as f:\n",
    "    lines = f.readlines()\n",
    "    for line in lines:\n",
    "        print(line,end=\"\")"
   ]
  },
  {
   "cell_type": "code",
   "execution_count": 26,
   "id": "22be444e",
   "metadata": {},
   "outputs": [],
   "source": [
    "text = \"안녕하세요.\\n파이썬입니다.\\n반갑습니다.\"\n",
    "with open('test.txt', 'w', encoding = 'utf8') as f:\n",
    "    f.writelines(text)"
   ]
  },
  {
   "cell_type": "code",
   "execution_count": 27,
   "id": "a307223e",
   "metadata": {},
   "outputs": [],
   "source": [
    "texts = [\"안녕하세요.\", \"파이썬입니다.\", \"반갑습니다.\"]\n",
    "with open('test.txt', 'a', encoding = 'utf8') as f:\n",
    "    for text in texts:\n",
    "        f.writelines(texts)\n",
    "        f.writelines('\\n')"
   ]
  },
  {
   "cell_type": "code",
   "execution_count": null,
   "id": "01ec47c7",
   "metadata": {},
   "outputs": [],
   "source": []
  }
 ],
 "metadata": {
  "kernelspec": {
   "display_name": "Python 3 (ipykernel)",
   "language": "python",
   "name": "python3"
  },
  "language_info": {
   "codemirror_mode": {
    "name": "ipython",
    "version": 3
   },
   "file_extension": ".py",
   "mimetype": "text/x-python",
   "name": "python",
   "nbconvert_exporter": "python",
   "pygments_lexer": "ipython3",
   "version": "3.10.9"
  }
 },
 "nbformat": 4,
 "nbformat_minor": 5
}
