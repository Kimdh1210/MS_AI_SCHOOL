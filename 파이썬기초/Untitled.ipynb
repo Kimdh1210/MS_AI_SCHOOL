{
 "cells": [
  {
   "cell_type": "markdown",
   "id": "df839d30",
   "metadata": {},
   "source": [
    "## Class 정의"
   ]
  },
  {
   "cell_type": "code",
   "execution_count": 32,
   "id": "0be99cdc",
   "metadata": {},
   "outputs": [],
   "source": [
    "class Person:\n",
    "    def __init__(self):\n",
    "        self.greeting = '안녕하세요'\n",
    "        self.name = '김동현'\n",
    "    def hello(self):\n",
    "        print(self.greeting,'저는',self.name,'입니다')"
   ]
  },
  {
   "cell_type": "code",
   "execution_count": 33,
   "id": "d0f8fb27",
   "metadata": {},
   "outputs": [
    {
     "name": "stdout",
     "output_type": "stream",
     "text": [
      "안녕하세요 저는 김동현 입니다\n"
     ]
    }
   ],
   "source": [
    "person1 = Person()\n",
    "person2 = Person()\n",
    "person1.hello()"
   ]
  },
  {
   "cell_type": "code",
   "execution_count": 35,
   "id": "3dae5d56",
   "metadata": {},
   "outputs": [],
   "source": [
    "class Student:\n",
    "    def __init__(self,g,c,n):\n",
    "        self.grade = g\n",
    "        self.Class = c\n",
    "        self.name = n\n",
    "    def st_print(self):\n",
    "        print(self.grade,'학년',self.Class,'반',self.name,'입니다')"
   ]
  },
  {
   "cell_type": "code",
   "execution_count": 41,
   "id": "3e72b174",
   "metadata": {},
   "outputs": [
    {
     "name": "stdout",
     "output_type": "stream",
     "text": [
      "1 학년 2 반 김동현 입니다\n"
     ]
    }
   ],
   "source": [
    "student = Student(1,2,'김동현')\n",
    "student.st_print()"
   ]
  },
  {
   "cell_type": "code",
   "execution_count": 42,
   "id": "d2bd7276",
   "metadata": {},
   "outputs": [],
   "source": [
    "class Student:\n",
    "    def __init__(self,g,c,n):\n",
    "        self.grade = g\n",
    "        self.Class = c\n",
    "        self.name = n\n",
    "    def st_print(self,age):\n",
    "        print(self.grade,'학년',self.Class,'반',age,'살',self.name,'입니다')\n",
    "    def weather(self,weather):\n",
    "        print(\"오늘의 날씨는 {}\".format(weather))"
   ]
  },
  {
   "cell_type": "code",
   "execution_count": 43,
   "id": "83a7e456",
   "metadata": {},
   "outputs": [
    {
     "name": "stdout",
     "output_type": "stream",
     "text": [
      "1 학년 3 반 20 살 홍길동 입니다\n",
      "오늘의 날씨는 맑음\n"
     ]
    }
   ],
   "source": [
    "s1 = Student(1,3,'홍길동')\n",
    "s1.st_print(20)\n",
    "s1.weather(\"맑음\")"
   ]
  },
  {
   "cell_type": "code",
   "execution_count": 49,
   "id": "bdc5b5bc",
   "metadata": {},
   "outputs": [
    {
     "name": "stdout",
     "output_type": "stream",
     "text": [
      "21\n"
     ]
    }
   ],
   "source": [
    "class Person:\n",
    "    def __init__(self, name, age):\n",
    "        self.name = name\n",
    "        if 0 <= age <= 20:\n",
    "            self.__age = age\n",
    "        else: age = 0\n",
    "    def inc_age(self):\n",
    "        self.__age += 1\n",
    "    def info(self):\n",
    "        print(self.__age)\n",
    "person = Person('홍길동', 20)\n",
    "person.inc_age()\n",
    "person.info()"
   ]
  },
  {
   "cell_type": "code",
   "execution_count": 61,
   "id": "315dea7b",
   "metadata": {},
   "outputs": [],
   "source": [
    "class Square():\n",
    "    def __init__(self, a, b):\n",
    "        self.width = a\n",
    "        self.height = b\n",
    "    def _print(self):\n",
    "        print(self.width * self.height)\n",
    " \n",
    "    def double(self):\n",
    "        self.width = 2*self.width\n",
    "        self.height = 2*self.height"
   ]
  },
  {
   "cell_type": "code",
   "execution_count": 62,
   "id": "930125aa",
   "metadata": {},
   "outputs": [
    {
     "name": "stdout",
     "output_type": "stream",
     "text": [
      "6\n",
      "24\n"
     ]
    }
   ],
   "source": [
    "square = Square(2,3)\n",
    "square._print()\n",
    "square.double()\n",
    "square._print()"
   ]
  },
  {
   "cell_type": "code",
   "execution_count": null,
   "id": "406f64f4",
   "metadata": {},
   "outputs": [],
   "source": []
  }
 ],
 "metadata": {
  "kernelspec": {
   "display_name": "Python 3 (ipykernel)",
   "language": "python",
   "name": "python3"
  },
  "language_info": {
   "codemirror_mode": {
    "name": "ipython",
    "version": 3
   },
   "file_extension": ".py",
   "mimetype": "text/x-python",
   "name": "python",
   "nbconvert_exporter": "python",
   "pygments_lexer": "ipython3",
   "version": "3.10.9"
  }
 },
 "nbformat": 4,
 "nbformat_minor": 5
}
