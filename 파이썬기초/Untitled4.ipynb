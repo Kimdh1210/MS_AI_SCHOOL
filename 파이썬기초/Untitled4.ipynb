{
 "cells": [
  {
   "cell_type": "code",
   "execution_count": 1,
   "id": "4ecb108a",
   "metadata": {},
   "outputs": [
    {
     "name": "stdout",
     "output_type": "stream",
     "text": [
      "젯수를 입력하시오.5\n",
      "피젯수를 입력하시오.0\n"
     ]
    },
    {
     "ename": "ZeroDivisionError",
     "evalue": "division by zero",
     "output_type": "error",
     "traceback": [
      "\u001b[1;31m---------------------------------------------------------------------------\u001b[0m",
      "\u001b[1;31mZeroDivisionError\u001b[0m                         Traceback (most recent call last)",
      "Cell \u001b[1;32mIn[1], line 5\u001b[0m\n\u001b[0;32m      3\u001b[0m str2 \u001b[38;5;241m=\u001b[39m \u001b[38;5;28minput\u001b[39m(\u001b[38;5;124m'\u001b[39m\u001b[38;5;124m피젯수를 입력하시오.\u001b[39m\u001b[38;5;124m'\u001b[39m)\n\u001b[0;32m      4\u001b[0m num2 \u001b[38;5;241m=\u001b[39m \u001b[38;5;28mint\u001b[39m(str2)\n\u001b[1;32m----> 5\u001b[0m result \u001b[38;5;241m=\u001b[39m \u001b[43mnum1\u001b[49m\u001b[43m \u001b[49m\u001b[38;5;241;43m/\u001b[39;49m\u001b[43m \u001b[49m\u001b[43mnum2\u001b[49m\n\u001b[0;32m      6\u001b[0m \u001b[38;5;28mprint\u001b[39m(\u001b[38;5;124m'\u001b[39m\u001b[38;5;132;01m{}\u001b[39;00m\u001b[38;5;124m/\u001b[39m\u001b[38;5;132;01m{}\u001b[39;00m\u001b[38;5;124m = \u001b[39m\u001b[38;5;132;01m{}\u001b[39;00m\u001b[38;5;124m'\u001b[39m\u001b[38;5;241m.\u001b[39mformat(num1, num2, num1\u001b[38;5;241m/\u001b[39mnum2)) \n\u001b[0;32m      7\u001b[0m \u001b[38;5;66;03m#ZeroDivisionError: division by zero\u001b[39;00m\n",
      "\u001b[1;31mZeroDivisionError\u001b[0m: division by zero"
     ]
    }
   ],
   "source": [
    "str1 = input('젯수를 입력하시오.')\n",
    "num1 = int(str1)\n",
    "str2 = input('피젯수를 입력하시오.')\n",
    "num2 = int(str2)\n",
    "result = num1 / num2\n",
    "print('{}/{} = {}'.format(num1, num2, num1/num2)) \n",
    "#ZeroDivisionError: division by zero"
   ]
  },
  {
   "cell_type": "code",
   "execution_count": 2,
   "id": "71dd1d6d",
   "metadata": {},
   "outputs": [
    {
     "name": "stdout",
     "output_type": "stream",
     "text": [
      "젯수를 입력하시오.5\n",
      "피젯수를 입력하시오.0\n",
      "입력값을 확인하시오.\n"
     ]
    }
   ],
   "source": [
    "str1 = input('젯수를 입력하시오.')\n",
    "num1 = int(str1)\n",
    "str2 = input('피젯수를 입력하시오.')\n",
    "num2 = int(str2)\n",
    "try:\n",
    "    result = num1 / num2\n",
    "    print('{}/{} = {}'.format(num1, num2, num1/num2))\n",
    "except:\n",
    "    print('입력값을 확인하시오.')"
   ]
  },
  {
   "cell_type": "code",
   "execution_count": 4,
   "id": "8f9ce217",
   "metadata": {},
   "outputs": [
    {
     "name": "stdout",
     "output_type": "stream",
     "text": [
      "젯수를 입력하시오.5\n",
      "피젯수를 입력하시오.0\n",
      "excpetion: division by zero\n"
     ]
    }
   ],
   "source": [
    "str1 = input('젯수를 입력하시오.')\n",
    "str2 = input('피젯수를 입력하시오.')\n",
    "try:\n",
    "    num1 = int(str1)\n",
    "    num2 = int(str2)\n",
    "    result = num1 / num2\n",
    "    print('{}/{} = {}'.format(num1, num2, num1/num2))\n",
    "except Exception as e:\n",
    "    print(\"excpetion:\", e)"
   ]
  },
  {
   "cell_type": "code",
   "execution_count": 7,
   "id": "1d9ef666",
   "metadata": {},
   "outputs": [
    {
     "name": "stdout",
     "output_type": "stream",
     "text": [
      "파일을 여는 중에 오류가 발생했습니다. [Errno 2] No such file or directory: 'test1.txt'\n"
     ]
    }
   ],
   "source": [
    " try:\n",
    "    with open('test1.txt', 'r', encoding='utf8') as f:\n",
    "        lines = f.readline()\n",
    "        for line in lines:\n",
    "            print(line)\n",
    "except Exception as e:\n",
    "    print('파일을 여는 중에 오류가 발생했습니다.',e)\n",
    "    "
   ]
  },
  {
   "cell_type": "code",
   "execution_count": 8,
   "id": "089eba5a",
   "metadata": {},
   "outputs": [
    {
     "name": "stdout",
     "output_type": "stream",
     "text": [
      "3\n",
      "3\n"
     ]
    }
   ],
   "source": [
    "def add(x,y):\n",
    "    return x+y\n",
    "f = lambda x,y: x+y\n",
    "print(add(1,2))\n",
    "print(f(1,2))"
   ]
  },
  {
   "cell_type": "code",
   "execution_count": 9,
   "id": "68f1582c",
   "metadata": {},
   "outputs": [],
   "source": [
    "def func(x):\n",
    "    if x%3==0:\n",
    "        return x\n",
    "    else:\n",
    "        return 0\n",
    "f1 = lambda x: x if x%3==0 else 0"
   ]
  },
  {
   "cell_type": "code",
   "execution_count": 11,
   "id": "72a6dc6d",
   "metadata": {},
   "outputs": [
    {
     "name": "stdout",
     "output_type": "stream",
     "text": [
      "3\n",
      "0\n"
     ]
    }
   ],
   "source": [
    "print(func(3))\n",
    "print(f1(2))"
   ]
  },
  {
   "cell_type": "code",
   "execution_count": 19,
   "id": "a4ba5ea9",
   "metadata": {},
   "outputs": [
    {
     "name": "stdout",
     "output_type": "stream",
     "text": [
      "[1, 4, 9, 16, 25]\n",
      "[1, 4, 9, 16, 25]\n"
     ]
    },
    {
     "data": {
      "text/plain": [
       "[3, 5, 7, 9, 11]"
      ]
     },
     "execution_count": 19,
     "metadata": {},
     "output_type": "execute_result"
    }
   ],
   "source": [
    "list1 = [1,2,3,4,5]\n",
    "list2 = [2,3,4,5,6]\n",
    "def pow(x):\n",
    "    return x**2\n",
    "print(list(map(pow, list1)))\n",
    "print(list(map(lambda x: x**2, list1)))\n",
    "list(map(lambda x,y : x+y, list1,list2))"
   ]
  },
  {
   "cell_type": "code",
   "execution_count": 23,
   "id": "3abf458a",
   "metadata": {},
   "outputs": [
    {
     "name": "stdout",
     "output_type": "stream",
     "text": [
      "[5, 10, 15, 20, 25, 30, 35, 40, 45, 50]\n"
     ]
    }
   ],
   "source": [
    "list1 = list(range(1,11))\n",
    "map1 = (map(lambda x: 5*x, list1))\n",
    "list2 = list(map1)\n",
    "print(list2)"
   ]
  },
  {
   "cell_type": "code",
   "execution_count": 25,
   "id": "87cf9862",
   "metadata": {},
   "outputs": [
    {
     "name": "stdout",
     "output_type": "stream",
     "text": [
      "19\n",
      "39\n",
      "43\n",
      "21\n",
      "25\n",
      "\n",
      "19\n",
      "39\n",
      "43\n",
      "21\n",
      "25\n"
     ]
    }
   ],
   "source": [
    "ages = [18, 19, 39, 12, 43, 13, 21, 25]\n",
    "def adult_func(age):\n",
    "    if age >= 19:\n",
    "        return True\n",
    "    else:\n",
    "        return False\n",
    "for age in filter(adult_func, ages):\n",
    "    print(age)\n",
    "print()\n",
    "for age in filter(lambda age: age >= 19, ages):\n",
    "    print(age)"
   ]
  },
  {
   "cell_type": "code",
   "execution_count": 37,
   "id": "63525a05",
   "metadata": {},
   "outputs": [
    {
     "name": "stdout",
     "output_type": "stream",
     "text": [
      "[4, 16, 36, 64, 100]\n"
     ]
    }
   ],
   "source": [
    "list1 = list(range(1,11))\n",
    "f1 = filter(lambda x: x%2==0, list1)\n",
    "m1 = map(lambda x: x**2, f1)\n",
    "list2 = list(m1)\n",
    "print(list2)"
   ]
  },
  {
   "cell_type": "code",
   "execution_count": 38,
   "id": "1c8f5675",
   "metadata": {},
   "outputs": [
    {
     "name": "stdout",
     "output_type": "stream",
     "text": [
      "[4, 16, 36, 64, 100]\n"
     ]
    }
   ],
   "source": [
    "list3 = list(map(lambda x: x**2, filter(lambda x: x%2==0,list1)))\n",
    "print(list3)"
   ]
  },
  {
   "cell_type": "code",
   "execution_count": 42,
   "id": "231fcb10",
   "metadata": {},
   "outputs": [
    {
     "name": "stdout",
     "output_type": "stream",
     "text": [
      "10\n",
      "24\n"
     ]
    }
   ],
   "source": [
    "from functools import reduce\n",
    "nums = [1,2,3,4]\n",
    "sum = reduce(lambda x,y: x+y, nums)\n",
    "print(sum)\n",
    "mul = reduce(lambda x,y: x*y, nums)\n",
    "print(mul)"
   ]
  },
  {
   "cell_type": "code",
   "execution_count": 52,
   "id": "e85e6290",
   "metadata": {},
   "outputs": [
    {
     "name": "stdout",
     "output_type": "stream",
     "text": [
      "3840\n"
     ]
    }
   ],
   "source": [
    "from functools import reduce\n",
    "list1 = range(1,11)\n",
    "f1 = filter(lambda x:x%2==0,list1)\n",
    "mul = reduce(lambda x,y: x*y,f1)\n",
    "print(mul)"
   ]
  },
  {
   "cell_type": "code",
   "execution_count": 55,
   "id": "e56408e0",
   "metadata": {},
   "outputs": [
    {
     "name": "stdout",
     "output_type": "stream",
     "text": [
      "[1, 4, 9, 16, 25, 36, 49, 64, 81, 100]\n",
      "[1, 4, 9, 16, 25, 36, 49, 64, 81, 100]\n",
      "[1, 4, 9, 16, 25, 36, 49, 64, 81, 100]\n"
     ]
    }
   ],
   "source": [
    "list1 = list(range(1,11))\n",
    "list2 = list(map(lambda x: x**2, list1))\n",
    "print(list2)\n",
    "list3 = [x**2 for x in list1]\n",
    "print(list3)\n",
    "list4 = [x**2 for x in range(1,11)]\n",
    "print(list4)"
   ]
  },
  {
   "cell_type": "code",
   "execution_count": 71,
   "id": "f0c16431",
   "metadata": {},
   "outputs": [
    {
     "name": "stdout",
     "output_type": "stream",
     "text": [
      "[1, 2, 3, 4, 5, 6, 7, 8, 9, 10]\n",
      "[1, 4, 9, 16, 25, 36, 49, 64, 81, 100]\n",
      "[2, 4, 6, 8, 10, 12, 14, 16, 18, 20]\n",
      "[3, 6, 9, 12, 15, 18]\n",
      "[25, 100, 225, 400]\n"
     ]
    }
   ],
   "source": [
    "list1 = list(range(1,11))\n",
    "print(list1)\n",
    "list2 = [x**2 for x in list1]\n",
    "print(list2)\n",
    "list3 = [x for x in range(1,21) if x % 2 ==0]\n",
    "print(list3)\n",
    "list4 = [x for x in range(1,21) if x % 3 ==0]\n",
    "print(list4)\n",
    "list5 = [x**2 for x in range(1,21) if x % 5 ==0]\n",
    "print(list5)"
   ]
  },
  {
   "cell_type": "code",
   "execution_count": null,
   "id": "9de47c74",
   "metadata": {},
   "outputs": [],
   "source": []
  }
 ],
 "metadata": {
  "kernelspec": {
   "display_name": "Python 3 (ipykernel)",
   "language": "python",
   "name": "python3"
  },
  "language_info": {
   "codemirror_mode": {
    "name": "ipython",
    "version": 3
   },
   "file_extension": ".py",
   "mimetype": "text/x-python",
   "name": "python",
   "nbconvert_exporter": "python",
   "pygments_lexer": "ipython3",
   "version": "3.10.9"
  }
 },
 "nbformat": 4,
 "nbformat_minor": 5
}
