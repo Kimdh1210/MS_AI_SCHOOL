{
 "cells": [
  {
   "cell_type": "markdown",
   "id": "eb2b4871",
   "metadata": {},
   "source": [
    "## 산술연산자"
   ]
  },
  {
   "cell_type": "code",
   "execution_count": 2,
   "id": "90f76bc0",
   "metadata": {},
   "outputs": [
    {
     "name": "stdout",
     "output_type": "stream",
     "text": [
      "5\n",
      "3\n",
      "20\n",
      "0.5\n",
      "1\n",
      "25\n",
      "125\n",
      "2\n"
     ]
    }
   ],
   "source": [
    "print(2+3)\n",
    "print(5-2)\n",
    "print(4*5)\n",
    "print(1/2)\n",
    "print(5//3)\n",
    "print(5**2)\n",
    "print(5**3)\n",
    "print(20%3)"
   ]
  },
  {
   "cell_type": "code",
   "execution_count": 4,
   "id": "6ef09b57",
   "metadata": {},
   "outputs": [
    {
     "name": "stdout",
     "output_type": "stream",
     "text": [
      "helloworld!\n",
      "hellohello\n"
     ]
    }
   ],
   "source": [
    "print('hello'+'world!')\n",
    "print('hello'*2)"
   ]
  },
  {
   "cell_type": "code",
   "execution_count": 5,
   "id": "a503d4c1",
   "metadata": {},
   "outputs": [
    {
     "name": "stdout",
     "output_type": "stream",
     "text": [
      "8\n",
      "11\n"
     ]
    }
   ],
   "source": [
    "num=3\n",
    "print(num+5)\n",
    "num1=5\n",
    "num2=6\n",
    "print(num1+num2)"
   ]
  },
  {
   "cell_type": "markdown",
   "id": "28974359",
   "metadata": {},
   "source": [
    "## 대입연산자"
   ]
  },
  {
   "cell_type": "code",
   "execution_count": 7,
   "id": "eb9523bf",
   "metadata": {},
   "outputs": [
    {
     "name": "stdout",
     "output_type": "stream",
     "text": [
      "4\n",
      "8\n",
      "5\n",
      "15\n",
      "5.0\n",
      "25.0\n"
     ]
    }
   ],
   "source": [
    "num=4\n",
    "print(num)\n",
    "num+=4\n",
    "print(num)\n",
    "num-=3\n",
    "print(num)\n",
    "num*=3\n",
    "print(num)\n",
    "num/=3\n",
    "print(num)\n",
    "num**=2\n",
    "print(num)"
   ]
  },
  {
   "cell_type": "code",
   "execution_count": 8,
   "id": "ee76518a",
   "metadata": {},
   "outputs": [
    {
     "name": "stdout",
     "output_type": "stream",
     "text": [
      "helloworld\n",
      "helloworldhelloworldhelloworld\n"
     ]
    }
   ],
   "source": [
    "hello='hello'\n",
    "hello+='world'\n",
    "print(hello)\n",
    "hello*=3\n",
    "print(hello)"
   ]
  },
  {
   "cell_type": "markdown",
   "id": "75579a54",
   "metadata": {},
   "source": [
    "## 비교연산자"
   ]
  },
  {
   "cell_type": "code",
   "execution_count": 10,
   "id": "747b48d7",
   "metadata": {},
   "outputs": [
    {
     "name": "stdout",
     "output_type": "stream",
     "text": [
      "True\n",
      "False\n",
      "True\n",
      "False\n",
      "True\n",
      "True\n",
      "False\n",
      "True\n",
      "False\n"
     ]
    }
   ],
   "source": [
    "print(5<6)\n",
    "print(5>6)\n",
    "print(11<=11)\n",
    "print(1.51>=12)\n",
    "print(13==13)\n",
    "print(11!=5)\n",
    "print('hello'>'world')\n",
    "print('홍길동'!='허균')\n",
    "result=13==4\n",
    "print(result)"
   ]
  },
  {
   "cell_type": "markdown",
   "id": "7c0e7c60",
   "metadata": {},
   "source": [
    "## 비교,논리연산자"
   ]
  },
  {
   "cell_type": "code",
   "execution_count": 11,
   "id": "816bb7a8",
   "metadata": {},
   "outputs": [
    {
     "name": "stdout",
     "output_type": "stream",
     "text": [
      "True\n",
      "False\n",
      "True\n",
      "False\n",
      "True\n",
      "True\n",
      "True\n",
      "False\n"
     ]
    }
   ],
   "source": [
    "print(True and True)\n",
    "print(True and False)\n",
    "print(True or False)\n",
    "print(False or False)\n",
    "print(not False)\n",
    "print(5<6 and True)\n",
    "num1=3\n",
    "num2=5\n",
    "print(not(num1>num2))\n",
    "print(num1==num2)"
   ]
  },
  {
   "cell_type": "markdown",
   "id": "4c52d85e",
   "metadata": {},
   "source": [
    "## print 함수"
   ]
  },
  {
   "cell_type": "code",
   "execution_count": 12,
   "id": "d93cf050",
   "metadata": {},
   "outputs": [
    {
     "name": "stdout",
     "output_type": "stream",
     "text": [
      "홍길동 20\n",
      "이름은 홍길동 나이는 20\n",
      "이름은홍길동나이는20\n"
     ]
    }
   ],
   "source": [
    "age = 20\n",
    "name = '홍길동'\n",
    "print(name,age)\n",
    "print('이름은',name,'나이는',age)\n",
    "print('이름은'+name+'나이는'+str(age))"
   ]
  },
  {
   "cell_type": "code",
   "execution_count": 15,
   "id": "34dea485",
   "metadata": {},
   "outputs": [
    {
     "name": "stdout",
     "output_type": "stream",
     "text": [
      "10\n",
      "10과 20\n",
      "10x20=200\n"
     ]
    }
   ],
   "source": [
    "str1=\"{}\".format(10)\n",
    "print(str1)\n",
    "str2=\"{}과 {}\".format(10,20)\n",
    "print(str2)\n",
    "num1=10\n",
    "num2=20\n",
    "str3=\"{}x{}={}\".format(num1,num2,num1*num2)\n",
    "print(str3)"
   ]
  },
  {
   "cell_type": "markdown",
   "id": "a033f3d1",
   "metadata": {},
   "source": [
    "## str.format()"
   ]
  },
  {
   "cell_type": "code",
   "execution_count": 18,
   "id": "756b308d",
   "metadata": {},
   "outputs": [
    {
     "name": "stdout",
     "output_type": "stream",
     "text": [
      "이름은 홍길동 나이는 20\n",
      "이름은 홍길동 나이는 20\n",
      "이름은 홍길동 나이는 20\n",
      "이름은 홍길동 나이는 20\n"
     ]
    }
   ],
   "source": [
    "age=20\n",
    "name='홍길동'\n",
    "str4='이름은 {} 나이는 {}'.format(name,age)\n",
    "print(str4)\n",
    "str5='이름은 {0} 나이는 {1}'.format(name,age)\n",
    "print(str5)\n",
    "str6='이름은 {1} 나이는 {0}'.format(age,name)\n",
    "print(str6)\n",
    "print('이름은 {1} 나이는 {0}'.format(age,name))"
   ]
  },
  {
   "cell_type": "code",
   "execution_count": 19,
   "id": "be4a7d63",
   "metadata": {},
   "outputs": [
    {
     "name": "stdout",
     "output_type": "stream",
     "text": [
      "이름은 홍길동 나이는 20\n",
      "이름은 홍길동 나이는    20\n",
      "이름은 홍길동 나이는 00020\n",
      "pi = 3.141592\n",
      "pi = 3.1415925.2\n",
      "pi = 3.141592.2\n"
     ]
    }
   ],
   "source": [
    "print('이름은 %s 나이는 %d'%(name, age))\n",
    "print('이름은 %s 나이는 %5d'%(name, age))\n",
    "print('이름은 %s 나이는 %05d'%(name, age))\n",
    "print('pi = %f'%3.141592)\n",
    "print('pi = %f5.2'%3.141592)\n",
    "print('pi = %f.2'%3.141592)"
   ]
  },
  {
   "cell_type": "code",
   "execution_count": 20,
   "id": "84644f43",
   "metadata": {},
   "outputs": [
    {
     "name": "stdout",
     "output_type": "stream",
     "text": [
      "[1, 2, 3, 4, 5, 5, 6, 7, 8, 9, 10]\n",
      "[5, 6, 7, 8, 9, 10, 1, 2, 3, 4, 5]\n",
      "[1, 2, 3, 4, 5, 1, 2, 3, 4, 5, 1, 2, 3, 4, 5]\n",
      "[5, 6, 7, 8, 9, 10, 5, 6, 7, 8, 9, 10, 5, 6, 7, 8, 9, 10]\n"
     ]
    }
   ],
   "source": [
    "list1 = [1,2,3,4,5]\n",
    "list2 = [5,6,7,8,9,10]\n",
    "print(list1 + list2)\n",
    "print(list2 + list1)\n",
    "print(list1 * 3)\n",
    "print(list2 * 3)"
   ]
  },
  {
   "cell_type": "code",
   "execution_count": 21,
   "id": "2a315e0f",
   "metadata": {},
   "outputs": [
    {
     "name": "stdout",
     "output_type": "stream",
     "text": [
      "scores의 길이는 7입니다.\n",
      "bts의 멤버는 7명입니다.\n"
     ]
    }
   ],
   "source": [
    "scores = [30, 50, 90, 89, 56, 87, 45]\n",
    "length = len(scores)\n",
    "print('scores의 길이는 {}입니다.'.format(length))\n",
    "bts = [\"진\", \"슈가\", \"제이홉\", \"RM\", \"지민\", \"뷔\", \"정국\"]\n",
    "print('bts의 멤버는 {}명입니다.'.format(len(bts)))"
   ]
  },
  {
   "cell_type": "code",
   "execution_count": 22,
   "id": "39518800",
   "metadata": {},
   "outputs": [
    {
     "name": "stdout",
     "output_type": "stream",
     "text": [
      "[0, 10, 20, 30]\n",
      "[0, 10, 20, 30]\n",
      "[70, 80, 90, 10]\n",
      "[70, 80, 90, 10]\n",
      "[0, 10, 20, 30, 40, 50, 60, 70, 80, 90, 10]\n"
     ]
    }
   ],
   "source": [
    "numbers = [0, 10, 20, 30, 40, 50, 60, 70, 80, 90, 10]\n",
    "numbers1 = numbers[0:4]\n",
    "print(numbers1)\n",
    "print(numbers[:4])\n",
    "print(numbers[7:11])\n",
    "print(numbers[7:])\n",
    "print(numbers[:])\n"
   ]
  },
  {
   "cell_type": "code",
   "execution_count": 23,
   "id": "410cfdff",
   "metadata": {},
   "outputs": [
    {
     "name": "stdout",
     "output_type": "stream",
     "text": [
      "[0, 1, 2, 3, 4, 5, 6, 7, 8, 9]\n",
      "[1, 2, 3, 4, 5, 6, 7, 8, 9]\n",
      "[1, 3, 5, 7, 9]\n",
      "[10, 9, 8, 7, 6, 5, 4, 3, 2, 1]\n"
     ]
    }
   ],
   "source": [
    "list1 = list(range(10))\n",
    "print(list1)\n",
    "list2 = list(range(1, 10))\n",
    "print(list2)\n",
    "list3 = list(range(1, 10, 2))\n",
    "print(list3)\n",
    "list4 = list(range(10, 0, -1))\n",
    "print(list4)\n"
   ]
  },
  {
   "cell_type": "code",
   "execution_count": 25,
   "id": "8028faa2",
   "metadata": {},
   "outputs": [
    {
     "name": "stdout",
     "output_type": "stream",
     "text": [
      "('전정국', '인공지능학과', 3, 175.3, 3.5, True)\n",
      "전정국\n",
      "('Tesla', 'model3', 'red', 500)\n"
     ]
    }
   ],
   "source": [
    "student = ('전정국', '인공지능학과', 3, 175.3, 3.5, True)\n",
    "print(student)\n",
    "print(student[0])\n",
    "#student[0] = '정국' #에러 immutable\n",
    "car = ('Tesla', 'model3', 'red', 500)\n",
    "print(car)\n"
   ]
  },
  {
   "cell_type": "code",
   "execution_count": 27,
   "id": "d7ae5aa5",
   "metadata": {},
   "outputs": [
    {
     "name": "stdout",
     "output_type": "stream",
     "text": [
      "(0, 1, 2, 3, 4, 5, 6, 7, 8, 9)\n",
      "(-5, -3, -1, 1, 3, 5, 7, 9, 11, 13)\n"
     ]
    }
   ],
   "source": [
    "range1 = range(10)\n",
    "tuple1 = tuple(range1)\n",
    "print(tuple1)\n",
    "range2 = range(-5, 15, 2)\n",
    "print(tuple(range2))\n"
   ]
  },
  {
   "cell_type": "code",
   "execution_count": 30,
   "id": "ee2cb728",
   "metadata": {},
   "outputs": [
    {
     "name": "stdout",
     "output_type": "stream",
     "text": [
      "프롬프트 문자열d\n",
      "나이를 입력하시오1\n",
      "1\n",
      "변화량을 입력하시오2\n",
      "5\n"
     ]
    }
   ],
   "source": [
    "#사용자의 입력을 받을때 사용\n",
    "#입력값은 문자열로 반환\n",
    "input(\"프롬프트 문자열\") \n",
    "age = input('나이를 입력하시오')\n",
    "print(age)\n",
    "num = 3\n",
    "diff = input('변화량을 입력하시오')\n",
    "#print(num + diff) # 에러\n",
    "#TypeError: unsupported operand type(s) for +: 'int' and 'str'\n",
    "print(num + int(diff))"
   ]
  },
  {
   "cell_type": "code",
   "execution_count": null,
   "id": "2d8f5527",
   "metadata": {},
   "outputs": [],
   "source": []
  }
 ],
 "metadata": {
  "kernelspec": {
   "display_name": "Python 3 (ipykernel)",
   "language": "python",
   "name": "python3"
  },
  "language_info": {
   "codemirror_mode": {
    "name": "ipython",
    "version": 3
   },
   "file_extension": ".py",
   "mimetype": "text/x-python",
   "name": "python",
   "nbconvert_exporter": "python",
   "pygments_lexer": "ipython3",
   "version": "3.10.9"
  }
 },
 "nbformat": 4,
 "nbformat_minor": 5
}
