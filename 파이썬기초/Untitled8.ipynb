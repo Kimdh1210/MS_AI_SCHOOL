{
 "cells": [
  {
   "cell_type": "code",
   "execution_count": 1,
   "id": "ec2a0389",
   "metadata": {},
   "outputs": [],
   "source": [
    "from tkinter import *"
   ]
  },
  {
   "cell_type": "code",
   "execution_count": 10,
   "id": "93b14c40",
   "metadata": {},
   "outputs": [],
   "source": [
    "def change_lang():\n",
    "    if label.cget('text') == 'hello python':\n",
    "        label.config(text = '안녕 파이썬')\n",
    "    else:\n",
    "        label.config(text = 'hello python')\n",
    "\n",
    "window = Tk()\n",
    "window.geometry('200x200')\n",
    "label = Label(window, text = 'hello python')\n",
    "label.pack()\n",
    "\n",
    "button = Button(window, text = '한영전환', command = change_lang)\n",
    "button.pack()\n",
    "\n",
    "window.mainloop()"
   ]
  },
  {
   "cell_type": "code",
   "execution_count": null,
   "id": "69b4d9d0",
   "metadata": {},
   "outputs": [],
   "source": []
  }
 ],
 "metadata": {
  "kernelspec": {
   "display_name": "Python 3 (ipykernel)",
   "language": "python",
   "name": "python3"
  },
  "language_info": {
   "codemirror_mode": {
    "name": "ipython",
    "version": 3
   },
   "file_extension": ".py",
   "mimetype": "text/x-python",
   "name": "python",
   "nbconvert_exporter": "python",
   "pygments_lexer": "ipython3",
   "version": "3.10.9"
  }
 },
 "nbformat": 4,
 "nbformat_minor": 5
}
