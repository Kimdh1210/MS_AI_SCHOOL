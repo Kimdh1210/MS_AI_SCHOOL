{
 "cells": [
  {
   "cell_type": "code",
   "execution_count": 2,
   "id": "790c8c8d",
   "metadata": {},
   "outputs": [],
   "source": [
    "class Vehicle:\n",
    "    def __init__(self, wheels, seats, engine):\n",
    "        self.wheels = wheels\n",
    "        self.seats = seats\n",
    "        self.engine = engine\n",
    "    def drive(self):\n",
    "        print('Run')"
   ]
  },
  {
   "cell_type": "code",
   "execution_count": 3,
   "id": "dda1e517",
   "metadata": {},
   "outputs": [
    {
     "name": "stdout",
     "output_type": "stream",
     "text": [
      "bike.wheels =  2\n",
      "bike.seats =  1\n",
      "bike.wheels =  3\n",
      "Run\n",
      "car.wheels =  4\n",
      "car.seats =  1\n",
      "Run\n",
      "bike.wheels =  4\n"
     ]
    }
   ],
   "source": [
    "bike = Vehicle(2, 1, 2)\n",
    "print('bike.wheels = ', bike.wheels)\n",
    "print('bike.seats = ', bike.seats)\n",
    "bike.wheels = 3\n",
    "print('bike.wheels = ', bike.wheels)\n",
    "bike.drive()\n",
    "car = Vehicle(4, 4, 4)\n",
    "print('car.wheels = ', car.wheels)\n",
    "print('car.seats = ', bike.seats)\n",
    "car.drive()\n",
    "copy_bike = bike\n",
    "copy_bike.wheels = 4\n",
    "print('bike.wheels = ', bike.wheels)"
   ]
  },
  {
   "cell_type": "code",
   "execution_count": 5,
   "id": "2042eef1",
   "metadata": {},
   "outputs": [
    {
     "name": "stdout",
     "output_type": "stream",
     "text": [
      "car1.wheels =  6\n",
      "car1.seats =  5\n",
      "Run\n"
     ]
    }
   ],
   "source": [
    "class Car(Vehicle):\n",
    "    def __init__(self):\n",
    "        super().__init__(4, 5, 4)\n",
    "    def shift_gear(self):\n",
    "        print('변속')\n",
    "car1 = Car()\n",
    "car1.wheels = 6\n",
    "print('car1.wheels = ', car1.wheels)\n",
    "print('car1.seats = ', car1.seats)\n",
    "car1.drive()\n"
   ]
  },
  {
   "cell_type": "code",
   "execution_count": 6,
   "id": "f3db7b31",
   "metadata": {},
   "outputs": [],
   "source": [
    "class Sedan(Car):\n",
    "    def load_passenger(self):\n",
    "        print('Load Passenger')\n",
    "class Truck(Car):\n",
    "    def load_cargo(self):\n",
    "        print('Load Cargo')"
   ]
  },
  {
   "cell_type": "code",
   "execution_count": 7,
   "id": "fae478e6",
   "metadata": {},
   "outputs": [
    {
     "name": "stdout",
     "output_type": "stream",
     "text": [
      "Load Passenger\n",
      "변속\n",
      "Run\n",
      "Load Cargo\n",
      "변속\n"
     ]
    }
   ],
   "source": [
    "sedan = Sedan()\n",
    "sedan.load_passenger()\n",
    "sedan.shift_gear()\n",
    "sedan.drive()\n",
    "truck = Truck()\n",
    "truck.load_cargo()\n",
    "truck.shift_gear()\n"
   ]
  },
  {
   "cell_type": "code",
   "execution_count": 9,
   "id": "cf10fe4b",
   "metadata": {},
   "outputs": [],
   "source": [
    "class Vehicle():\n",
    "    def drive(self):\n",
    "        print('Run')\n",
    "class Sedan(Vehicle):\n",
    "    def drive(self):\n",
    "        print('Run Sedan')\n",
    "class Truck(Vehicle):\n",
    "    def drive(self):\n",
    "        print('Run Truck')\n",
    "class Boat():\n",
    "    def drive(self):\n",
    "        print('Fly')"
   ]
  },
  {
   "cell_type": "code",
   "execution_count": 10,
   "id": "b365ac16",
   "metadata": {},
   "outputs": [
    {
     "name": "stdout",
     "output_type": "stream",
     "text": [
      "Run Sedan\n",
      "Run Truck\n"
     ]
    }
   ],
   "source": [
    "def drive(vehicle):\n",
    "    if isinstance(vehicle, Vehicle):\n",
    "        vehicle.drive()\n",
    "sedan = Sedan()\n",
    "drive(sedan)\n",
    "truck = Truck()\n",
    "drive(truck)\n",
    "boat = Boat()\n",
    "drive(boat)"
   ]
  },
  {
   "cell_type": "code",
   "execution_count": null,
   "id": "a807f2cb",
   "metadata": {},
   "outputs": [],
   "source": []
  }
 ],
 "metadata": {
  "kernelspec": {
   "display_name": "Python 3 (ipykernel)",
   "language": "python",
   "name": "python3"
  },
  "language_info": {
   "codemirror_mode": {
    "name": "ipython",
    "version": 3
   },
   "file_extension": ".py",
   "mimetype": "text/x-python",
   "name": "python",
   "nbconvert_exporter": "python",
   "pygments_lexer": "ipython3",
   "version": "3.10.9"
  }
 },
 "nbformat": 4,
 "nbformat_minor": 5
}
