{
 "cells": [
  {
   "cell_type": "markdown",
   "id": "9f935a41",
   "metadata": {},
   "source": [
    "# 상속"
   ]
  },
  {
   "cell_type": "code",
   "execution_count": 1,
   "id": "03b3e3dd",
   "metadata": {},
   "outputs": [],
   "source": [
    "class Vehicle:\n",
    "    def __init__(self, speed):\n",
    "        self.speed = speed\n",
    "    def speed_up(self):\n",
    "        self.speed += 10\n",
    "    def speed_dn(self):\n",
    "        self.speed -= 10"
   ]
  },
  {
   "cell_type": "code",
   "execution_count": 2,
   "id": "84c1c4bf",
   "metadata": {},
   "outputs": [
    {
     "name": "stdout",
     "output_type": "stream",
     "text": [
      "110 4 4\n"
     ]
    }
   ],
   "source": [
    "class Car(Vehicle):\n",
    "    def __init__(self, speed, wheels, seats):\n",
    "        Vehicle.__init__(self, speed)\n",
    "        self.wheels = wheels\n",
    "        self.seats = seats\n",
    "    def info(self):\n",
    "        print(self.speed, self.wheels, self.seats)\n",
    "car = Car(100, 4, 4)\n",
    "car.speed_up()\n",
    "car.info()"
   ]
  },
  {
   "cell_type": "code",
   "execution_count": 4,
   "id": "49e1dc29",
   "metadata": {},
   "outputs": [],
   "source": [
    "class Truck(Car):\n",
    "    def __init__(self, speed, wheels, seats, loadage):\n",
    "        Car.__init__(self,speed,wheels,seats)\n",
    "        self.loadage = loadage\n",
    "    def load(self):\n",
    "        print('load')\n",
    "    def unload(self):\n",
    "        print('unload')"
   ]
  },
  {
   "cell_type": "code",
   "execution_count": 6,
   "id": "0e874d21",
   "metadata": {},
   "outputs": [
    {
     "name": "stdout",
     "output_type": "stream",
     "text": [
      "load\n",
      "110 6 2\n"
     ]
    }
   ],
   "source": [
    "truck = Truck(100,6,2,30)\n",
    "truck.load()\n",
    "truck.speed_up()\n",
    "truck.info()"
   ]
  },
  {
   "cell_type": "code",
   "execution_count": 7,
   "id": "9d83304e",
   "metadata": {},
   "outputs": [],
   "source": [
    "class Truck(Car):\n",
    "    def __init__(self, speed, wheels, seats, loadage):\n",
    "        Car.__init__(self, speed, wheels, seats)\n",
    "        self.loadage = loadage\n",
    "    def load(self):\n",
    "        print('load')\n",
    "    def unload(self):\n",
    "        print('unload')\n",
    "    def info(self):\n",
    "        print(self.speed, self.wheels, self.seats, self.loadage)"
   ]
  },
  {
   "cell_type": "code",
   "execution_count": 8,
   "id": "9265b537",
   "metadata": {},
   "outputs": [
    {
     "name": "stdout",
     "output_type": "stream",
     "text": [
      "load\n",
      "unload\n",
      "100 6 2 30\n"
     ]
    }
   ],
   "source": [
    "truck = Truck(100, 6, 2, 30)\n",
    "truck.load()\n",
    "truck.unload()\n",
    "truck.info()"
   ]
  },
  {
   "cell_type": "code",
   "execution_count": null,
   "id": "ded47368",
   "metadata": {},
   "outputs": [],
   "source": []
  }
 ],
 "metadata": {
  "kernelspec": {
   "display_name": "Python 3 (ipykernel)",
   "language": "python",
   "name": "python3"
  },
  "language_info": {
   "codemirror_mode": {
    "name": "ipython",
    "version": 3
   },
   "file_extension": ".py",
   "mimetype": "text/x-python",
   "name": "python",
   "nbconvert_exporter": "python",
   "pygments_lexer": "ipython3",
   "version": "3.10.9"
  }
 },
 "nbformat": 4,
 "nbformat_minor": 5
}
