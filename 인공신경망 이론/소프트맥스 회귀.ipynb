{
 "cells": [
  {
   "cell_type": "code",
   "execution_count": 2,
   "metadata": {},
   "outputs": [
    {
     "name": "stderr",
     "output_type": "stream",
     "text": [
      "c:\\anaconda3\\envs\\std\\lib\\site-packages\\numpy\\_distributor_init.py:30: UserWarning: loaded more than 1 DLL from .libs:\n",
      "c:\\anaconda3\\envs\\std\\lib\\site-packages\\numpy\\.libs\\libopenblas64__v0.3.21-gcc_10_3_0.dll\n",
      "c:\\anaconda3\\envs\\std\\lib\\site-packages\\numpy\\.libs\\libopenblas64__v0.3.23-246-g3d31191b-gcc_10_3_0.dll\n",
      "  warnings.warn(\"loaded more than 1 DLL from .libs:\"\n"
     ]
    }
   ],
   "source": [
    "import torch\n",
    "import torch.nn as nn\n",
    "import torch.optim as optim\n",
    "from torch.utils.data import DataLoader, TensorDataset\n",
    "from sklearn.datasets import load_iris\n",
    "from sklearn.model_selection import train_test_split"
   ]
  },
  {
   "cell_type": "code",
   "execution_count": 3,
   "metadata": {},
   "outputs": [],
   "source": [
    "# iris 데이터 가져오기\n",
    "iris = load_iris()\n",
    "# print(iris)\n",
    "x = iris.data\n",
    "y = iris.target"
   ]
  },
  {
   "cell_type": "code",
   "execution_count": 4,
   "metadata": {},
   "outputs": [],
   "source": [
    "# iris 데이터를 나누는 작업 진행\n",
    "x_train, x_test, y_train, y_test = train_test_split(x, y, test_size=0.2, random_state=77)"
   ]
  },
  {
   "cell_type": "code",
   "execution_count": 5,
   "metadata": {},
   "outputs": [],
   "source": [
    "# PyTorch dataloader object for th training set\n",
    "\n",
    "X_train = torch.from_numpy(x_train).float()\n",
    "Y_train = torch.from_numpy(y_train).long()\n",
    "X_test = torch.from_numpy(x_test).float()\n",
    "Y_test = torch.from_numpy(y_test).long()\n",
    "\n",
    "train_dataset = TensorDataset(X_train, Y_train)\n",
    "train_loader = DataLoader(train_dataset, batch_size=10, shuffle=True)\n"
   ]
  },
  {
   "cell_type": "code",
   "execution_count": 6,
   "metadata": {},
   "outputs": [],
   "source": [
    "class SoftmaxRegression(nn.Module):\n",
    "    def __init__(self, input_size, num_classes):\n",
    "        super(SoftmaxRegression, self).__init__()\n",
    "        self.linear = nn.Linear(input_size, num_classes)\n",
    "\n",
    "    def forward(self, x):\n",
    "        out = self.linear(x)\n",
    "\n",
    "        return out\n",
    "    "
   ]
  },
  {
   "cell_type": "code",
   "execution_count": 7,
   "metadata": {},
   "outputs": [],
   "source": [
    "# Set the hyperparameters\n",
    "input_size = 4  # (train data print)\n",
    "num_classes = 3  # (target data print)\n",
    "learning_rate = 0.1\n",
    "num_epochs = 100\n",
    "\n",
    "model = SoftmaxRegression(input_size, num_classes)\n",
    "criterion = nn.CrossEntropyLoss()\n",
    "optimizer = optim.SGD(model.parameters(), lr=learning_rate)\n"
   ]
  },
  {
   "cell_type": "code",
   "execution_count": 11,
   "metadata": {},
   "outputs": [
    {
     "name": "stdout",
     "output_type": "stream",
     "text": [
      "Epoch [1/100], Step [10/12], Loss : 0.0709\n",
      "Epoch [2/100], Step [10/12], Loss : 0.1212\n",
      "Epoch [3/100], Step [10/12], Loss : 0.1740\n",
      "Epoch [4/100], Step [10/12], Loss : 0.0790\n",
      "Epoch [5/100], Step [10/12], Loss : 0.0892\n",
      "Epoch [6/100], Step [10/12], Loss : 0.1311\n",
      "Epoch [7/100], Step [10/12], Loss : 0.1527\n",
      "Epoch [8/100], Step [10/12], Loss : 0.1887\n",
      "Epoch [9/100], Step [10/12], Loss : 0.0453\n",
      "Epoch [10/100], Step [10/12], Loss : 0.0432\n",
      "Epoch [11/100], Step [10/12], Loss : 0.1273\n",
      "Epoch [12/100], Step [10/12], Loss : 0.0383\n",
      "Epoch [13/100], Step [10/12], Loss : 0.0325\n",
      "Epoch [14/100], Step [10/12], Loss : 0.2083\n",
      "Epoch [15/100], Step [10/12], Loss : 0.2443\n",
      "Epoch [16/100], Step [10/12], Loss : 0.1651\n",
      "Epoch [17/100], Step [10/12], Loss : 0.1225\n",
      "Epoch [18/100], Step [10/12], Loss : 0.1086\n",
      "Epoch [19/100], Step [10/12], Loss : 0.1100\n",
      "Epoch [20/100], Step [10/12], Loss : 0.0525\n",
      "Epoch [21/100], Step [10/12], Loss : 0.0825\n",
      "Epoch [22/100], Step [10/12], Loss : 0.0804\n",
      "Epoch [23/100], Step [10/12], Loss : 0.0861\n",
      "Epoch [24/100], Step [10/12], Loss : 0.0595\n",
      "Epoch [25/100], Step [10/12], Loss : 0.0823\n",
      "Epoch [26/100], Step [10/12], Loss : 0.1434\n",
      "Epoch [27/100], Step [10/12], Loss : 0.2479\n",
      "Epoch [28/100], Step [10/12], Loss : 0.1175\n",
      "Epoch [29/100], Step [10/12], Loss : 0.0690\n",
      "Epoch [30/100], Step [10/12], Loss : 0.0376\n",
      "Epoch [31/100], Step [10/12], Loss : 0.1447\n",
      "Epoch [32/100], Step [10/12], Loss : 0.1556\n",
      "Epoch [33/100], Step [10/12], Loss : 0.1561\n",
      "Epoch [34/100], Step [10/12], Loss : 0.0857\n",
      "Epoch [35/100], Step [10/12], Loss : 0.0545\n",
      "Epoch [36/100], Step [10/12], Loss : 0.0780\n",
      "Epoch [37/100], Step [10/12], Loss : 0.0448\n",
      "Epoch [38/100], Step [10/12], Loss : 0.3335\n",
      "Epoch [39/100], Step [10/12], Loss : 0.1162\n",
      "Epoch [40/100], Step [10/12], Loss : 0.1071\n",
      "Epoch [41/100], Step [10/12], Loss : 0.0231\n",
      "Epoch [42/100], Step [10/12], Loss : 0.0909\n",
      "Epoch [43/100], Step [10/12], Loss : 0.0998\n",
      "Epoch [44/100], Step [10/12], Loss : 0.0637\n",
      "Epoch [45/100], Step [10/12], Loss : 0.1224\n",
      "Epoch [46/100], Step [10/12], Loss : 0.0762\n",
      "Epoch [47/100], Step [10/12], Loss : 0.0617\n",
      "Epoch [48/100], Step [10/12], Loss : 0.3173\n",
      "Epoch [49/100], Step [10/12], Loss : 0.0622\n",
      "Epoch [50/100], Step [10/12], Loss : 0.0990\n",
      "Epoch [51/100], Step [10/12], Loss : 0.0389\n",
      "Epoch [52/100], Step [10/12], Loss : 0.0615\n",
      "Epoch [53/100], Step [10/12], Loss : 0.1477\n",
      "Epoch [54/100], Step [10/12], Loss : 0.0777\n",
      "Epoch [55/100], Step [10/12], Loss : 0.0491\n",
      "Epoch [56/100], Step [10/12], Loss : 0.0615\n",
      "Epoch [57/100], Step [10/12], Loss : 0.2321\n",
      "Epoch [58/100], Step [10/12], Loss : 0.0459\n",
      "Epoch [59/100], Step [10/12], Loss : 0.0520\n",
      "Epoch [60/100], Step [10/12], Loss : 0.1105\n",
      "Epoch [61/100], Step [10/12], Loss : 0.1374\n",
      "Epoch [62/100], Step [10/12], Loss : 0.2105\n",
      "Epoch [63/100], Step [10/12], Loss : 0.0615\n",
      "Epoch [64/100], Step [10/12], Loss : 0.0311\n",
      "Epoch [65/100], Step [10/12], Loss : 0.0258\n",
      "Epoch [66/100], Step [10/12], Loss : 0.0957\n",
      "Epoch [67/100], Step [10/12], Loss : 0.1061\n",
      "Epoch [68/100], Step [10/12], Loss : 0.0430\n",
      "Epoch [69/100], Step [10/12], Loss : 0.0484\n",
      "Epoch [70/100], Step [10/12], Loss : 0.0947\n",
      "Epoch [71/100], Step [10/12], Loss : 0.3083\n",
      "Epoch [72/100], Step [10/12], Loss : 0.1458\n",
      "Epoch [73/100], Step [10/12], Loss : 0.0410\n",
      "Epoch [74/100], Step [10/12], Loss : 0.1911\n",
      "Epoch [75/100], Step [10/12], Loss : 0.0692\n",
      "Epoch [76/100], Step [10/12], Loss : 0.1442\n",
      "Epoch [77/100], Step [10/12], Loss : 0.0766\n",
      "Epoch [78/100], Step [10/12], Loss : 0.1210\n",
      "Epoch [79/100], Step [10/12], Loss : 0.0287\n",
      "Epoch [80/100], Step [10/12], Loss : 0.1943\n",
      "Epoch [81/100], Step [10/12], Loss : 0.2197\n",
      "Epoch [82/100], Step [10/12], Loss : 0.1050\n",
      "Epoch [83/100], Step [10/12], Loss : 0.1342\n",
      "Epoch [84/100], Step [10/12], Loss : 0.0782\n",
      "Epoch [85/100], Step [10/12], Loss : 0.0837\n",
      "Epoch [86/100], Step [10/12], Loss : 0.1289\n",
      "Epoch [87/100], Step [10/12], Loss : 0.0962\n",
      "Epoch [88/100], Step [10/12], Loss : 0.0398\n",
      "Epoch [89/100], Step [10/12], Loss : 0.0748\n",
      "Epoch [90/100], Step [10/12], Loss : 0.0588\n",
      "Epoch [91/100], Step [10/12], Loss : 0.0689\n",
      "Epoch [92/100], Step [10/12], Loss : 0.0704\n",
      "Epoch [93/100], Step [10/12], Loss : 0.0691\n",
      "Epoch [94/100], Step [10/12], Loss : 0.1174\n",
      "Epoch [95/100], Step [10/12], Loss : 0.0645\n",
      "Epoch [96/100], Step [10/12], Loss : 0.3048\n",
      "Epoch [97/100], Step [10/12], Loss : 0.0272\n",
      "Epoch [98/100], Step [10/12], Loss : 0.0355\n",
      "Epoch [99/100], Step [10/12], Loss : 0.0793\n",
      "Epoch [100/100], Step [10/12], Loss : 0.0221\n",
      "Test Accuracy: 96.67%\n"
     ]
    }
   ],
   "source": [
    "total_step = len(train_loader)\n",
    "\n",
    "for epoch in range(num_epochs):\n",
    "    for i, (inputs, labels) in enumerate(train_loader):\n",
    "        \n",
    "        # Forward pass\n",
    "        outputs = model(inputs)\n",
    "        loss = criterion(outputs, labels)\n",
    "        \n",
    "        # Backward and optimizer\n",
    "        optimizer.zero_grad()\n",
    "        loss.backward()\n",
    "        optimizer.step()\n",
    "\n",
    "        # print the loss every 10 batches\n",
    "        if (i+1) % 10 == 0:\n",
    "            print(\"Epoch [{}/{}], Step [{}/{}], Loss : {:.4f}\"\n",
    "                  .format(epoch+1, num_epochs, i+1, total_step, loss.item()))\n",
    "\n",
    "with torch.no_grad():\n",
    "    outputs = model(X_test)\n",
    "    _, predicted = torch.max(outputs.data, 1)\n",
    "    accuracy = (predicted == Y_test).sum().item() / len(Y_test)\n",
    "    print(\"Test Accuracy: {:.2f}%\".format(accuracy * 100))"
   ]
  },
  {
   "cell_type": "code",
   "execution_count": null,
   "metadata": {},
   "outputs": [],
   "source": []
  },
  {
   "cell_type": "code",
   "execution_count": null,
   "metadata": {},
   "outputs": [],
   "source": []
  }
 ],
 "metadata": {
  "kernelspec": {
   "display_name": "std",
   "language": "python",
   "name": "python3"
  },
  "language_info": {
   "codemirror_mode": {
    "name": "ipython",
    "version": 3
   },
   "file_extension": ".py",
   "mimetype": "text/x-python",
   "name": "python",
   "nbconvert_exporter": "python",
   "pygments_lexer": "ipython3",
   "version": "3.10.12"
  },
  "orig_nbformat": 4
 },
 "nbformat": 4,
 "nbformat_minor": 2
}
