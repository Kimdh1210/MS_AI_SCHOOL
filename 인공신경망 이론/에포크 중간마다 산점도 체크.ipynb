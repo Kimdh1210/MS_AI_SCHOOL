{
 "cells": [
  {
   "cell_type": "code",
   "execution_count": 1,
   "metadata": {},
   "outputs": [
    {
     "name": "stderr",
     "output_type": "stream",
     "text": [
      "c:\\anaconda3\\envs\\std\\lib\\site-packages\\numpy\\_distributor_init.py:30: UserWarning: loaded more than 1 DLL from .libs:\n",
      "c:\\anaconda3\\envs\\std\\lib\\site-packages\\numpy\\.libs\\libopenblas64__v0.3.21-gcc_10_3_0.dll\n",
      "c:\\anaconda3\\envs\\std\\lib\\site-packages\\numpy\\.libs\\libopenblas64__v0.3.23-246-g3d31191b-gcc_10_3_0.dll\n",
      "  warnings.warn(\"loaded more than 1 DLL from .libs:\"\n"
     ]
    },
    {
     "name": "stdout",
     "output_type": "stream",
     "text": [
      "tensor([[ 9.5375e-01, -1.0369e+00],\n",
      "        [ 2.9768e-01,  1.4086e+00],\n",
      "        [ 1.0190e+00,  3.6947e-01],\n",
      "        [-1.2662e+00,  1.2628e+00],\n",
      "        [ 5.8084e-02, -6.5725e-01],\n",
      "        [ 2.4077e-01, -2.3564e-01],\n",
      "        [-1.9443e+00, -8.7474e-02],\n",
      "        [ 1.0831e+00, -1.4150e+00],\n",
      "        [ 2.2531e+00,  6.7781e-01],\n",
      "        [ 4.1964e-01,  1.0296e+00],\n",
      "        [-7.5227e-01,  1.0283e-03],\n",
      "        [-1.5589e+00,  1.9771e-03],\n",
      "        [-1.0238e+00,  2.0664e+00],\n",
      "        [ 1.5458e+00, -3.9971e-01],\n",
      "        [-2.2777e-01, -6.4031e-01],\n",
      "        [ 1.1809e-01, -5.0478e-01],\n",
      "        [-5.1184e-01,  4.2069e-01],\n",
      "        [ 1.0926e-01,  8.9644e-01],\n",
      "        [ 2.2806e-01,  5.4356e-02],\n",
      "        [-3.2279e-01, -5.6890e-01],\n",
      "        [-1.4870e+00,  1.5149e+00],\n",
      "        [-7.3986e-01, -2.7452e+00],\n",
      "        [ 9.9009e-01,  1.0175e+00],\n",
      "        [-3.9251e-01,  9.9679e-01],\n",
      "        [ 7.9477e-01, -6.8449e-02],\n",
      "        [ 1.7907e+00,  1.6397e-01],\n",
      "        [-3.4231e-01, -1.6312e+00],\n",
      "        [ 3.0143e-01,  3.2341e-02],\n",
      "        [-1.3001e+00, -6.6064e-02],\n",
      "        [ 8.5561e-01, -1.2537e+00],\n",
      "        [ 1.2982e+00, -5.6834e-01],\n",
      "        [-1.5249e+00, -8.9294e-01],\n",
      "        [ 1.1888e-01,  1.2270e+00],\n",
      "        [ 2.0194e-01,  6.3237e-01],\n",
      "        [-2.9841e-01,  1.7344e+00],\n",
      "        [ 1.7595e-01,  5.1141e-01],\n",
      "        [ 3.5649e-02, -9.7099e-01],\n",
      "        [-1.4516e+00, -8.7449e-01],\n",
      "        [ 9.3604e-02,  7.3215e-01],\n",
      "        [ 9.0156e-01, -8.1711e-01],\n",
      "        [-9.2865e-01,  5.9663e-01],\n",
      "        [-3.0819e-03, -2.6203e-01],\n",
      "        [-6.7843e-02, -1.5825e+00],\n",
      "        [-7.0886e-01,  2.4693e-01],\n",
      "        [-6.3150e-01,  4.5986e-01],\n",
      "        [-3.7078e-03, -4.4383e-01],\n",
      "        [ 9.8278e-01, -2.5748e-01],\n",
      "        [ 7.3869e-01,  1.0028e+00],\n",
      "        [-8.2590e-01, -1.8382e-02],\n",
      "        [-8.6479e-02, -1.7728e-01],\n",
      "        [-1.3624e+00,  1.7121e-01],\n",
      "        [-4.4421e-02, -1.3444e+00],\n",
      "        [ 8.8104e-01,  1.4090e+00],\n",
      "        [ 2.1064e-01, -6.7838e-01],\n",
      "        [-3.7586e-01, -1.4208e-01],\n",
      "        [-4.3764e-02,  1.3895e-01],\n",
      "        [ 2.3117e-01,  6.2186e-01],\n",
      "        [ 2.1596e+00, -6.1098e-01],\n",
      "        [-1.2514e+00,  1.5409e-01],\n",
      "        [-2.7356e-01,  2.9832e-02],\n",
      "        [ 2.6173e-01, -1.9648e+00],\n",
      "        [ 3.2700e+00, -6.7679e-01],\n",
      "        [ 4.6285e-01,  7.2348e-01],\n",
      "        [-1.1101e+00, -7.8220e-01],\n",
      "        [ 2.4267e-01,  6.6162e-01],\n",
      "        [ 3.7519e-01,  4.6907e-01],\n",
      "        [-1.0214e+00,  5.9235e-01],\n",
      "        [-1.5276e+00, -4.1153e-01],\n",
      "        [ 7.0388e-01, -3.5323e-01],\n",
      "        [-1.6025e+00, -1.5703e+00],\n",
      "        [-1.4485e+00, -1.9512e-02],\n",
      "        [-9.6638e-01, -1.1647e+00],\n",
      "        [ 8.1998e-01, -1.1204e+00],\n",
      "        [ 4.0380e-01, -7.4393e-01],\n",
      "        [ 7.7820e-01,  1.4516e-01],\n",
      "        [ 6.0082e-01,  7.3525e-02],\n",
      "        [-6.0089e-01, -7.6720e-01],\n",
      "        [-6.9558e-01,  3.0851e-01],\n",
      "        [-7.2943e-02,  4.6663e-01],\n",
      "        [ 9.3600e-01,  3.8498e-01],\n",
      "        [ 2.2721e-01,  2.4860e-01],\n",
      "        [-7.9921e-01, -1.0112e-01],\n",
      "        [ 6.1926e-02,  1.2790e+00],\n",
      "        [-1.5248e+00, -3.5771e-01],\n",
      "        [-1.0370e-01,  3.4889e-01],\n",
      "        [ 1.1832e+00,  3.9692e-01],\n",
      "        [ 4.0199e-01, -1.1295e+00],\n",
      "        [ 2.2368e-02,  7.2664e-03],\n",
      "        [ 4.2687e-01, -5.5893e-01],\n",
      "        [-5.5608e-02,  1.2009e+00],\n",
      "        [-8.3816e-01, -1.7512e-01],\n",
      "        [-2.7818e-01, -7.1514e-01],\n",
      "        [-7.3370e-01,  6.0615e-01],\n",
      "        [-3.8320e-01, -3.8505e-01],\n",
      "        [ 6.0432e-01,  4.5197e-01],\n",
      "        [ 1.5532e+00,  1.7761e+00],\n",
      "        [ 1.5425e+00,  1.5756e+00],\n",
      "        [-1.4930e+00,  1.5583e+00],\n",
      "        [-5.1021e-01, -6.9265e-01],\n",
      "        [-2.0252e+00, -7.8799e-02]])\n",
      "tensor([0., 1., 1., 0., 0., 0., 0., 0., 1., 1., 0., 0., 0., 0., 0., 0., 0., 1.,\n",
      "        1., 0., 0., 0., 1., 0., 0., 1., 0., 1., 0., 0., 0., 0., 1., 1., 0., 1.,\n",
      "        0., 0., 1., 0., 0., 0., 0., 0., 0., 0., 0., 1., 0., 0., 0., 0., 1., 0.,\n",
      "        0., 0., 1., 0., 0., 0., 0., 0., 1., 0., 1., 1., 0., 0., 0., 0., 0., 0.,\n",
      "        0., 0., 1., 1., 0., 0., 0., 1., 1., 0., 1., 0., 0., 1., 0., 1., 0., 0.,\n",
      "        0., 0., 0., 0., 1., 1., 1., 0., 0., 0.])\n"
     ]
    }
   ],
   "source": [
    "import torch\n",
    "import torch.nn as nn\n",
    "import matplotlib.pyplot as plt\n",
    "\n",
    "# 인공신경망 모델 클래스 정의\n",
    "class SimpleNet(nn.Module):\n",
    "    def __init__(self):\n",
    "        super(SimpleNet, self).__init__()\n",
    "        self.fc1 = nn.Linear(2,5)\n",
    "        self.fc2 = nn.Linear(5,1)\n",
    "    \n",
    "    def forward(self, x):\n",
    "        x = torch.relu(self.fc1(x))\n",
    "        x = torch.sigmoid(self.fc2(x))\n",
    "        return x\n",
    "\n",
    "# 데이터 생성\n",
    "X = torch.randn(100, 2)\n",
    "y = ((X[:, 0] > 0) & (X[:, 1] > 0)).float()\n",
    "\n",
    "print(X)\n",
    "print(y)"
   ]
  },
  {
   "cell_type": "code",
   "execution_count": 5,
   "metadata": {},
   "outputs": [
    {
     "name": "stdout",
     "output_type": "stream",
     "text": [
      "SimpleNet(\n",
      "  (fc1): Linear(in_features=2, out_features=5, bias=True)\n",
      "  (fc2): Linear(in_features=5, out_features=1, bias=True)\n",
      ")\n",
      "Parameter containing:\n",
      "tensor([[ 0.6911,  0.6616],\n",
      "        [-0.4476, -0.5758],\n",
      "        [ 0.4111,  0.2877],\n",
      "        [-0.1489,  0.6022],\n",
      "        [-0.1606, -0.3952]], requires_grad=True) Parameter containing:\n",
      "tensor([ 0.3913,  0.5643,  0.6078,  0.6627, -0.6442], requires_grad=True)\n"
     ]
    }
   ],
   "source": [
    "# 모델 생성\n",
    "model = SimpleNet()\n",
    "print(model)\n",
    "print(model.fc1.weight, model.fc1.bias)"
   ]
  },
  {
   "cell_type": "code",
   "execution_count": 6,
   "metadata": {},
   "outputs": [],
   "source": [
    "# 손실 함수와 옵티마이저 정의\n",
    "criterion = nn.BCELoss()\n",
    "optimizer = torch.optim.SGD(model.parameters(), lr=0.1)"
   ]
  },
  {
   "cell_type": "code",
   "execution_count": 11,
   "metadata": {},
   "outputs": [
    {
     "name": "stdout",
     "output_type": "stream",
     "text": [
      "BCE loss tensor(0.7369, grad_fn=<BinaryCrossEntropyBackward0>)\n"
     ]
    },
    {
     "data": {
      "image/png": "[encoded data removed]",
      "text/plain": [
       "<Figure size 640x480 with 1 Axes>"
      ]
     },
     "metadata": {},
     "output_type": "display_data"
    },
    {
     "name": "stdout",
     "output_type": "stream",
     "text": [
      "학습 종료!\n"
     ]
    }
   ],
   "source": [
    "# 학습 시작\n",
    "for epoch in range(100):\n",
    "    # 순전파 단계\n",
    "    y_pred = model(X)\n",
    "\n",
    "    # print(\"예측값\", y_pred)\n",
    "    # print(\"참값\", y)\n",
    "\n",
    "    # 손실 계산\n",
    "    loss = criterion(y_pred.squeeze(), y)\n",
    "\n",
    "    # print(\"BCE loss\" ,loss)\n",
    "    # print(\"학습 전 가중치\", model.fc1.weight, model.fc1.bias)\n",
    "\n",
    "    # 역전파 단계\n",
    "    optimizer.zero_grad()\n",
    "    loss.backward()\n",
    "    optimizer.step()\n",
    "\n",
    "    # print(\"학습 후 가중치\", model.fc1.weight, model.fc1.bias)\n",
    "\n",
    "    if epoch % 100 == 0:\n",
    "        print(\"BCE loss\", loss)\n",
    "\n",
    "        plt.clf()\n",
    "        plt.scatter(X[:, 0], X[:, 1], c=y_pred.detach().numpy().squeeze())\n",
    "        plt.show()\n",
    "\n",
    "print(\"학습 종료!\")\n",
    "\n"
   ]
  },
  {
   "cell_type": "code",
   "execution_count": 14,
   "metadata": {},
   "outputs": [
    {
     "name": "stdout",
     "output_type": "stream",
     "text": [
      "tensor([[0.1913],\n",
      "        [0.2103],\n",
      "        [0.1736],\n",
      "        [0.8416]], grad_fn=<SigmoidBackward0>)\n"
     ]
    }
   ],
   "source": [
    "X = torch.Tensor([[0, 0],\n",
    "                  [-1, 1],\n",
    "                  [1, -1],\n",
    "                  [1, 1]])\n",
    "y_pred = model(X)\n",
    "print(y_pred)"
   ]
  },
  {
   "cell_type": "code",
   "execution_count": 15,
   "metadata": {},
   "outputs": [
    {
     "name": "stdout",
     "output_type": "stream",
     "text": [
      "tensor([0., 0., 0., 1.])\n"
     ]
    }
   ],
   "source": [
    "# 0 0 0 1\n",
    "y = ((X[:, 0] > 0) & (X[:, 1] > 0)).float()\n",
    "print(y)"
   ]
  },
  {
   "cell_type": "code",
   "execution_count": null,
   "metadata": {},
   "outputs": [],
   "source": []
  }
 ],
 "metadata": {
  "kernelspec": {
   "display_name": "std",
   "language": "python",
   "name": "python3"
  },
  "language_info": {
   "codemirror_mode": {
    "name": "ipython",
    "version": 3
   },
   "file_extension": ".py",
   "mimetype": "text/x-python",
   "name": "python",
   "nbconvert_exporter": "python",
   "pygments_lexer": "ipython3",
   "version": "3.10.12"
  },
  "orig_nbformat": 4
 },
 "nbformat": 4,
 "nbformat_minor": 2
}
