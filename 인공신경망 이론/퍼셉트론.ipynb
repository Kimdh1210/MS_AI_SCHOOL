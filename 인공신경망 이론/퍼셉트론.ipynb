{
 "cells": [
  {
   "cell_type": "code",
   "execution_count": 1,
   "metadata": {},
   "outputs": [
    {
     "name": "stderr",
     "output_type": "stream",
     "text": [
      "c:\\anaconda3\\envs\\std\\lib\\site-packages\\numpy\\_distributor_init.py:30: UserWarning: loaded more than 1 DLL from .libs:\n",
      "c:\\anaconda3\\envs\\std\\lib\\site-packages\\numpy\\.libs\\libopenblas64__v0.3.21-gcc_10_3_0.dll\n",
      "c:\\anaconda3\\envs\\std\\lib\\site-packages\\numpy\\.libs\\libopenblas64__v0.3.23-246-g3d31191b-gcc_10_3_0.dll\n",
      "  warnings.warn(\"loaded more than 1 DLL from .libs:\"\n"
     ]
    }
   ],
   "source": [
    "import torch"
   ]
  },
  {
   "cell_type": "code",
   "execution_count": 2,
   "metadata": {},
   "outputs": [
    {
     "name": "stdout",
     "output_type": "stream",
     "text": [
      "tensor([[0., 0.],\n",
      "        [0., 1.],\n",
      "        [1., 0.],\n",
      "        [1., 1.]]) tensor([[0.],\n",
      "        [0.],\n",
      "        [0.],\n",
      "        [1.]])\n"
     ]
    }
   ],
   "source": [
    "# 훈련 데이터 생성\n",
    "x = torch.Tensor(([0,0], [0,1], [1,0], [1,1]))\n",
    "y = torch.Tensor(([0], [0], [0], [1]))\n",
    "\n",
    "print(x, y)"
   ]
  },
  {
   "cell_type": "code",
   "execution_count": 3,
   "metadata": {},
   "outputs": [],
   "source": [
    "# 모델 초기화 \n",
    "w = torch.randn(2,1, requires_grad=True)\n",
    "b = torch.randn(1, requires_grad=True)"
   ]
  },
  {
   "cell_type": "code",
   "execution_count": 4,
   "metadata": {},
   "outputs": [],
   "source": [
    "# 하이퍼 파라미터 설정 \n",
    "lr = 0.1\n",
    "epochs = 10000"
   ]
  },
  {
   "cell_type": "code",
   "execution_count": 5,
   "metadata": {},
   "outputs": [
    {
     "name": "stdout",
     "output_type": "stream",
     "text": [
      "Epoch 1000/10000, Loss : 0.0628\n",
      "Epoch 2000/10000, Loss : 0.0337\n",
      "Epoch 3000/10000, Loss : 0.0221\n",
      "Epoch 4000/10000, Loss : 0.0162\n",
      "Epoch 5000/10000, Loss : 0.0126\n",
      "Epoch 6000/10000, Loss : 0.0103\n",
      "Epoch 7000/10000, Loss : 0.0086\n",
      "Epoch 8000/10000, Loss : 0.0074\n",
      "Epoch 9000/10000, Loss : 0.0065\n",
      "Epoch 10000/10000, Loss : 0.0058\n"
     ]
    }
   ],
   "source": [
    "# train loop\n",
    "for epoch in range(epochs) : \n",
    "    y_pred = torch.sigmoid(x.mm(w) + b)\n",
    "    loss = torch.mean((y-y_pred) ** 2)\n",
    "    \n",
    "    # 기울기 계산 및 가중치 갱신\n",
    "    loss.backward()\n",
    "    with torch.no_grad():\n",
    "        w -= lr*w.grad\n",
    "        b -= lr*b.grad\n",
    "        \n",
    "        # 가중치 변화율 초기화 \n",
    "        w.grad.zero_()\n",
    "        b.grad.zero_()\n",
    "        \n",
    "    if (epoch+1) % 1000 == 0 :\n",
    "        print(f\"Epoch {epoch+1}/{epochs}, Loss : {loss.item():.4f}\")"
   ]
  },
  {
   "cell_type": "code",
   "execution_count": null,
   "metadata": {},
   "outputs": [],
   "source": []
  }
 ],
 "metadata": {
  "kernelspec": {
   "display_name": "std",
   "language": "python",
   "name": "python3"
  },
  "language_info": {
   "codemirror_mode": {
    "name": "ipython",
    "version": 3
   },
   "file_extension": ".py",
   "mimetype": "text/x-python",
   "name": "python",
   "nbconvert_exporter": "python",
   "pygments_lexer": "ipython3",
   "version": "3.10.12"
  },
  "orig_nbformat": 4
 },
 "nbformat": 4,
 "nbformat_minor": 2
}
